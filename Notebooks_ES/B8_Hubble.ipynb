{
 "metadata": {
  "name": "",
  "signature": "sha256:aaf82d1baa1578970d017a1061446a7418c0aaffc9b5d5b265e5d48bdb0cbce6"
 },
 "nbformat": 3,
 "nbformat_minor": 0,
 "worksheets": [
  {
   "cells": [
    {
     "cell_type": "heading",
     "level": 1,
     "metadata": {},
     "source": [
      "El diagrama de Hubble y las supernovas"
     ]
    },
    {
     "cell_type": "markdown",
     "metadata": {},
     "source": [
      "Autor: [Eduardo Mart\u00edn Calleja](http://balbuceosastropy.blogspot.com.es/)"
     ]
    },
    {
     "cell_type": "markdown",
     "metadata": {},
     "source": [
      "El fen\u00f3meno de la expansi\u00f3n del universo, que separa unos de otros todos aquellos objetos c\u00f3smicos que no est\u00e1n unidos por la fuerza de la gravitaci\u00f3n, es un hecho conocido a partir de las observaciones de Hubble en 1929. El ritmo de esta expansi\u00f3n viene regido por la llamada ley de Hubble, que relaciona el valor de corrimiento al rojo observado en el espectro de las galaxias lejanas, con la distancia que nos separa de ellas.\n",
      "\n",
      "La ley de Hubble suele mostrarse mediante un diagrama que representa este corrimiento al rojo, en forma de magnitud con unidades de velocidad ($c \\, z$) en $Km \\, s^{-1}$ con respecto a las distancias medidas en Megaparsec. Claramente la mayor dificultad para elaborar un diagrama de este tipo es conocer las distancias que nos separan de objetos tan lejanos. En esta determinaci\u00f3n, los objetos conocidos como supernovas juegan, tal como veremos, un papel fundamental. Una vez construido este diagrama se aprecia una relaci\u00f3n aproximadamente lineal entre ambas magnitudes, siendo la constante de proporcionalidad $H_0$ la llamada constante de Hubble. El sufijo $ _0$ indica que nos referimos aqu\u00ed a su valor actual, ya que este puede variar con el tiempo en funci\u00f3n del modelo de evoluci\u00f3n del Universo que se adopte. El mejor valor actual de dicha constante es $H_0 = 67.8 \\; Km \\; s^{-1} \\; Mpc^{-1}$.\n",
      "\n",
      "Mi prop\u00f3sito en este art\u00edculo es construir un diagrama de Hubble y obtener un valor aproximado de la constante de Hubble. "
     ]
    },
    {
     "cell_type": "heading",
     "level": 2,
     "metadata": {},
     "source": [
      "Importaciones y referencias"
     ]
    },
    {
     "cell_type": "markdown",
     "metadata": {},
     "source": [
      "Los objetos con los que vamos a construir el diagrama de Hubble ser\u00e1n las supernovas de tipo Ia obtenidas en la **encuesta de supernovas del Sloan Digital Sky Survey (SDSS)**. Puede consultarse la [p\u00e1gina principal](http://www.sdss.org/supernova/aboutsupernova.html) de esta encuesta. Un resumen con enlaces a la documentaci\u00f3n m\u00e1s relevante para este ejercicio puede consultarse [aqu\u00ed](http://www.sdss3.org/dr10/data_access/supernovae.php)\n",
      "\n",
      "En particular, esta es la [tabla de supernovas encontradas por el SDSS](http://classic.sdss.org/supernova/snlist_confirmed.html) en esta encuesta.\n",
      "\n",
      "Un art\u00edculo en wikipedia sobre las supernovas y la utilidad de las supernovas de tipo Ia en el c\u00e1lculo de distancias c\u00f3smicas puede consultarse [aqu\u00ed](http://es.wikipedia.org/wiki/Supernova#Tipo_Ia).\n",
      "\n",
      "[Este](http://capstone2011.cuipblogs.net/files/2011/08/Dunbar-CAPSTONE2011-FinalPoster.pdf) es un poster (en ingl\u00e9s) a un nivel muy accesible conn un prop\u00f3sito similar al de este post, realizar un diagrama de Hubble con datos de la encuesta de supernovas del SDSS."
     ]
    },
    {
     "cell_type": "code",
     "collapsed": false,
     "input": [
      "%matplotlib inline\n",
      "\n",
      "from __future__ import division\n",
      "\n",
      "import re    # Expresiones regulares\n",
      "import numpy as np\n",
      "import matplotlib.pyplot as plt\n",
      "import pandas as pd\n",
      "import quantities as pq\n",
      "import scipy.stats as s\n",
      "\n",
      "# Generar un cuadro con versiones de las librer\u00edas utilizadas en este notebook\n",
      "#https://github.com/jrjohansson/version_information\n",
      "%load_ext version_information\n",
      "%version_information re, numpy, matplotlib, pandas, quantities, scipy"
     ],
     "language": "python",
     "metadata": {},
     "outputs": [
      {
       "html": [
        "<table><tr><th>Software</th><th>Version</th></tr><tr><td>Python</td><td>2.7.9 64bit [GCC 4.4.7 20120313 (Red Hat 4.4.7-1)]</td></tr><tr><td>IPython</td><td>2.3.1</td></tr><tr><td>OS</td><td>Linux 3.13.0 44 generic x86_64 with debian jessie sid</td></tr><tr><td>re</td><td>2.2.1</td></tr><tr><td>numpy</td><td>1.9.1</td></tr><tr><td>matplotlib</td><td>1.4.2</td></tr><tr><td>pandas</td><td>0.15.2</td></tr><tr><td>quantities</td><td>0.10.1</td></tr><tr><td>scipy</td><td>0.15.1</td></tr><tr><td colspan='2'>Sat Jan 24 17:14:54 2015 CET</td></tr></table>"
       ],
       "json": [
        "{\"Software versions\": [{\"version\": \"2.7.9 64bit [GCC 4.4.7 20120313 (Red Hat 4.4.7-1)]\", \"module\": \"Python\"}, {\"version\": \"2.3.1\", \"module\": \"IPython\"}, {\"version\": \"Linux 3.13.0 44 generic x86_64 with debian jessie sid\", \"module\": \"OS\"}, {\"version\": \"2.2.1\", \"module\": \"re\"}, {\"version\": \"1.9.1\", \"module\": \"numpy\"}, {\"version\": \"1.4.2\", \"module\": \"matplotlib\"}, {\"version\": \"0.15.2\", \"module\": \"pandas\"}, {\"version\": \"0.10.1\", \"module\": \"quantities\"}, {\"version\": \"0.15.1\", \"module\": \"scipy\"}]}"
       ],
       "latex": [
        "\\begin{tabular}{|l|l|}\\hline\n",
        "{\\bf Software} & {\\bf Version} \\\\ \\hline\\hline\n",
        "Python & 2.7.9 64bit [GCC 4.4.7 20120313 (Red Hat 4.4.7-1)] \\\\ \\hline\n",
        "IPython & 2.3.1 \\\\ \\hline\n",
        "OS & Linux 3.13.0 44 generic x86\\_64 with debian jessie sid \\\\ \\hline\n",
        "re & 2.2.1 \\\\ \\hline\n",
        "numpy & 1.9.1 \\\\ \\hline\n",
        "matplotlib & 1.4.2 \\\\ \\hline\n",
        "pandas & 0.15.2 \\\\ \\hline\n",
        "quantities & 0.10.1 \\\\ \\hline\n",
        "scipy & 0.15.1 \\\\ \\hline\n",
        "\\hline \\multicolumn{2}{|l|}{Sat Jan 24 17:14:54 2015 CET} \\\\ \\hline\n",
        "\\end{tabular}\n"
       ],
       "metadata": {},
       "output_type": "pyout",
       "prompt_number": 1,
       "text": [
        "Software versions\n",
        "Python 2.7.9 64bit [GCC 4.4.7 20120313 (Red Hat 4.4.7-1)]\n",
        "IPython 2.3.1\n",
        "OS Linux 3.13.0 44 generic x86_64 with debian jessie sid\n",
        "re 2.2.1\n",
        "numpy 1.9.1\n",
        "matplotlib 1.4.2\n",
        "pandas 0.15.2\n",
        "quantities 0.10.1\n",
        "scipy 0.15.1\n",
        "Sat Jan 24 17:14:54 2015 CET"
       ]
      }
     ],
     "prompt_number": 1
    },
    {
     "cell_type": "code",
     "collapsed": false,
     "input": [
      "# Definici\u00f3n de nuevas constantes:\n",
      "earth_radius = 6378160.0 * pq.m\n",
      "moon_radius = 1740000.0 * pq.m\n",
      "sun_radius = 695000000.0 *pq.m\n",
      "earth_mass =  5.97219e24 * pq.kg\n",
      "sun_mass = 332946 * earth_mass\n",
      "Hubble_constant = 67.80 * (pq.km/pq.s)/(1e6*pq.pc)\n",
      "\n",
      "# Definici\u00f3n de nuevas unidades\n",
      "Mly = pq.UnitQuantity('megalight_year', 1e6*pq.ly, symbol = 'Mly')\n",
      "Mpc = pq.UnitQuantity('megaparsec', 1e6*pq.pc, symbol = 'Mpc')"
     ],
     "language": "python",
     "metadata": {},
     "outputs": [],
     "prompt_number": 2
    },
    {
     "cell_type": "heading",
     "level": 2,
     "metadata": {},
     "source": [
      "Un poco de teoria"
     ]
    },
    {
     "cell_type": "heading",
     "level": 3,
     "metadata": {},
     "source": [
      "La expansi\u00f3n homogenea e is\u00f3tropa del universo"
     ]
    },
    {
     "cell_type": "markdown",
     "metadata": {},
     "source": [
      "Una caracter\u00edstica de la expansi\u00f3n del universo es que es homogenea (igual en todos los puntos) e is\u00f3tropa (igual en todas las direcciones). Una expansi\u00f3n de estas caracter\u00edsticas conserva la forma de los objetos. Por ejemplo, un tri\u00e1ngulo se convertir\u00eda, pasado un cierto timpo, en un tri\u00e1ngulo mayor pero semejante al primero. La raz\u00f3n de semejanza, llamada **factor de escala** depender\u00e1 del instante $t$ considerado, y por ello se la designa por $a(t)$.\n",
      "\n",
      "Consideremos pues dos galaxias, y sea $\\vec r(t_0)$ el vector que los une en el instante $t_0$, que podemos suponer por ejemplo que es el momento actual. En otro instante $t$ el vector que une estos mismos dos objetos ser\u00e1:\n",
      "\n",
      "$$\\vec r(t) = a(t) \\, \\vec r(t_0)$$\n",
      "\n",
      "La velocidad de alejamiento de las dos galaxias ser\u00e1 pues (representando con un punto la derivada con respecto al tiempo):\n",
      "\n",
      "$$\\vec v_r(t) = \\dot a(t) \\, \\vec r(t_0) = \\dot a(t) \\frac{\\vec r(t)}{a(t)}$$\n",
      "\n",
      "Es decir:\n",
      "\n",
      "$$ \\vec v_r = \\frac{\\dot a}{a} \\vec r $$\n",
      "\n",
      "Y llamando $H(t) = \\dot a(t) / a(t)$:\n",
      "\n",
      "$$\\vec v_r = H \\vec r$$\n",
      "\n",
      "O bien, eliminando la notaci\u00f3n vectorial: $v = H \\, r$\n",
      "\n",
      "Es decir, la velocidad de alejamiento mutuo de las galaxias es proporcional a la distancia que las separa. El factor de proporcionalidad, $H$ puede variar con el tiempo, pero en cada instante es la mismo en todos los puntos del universo. $H = H(t)$ es conocido como **par\u00e1metro de Hubble** y como hemos mencionado no es constante puesto que puede cambiar con el tiempo. Pero lo m\u00e1s importante es tener en cuenta que esta relaci\u00f3n entre velocidades y distancias es una propiedad fundamental, exacta, consecuencia matem\u00e1tica de una expansi\u00f3n homogenea e is\u00f3tropa del universo, y no debe confundirse con la ley de Hubble que veremos a continuaci\u00f3n y que tiene un car\u00e1cter observacional.\n",
      "\n",
      "\n"
     ]
    },
    {
     "cell_type": "heading",
     "level": 3,
     "metadata": {},
     "source": [
      "Corrimiento c\u00f3smico hacia el rojo"
     ]
    },
    {
     "cell_type": "markdown",
     "metadata": {},
     "source": [
      "Cuando observamos la luz emitida en cualquier longitud de onda por un objeto alejado, se constata una diferencia entre la longitud de onda medida por el observador y la de la luz emitida por el objeto. Esta discrepancia se conoce como **corrimiento al rojo** y se caracteriza por la cantidad sin unidades $z$ definida como:\n",
      "\n",
      "$$z = \\frac{\\lambda_{\\text{obs}}-\\lambda_{\\text{emit}}}{\\lambda_{\\text{emit}}} = \\frac{\\Delta \\lambda}{\\lambda_{emit}}$$\n",
      "\n",
      "Que tambi\u00e9n se expresa como:\n",
      "\n",
      "$$ z + 1 = \\frac{\\lambda_{obs}}{\\lambda_{emit}} $$\n",
      "\n",
      "Ahora solo voy a considerar el efecto de corrimiento al rojo que es consecuencia de la expansi\u00f3n del universo. Si imaginamos este como una cuadr\u00edcula en expansi\u00f3n, estar\u00edamos en el caso en que tanto la fuente emisora como el observador ocupan nodos de esta cuadr\u00edcula. Es decir, suponemos que no existen movimientos peculiares propios de cada objeto (en realidad siempre existir\u00e1n, pero dadas las grandes distancias que se consideran, su efecto ser\u00e1 despreciable).\n",
      "\n",
      "Pues bien, en este caso puede demostrarse que la longitud de onda instantanea $\\lambda(t)$ es proporcional al factor de escala, y se puede escribir:\n",
      "\n",
      "$$\\lambda = \\text{cte} \\cdot a   \\Rightarrow \\lambda \\propto a$$\n",
      "\n",
      "Es decir, al expandirse el espacio, la longitud de onda se expande en la misma proporci\u00f3n, y midiendo la longitud de onda recibida y comparandola con la emitida, es posible saber cuanto se ha expandido el universo mientras que la luz ha estado viajando hasta llegar a nosotros. Es como si la expansi\u00f3n del universo \"estirara\" las ondas de luz que viajan a su trav\u00e9s.\n",
      "\n",
      "Por ejemplo, si en el instante $t_{emit}$ se emite un pulso luminoso y nosotros lo recibimos en el instante $t_{ahora}$, podremos escribir:\n",
      "\n",
      "$$1 + z = \\frac{\\lambda_{ahora}}{\\lambda_{emit}} = \\frac{a(t_{ahora})}{a(t_{emit})}$$\n",
      "\n",
      "A este corrimiento al rojo, que no es una manifestaci\u00f3n del efecto Doppler, sino que es consecuencia exclusivamente de la expansi\u00f3n del universo, y est\u00e1, como se ha visto, \u00edntimamente relacionado con el factor de escala de la expansi\u00f3n, se le llama **corrimiento al rojo cosmol\u00f3gico**, y es al que nos referiremos en lo sucesivo en este post."
     ]
    },
    {
     "cell_type": "heading",
     "level": 3,
     "metadata": {},
     "source": [
      "Ley de Hubble"
     ]
    },
    {
     "cell_type": "markdown",
     "metadata": {},
     "source": [
      "Como ya hemos comentado, en 1929 Hubble formul\u00f3 su famosa ley que afirma la proporcionalidad entre la cantidad de corrimiento al rojo medida en el espectro de la luz que observamos proveniente de las galaxias, y su distancia obtenida por diversos m\u00e9todos, aunque principalmente mediante la utilizaci\u00f3n del m\u00f3dulo de distancia resultante de la comparaci\u00f3n entre la magnitud absoluta y la magnitud aparente del objeto:\n",
      "\n",
      "$$ z = \\frac{H_0}{c}d $$\n",
      "\n",
      "En su momento, Hubble interpret\u00f3 el corrimiento al rojo de las galaxias como una manifestaci\u00f3n del efecto Doppler como consecuencia de su alejamiento de nosotros. Como por otro lado, para valores de z peque\u00f1os el efecto Doppler admite la aproximaci\u00f3n $v \\approx cz$, siendo $v$ la velocidad de alejamiento de la fuente, la ley de Hubble se escribe a menudo como $v = H_0 d$, si bien, para dejar claro el m\u00e9todo de obtenci\u00f3n de esta velocidad, es preferible escribir la ley de Hubble como:\n",
      "\n",
      "$$ c \\, z = H_0 \\, d $$\n",
      "\n",
      "Sobre esto cabe hacer una serie de precisiones:\n",
      "\n",
      "* A diferencia de la ley te\u00f3rica $v = H(t) \\, r$, la ley de Hubble $c \\, z = H_0 \\, d$ es  puramente experimental, siendo el resultado de m\u00faltiples observaciones. De hecho, esta relaci\u00f3n lineal deja de cumplirse para altos valores de z\n",
      "\n",
      "* La distancia $r$ que aparece en la relaci\u00f3n te\u00f3rica entre velocidades de recesi\u00f3n y distancias, es la distancia propia, exacta, que nos separa del objeto, medida en un sistema de referencia inercial del observador. Es decir, ser\u00eda la distancia que mediriamos poniendo una a continuaci\u00f3n de otra reglas que no se expanden con el universo.\n",
      "\n",
      "* Por el contrario, $d$ (observese el cambio de notaci\u00f3n) es la distancia estimada por diferentes m\u00e9todos de observaci\u00f3n. Lo m\u00e1s frecuente es que d sea la \"distancia de luminosidad\" $d_L$ calculada mediante el m\u00f3dulo de distancia que por ejemplo se vio en este [post](http://balbuceosastropy.blogspot.com.es/2013/10/el-color-de-los-objetos-celestes.html). La distancia de luminosidad proporciona una buena aproximaci\u00f3n a la distancia propia $r$ para objetos \"pr\u00f3ximos\", pero se desvia de ella en el caso de los objetos m\u00e1s lejanos.\n",
      "\n",
      "* La ley $v = H(t) \\, r$ relaciona velocidades y distancias en el momento \"actual\", es decir, son velocidades y distancias ahora, en el momento de hacer la observaci\u00f3n, medidas en el tiempo propio del observador. En cambio, $z$ y $d$ est\u00e1n referidos al momento en que la luz fue emitida por el objeto observado.\n",
      "\n",
      "* Debido a la coincidencia de la velocidad $v$ con la magnitud $c \\, z$ para valores peque\u00f1os de $z$, podemos escribir: $H(t_{actual}) = H_0$. La constante de Hubble es el valor que toma, en el instante actual, el par\u00e1metro de Hubble.\n",
      "\n",
      "Una excelente explicaci\u00f3n de todas estas sutilezas en relaci\u00f3n con la ley de Hubble se puede encontrar en las notas del [curso de astronom\u00eda extragal\u00e1ctica](http://www.astro.virginia.edu/class/whittle/astr553/Topic16/Lecture_16.html) de Mark Whittle.\n",
      "\n",
      "Tras esta introducci\u00f3n te\u00f3rica paso a obtener el diagrama de Hubble correspondiente a las supernovas de tipo Ia de la encuesta de supernovas del SDSS."
     ]
    },
    {
     "cell_type": "heading",
     "level": 2,
     "metadata": {},
     "source": [
      "C\u00e1lculo de la distancia a una supernova"
     ]
    },
    {
     "cell_type": "markdown",
     "metadata": {},
     "source": [
      "Tal como se ha comentado, centrar\u00e9 mi atenci\u00f3n en las supernovas de tipo Ia. Sus principales caracter\u00edsticas con vistas a su utilizaci\u00f3n en la elaboraci\u00f3n de un diagrama de Hubble son las siguientes:\n",
      "\n",
      "* Su magnitud absoluta m\u00e1xima en los filtros azul (B) y visual (V) en el sistema fotom\u00e9rico UBV de Johnson es:\n",
      "\n",
      "    $$M_U \\approx M_V = -19.3 \\pm 0.3$$\n",
      "\n",
      "* La magnitud aparente $m$ se determina examinando **su curva de luz** que es una curva que representa la evoluci\u00f3n de su magnitud $m$ en funci\u00f3n del tiempo.\n",
      "\n",
      "* Al ser (aproximadamente) fija su magnitud absoluta $M$, se dice que las supernovas de tipo Ia son \"candelas est\u00e1ndar\".\n",
      "\n",
      "* Una vez disponemos del dato de magnitud relativa $m$, podemos calcular la distancia utilizando el **m\u00f3dulo de distancia**, que expresando la distancia $d_{Mpc}$ en Megaparsec se formula como:\n",
      "\n",
      "    $$\\mu = m - M = 5 \\, \\log_{10}d_{Mpc} + 25$$"
     ]
    },
    {
     "cell_type": "code",
     "collapsed": false,
     "input": [
      "# Ejemplo: supongamos que en la curva de luz de la supernova Ia\n",
      "# medimos una magnitud aparente con el filtro V de 19.5\n",
      "m = 19.5\n",
      "M = -19.3\n",
      "k = (m-M)/5 - 5\n",
      "d = 10**k\n",
      "print \"La distancia de luminosidad es de %d Mpc\" %d"
     ],
     "language": "python",
     "metadata": {},
     "outputs": [
      {
       "output_type": "stream",
       "stream": "stdout",
       "text": [
        "La distancia de luminosidad es de 575 Mpc\n"
       ]
      }
     ],
     "prompt_number": 3
    },
    {
     "cell_type": "markdown",
     "metadata": {},
     "source": [
      "Para calcular la magnitud m\u00e1xima pueden aplicarse correcciones adicionales, siendo probablemente la m\u00e1s importante la [Phillips relationship](http://en.wikipedia.org/wiki/Phillips_relationship), que no vamos a utilizar en este post."
     ]
    },
    {
     "cell_type": "heading",
     "level": 3,
     "metadata": {},
     "source": [
      "Lectura de las curvas de luz"
     ]
    },
    {
     "cell_type": "markdown",
     "metadata": {},
     "source": [
      "Para progresar en nuestro estudio necesitaremos las curvas de luz de las supernovas de tipo Ia identificadas por la encuesta del SDSS. Estas han sido publicadas en el siguiente art\u00edculo: [\"The Sloan Digital Sky Survey-II: Photometry and Supernova Ia Light Curves from the 2005 data\"](http://arxiv.org/abs/0908.4277) de Holtzman et al 2008, AJ, 136, 2306.\n",
      "\n",
      "Realmente lo que nos van a interesar m\u00e1s son las propias curvas de luz en formato electr\u00f3nico, las cuales pueden descargarse de la propia p\u00e1gina del [SDSS Supernova Survey](http://classic.sdss.org/supernova/lightcurves.html)\n",
      "\n",
      "As\u00ed pues, lo primero que debemos hacer es descargar todos estos ficheros en un subdirectorio de nuestro directorio de trabajo. En mi caso este subdirectorio va a llamarse \"SDSS_light_curves\". Lo que sigue a continuaci\u00f3n asume que ya se han descargado las curvas de luz en dicho directorio."
     ]
    },
    {
     "cell_type": "code",
     "collapsed": false,
     "input": [
      "# Lista con nombres de todos los ficheros en el subdirectorio\n",
      "lc_files = !ls ../SDSS_light_curves\n",
      "lc_files = list(lc_files.n.split('\\n'))\n",
      "lc_files = lc_files[1:]    # Eliminamos de la lista el fichero ReadMe"
     ],
     "language": "python",
     "metadata": {},
     "outputs": [],
     "prompt_number": 4
    },
    {
     "cell_type": "code",
     "collapsed": false,
     "input": [
      "#Una muestra de los nombres\n",
      "print lc_files[0:3]"
     ],
     "language": "python",
     "metadata": {},
     "outputs": [
      {
       "output_type": "stream",
       "stream": "stdout",
       "text": [
        "['SN10028.snphot-5.04.sum', 'SN10096.snphot-5.04.sum', 'SN10106.snphot-5.04.sum']\n"
       ]
      }
     ],
     "prompt_number": 5
    },
    {
     "cell_type": "markdown",
     "metadata": {},
     "source": [
      "Abriendo uno cualquiera de estos ficheros con un editor de texto se observa que las 18 primeras filas contienen una descripci\u00f3n de los diferentes campos de los datos. La l\u00ednea 19 es una l\u00ednea de cabecera con los nombres de las columnas de datos, y luego hay una serie de l\u00edneas con datos separados por espacios en blanco. Se va a leer a continuaci\u00f3n el primero de los ficheros creando un dataframe de Pandas con los campos que nos interesan. Una vez creado el dataframe con los datos del primer fichero, recorrer\u00e9 todos los ficheros en el subdirectorio agregando a nuestro dataframe los datos de la \"light curve\" de cada supernova."
     ]
    },
    {
     "cell_type": "code",
     "collapsed": false,
     "input": [
      "filename = lc_files[0]\n",
      "df = pd.read_table('../SDSS_light_curves/'+filename, \n",
      "     skiprows=18, sep=r'\\s+') #Separaci\u00f3n por espacios\n",
      "df.columns"
     ],
     "language": "python",
     "metadata": {},
     "outputs": [
      {
       "metadata": {},
       "output_type": "pyout",
       "prompt_number": 6,
       "text": [
        "Index([u'#FLAG', u'MJD', u'FILT', u'MAG', u'MERR', u'MSKYERR', u'MGALERR', u'FLUX', u'FLUXERR', u'SKYERR', u'GALERR', u'NPRE', u'TELE', u'RUN', u'STRIP'], dtype='object')"
       ]
      }
     ],
     "prompt_number": 6
    },
    {
     "cell_type": "code",
     "collapsed": false,
     "input": [
      "# Utilizar\u00e9 solamente las cuatro primeras columnas\n",
      "df = df.ix[:,0:4]\n",
      "\n",
      "# Cambiando el nombre de la primera columna\n",
      "df = df.rename(columns={'#FLAG':'FLAG'})\n",
      "df.head()"
     ],
     "language": "python",
     "metadata": {},
     "outputs": [
      {
       "html": [
        "<div style=\"max-height:1000px;max-width:1500px;overflow:auto;\">\n",
        "<table border=\"1\" class=\"dataframe\">\n",
        "  <thead>\n",
        "    <tr style=\"text-align: right;\">\n",
        "      <th></th>\n",
        "      <th>FLAG</th>\n",
        "      <th>MJD</th>\n",
        "      <th>FILT</th>\n",
        "      <th>MAG</th>\n",
        "    </tr>\n",
        "  </thead>\n",
        "  <tbody>\n",
        "    <tr>\n",
        "      <th>0</th>\n",
        "      <td>  0</td>\n",
        "      <td> 53616.363706</td>\n",
        "      <td> 1</td>\n",
        "      <td> 25.659</td>\n",
        "    </tr>\n",
        "    <tr>\n",
        "      <th>1</th>\n",
        "      <td> 32</td>\n",
        "      <td> 53616.360389</td>\n",
        "      <td> 2</td>\n",
        "      <td> 22.739</td>\n",
        "    </tr>\n",
        "    <tr>\n",
        "      <th>2</th>\n",
        "      <td>  0</td>\n",
        "      <td> 53616.361218</td>\n",
        "      <td> 3</td>\n",
        "      <td> 27.020</td>\n",
        "    </tr>\n",
        "    <tr>\n",
        "      <th>3</th>\n",
        "      <td> 32</td>\n",
        "      <td> 53616.362877</td>\n",
        "      <td> 4</td>\n",
        "      <td> 21.498</td>\n",
        "    </tr>\n",
        "    <tr>\n",
        "      <th>4</th>\n",
        "      <td>  4</td>\n",
        "      <td> 53616.362048</td>\n",
        "      <td> 0</td>\n",
        "      <td> 25.049</td>\n",
        "    </tr>\n",
        "  </tbody>\n",
        "</table>\n",
        "</div>"
       ],
       "metadata": {},
       "output_type": "pyout",
       "prompt_number": 7,
       "text": [
        "   FLAG           MJD  FILT     MAG\n",
        "0     0  53616.363706     1  25.659\n",
        "1    32  53616.360389     2  22.739\n",
        "2     0  53616.361218     3  27.020\n",
        "3    32  53616.362877     4  21.498\n",
        "4     4  53616.362048     0  25.049"
       ]
      }
     ],
     "prompt_number": 7
    },
    {
     "cell_type": "markdown",
     "metadata": {},
     "source": [
      "A continuaci\u00f3n se extraer\u00e1 el valor del redshift \"Z\" que se encuentra en la segunda l\u00ednea del fichero:"
     ]
    },
    {
     "cell_type": "code",
     "collapsed": false,
     "input": [
      "with open('../SDSS_light_curves/'+filename) as f:\n",
      "    f.readline()\n",
      "    scndline = f.readline()\n",
      "resp = re.search(r'[\\d.]+', scndline)  # Usamos una expresi\u00f3n regular\n",
      "Z = resp.group()\n",
      "print scndline\n",
      "print type(Z), Z"
     ],
     "language": "python",
     "metadata": {},
     "outputs": [
      {
       "output_type": "stream",
       "stream": "stdout",
       "text": [
        "# Z:  0.06533 ZERR:  0.00016 SDSS TYPE:  120\n",
        "\n",
        "<type 'str'> 0.06533\n"
       ]
      }
     ],
     "prompt_number": 8
    },
    {
     "cell_type": "markdown",
     "metadata": {},
     "source": [
      "Y a\u00f1adimos a nuestro dataframe una columna con el valor de Z, convirtiendolo a n\u00famero flotante"
     ]
    },
    {
     "cell_type": "code",
     "collapsed": false,
     "input": [
      "df['Z'] = float(Z)"
     ],
     "language": "python",
     "metadata": {},
     "outputs": [],
     "prompt_number": 9
    },
    {
     "cell_type": "markdown",
     "metadata": {},
     "source": [
      "Tambi\u00e9n tendremos que incluir en el dataframe el id de la supernova, el cual puede extraerse del nombre del fichero:"
     ]
    },
    {
     "cell_type": "code",
     "collapsed": false,
     "input": [
      "print filename"
     ],
     "language": "python",
     "metadata": {},
     "outputs": [
      {
       "output_type": "stream",
       "stream": "stdout",
       "text": [
        "SN10028.snphot-5.04.sum\n"
       ]
      }
     ],
     "prompt_number": 10
    },
    {
     "cell_type": "code",
     "collapsed": false,
     "input": [
      "# El id de la supernova lo vamos a obtener del nombre del fichero\n",
      "# mediante una expresi\u00f3n regular\n",
      "resp = re.search(r'\\w+', filename)\n",
      "SN = resp.group()\n",
      "print SN"
     ],
     "language": "python",
     "metadata": {},
     "outputs": [
      {
       "output_type": "stream",
       "stream": "stdout",
       "text": [
        "SN10028\n"
       ]
      }
     ],
     "prompt_number": 11
    },
    {
     "cell_type": "markdown",
     "metadata": {},
     "source": [
      "A continuaci\u00f3n, se va a a\u00f1adir una columna al dataframe con el id de la supernova"
     ]
    },
    {
     "cell_type": "code",
     "collapsed": false,
     "input": [
      "df['SN'] = SN"
     ],
     "language": "python",
     "metadata": {},
     "outputs": [],
     "prompt_number": 12
    },
    {
     "cell_type": "code",
     "collapsed": false,
     "input": [
      "df.head() # Una muestra de los datos"
     ],
     "language": "python",
     "metadata": {},
     "outputs": [
      {
       "html": [
        "<div style=\"max-height:1000px;max-width:1500px;overflow:auto;\">\n",
        "<table border=\"1\" class=\"dataframe\">\n",
        "  <thead>\n",
        "    <tr style=\"text-align: right;\">\n",
        "      <th></th>\n",
        "      <th>FLAG</th>\n",
        "      <th>MJD</th>\n",
        "      <th>FILT</th>\n",
        "      <th>MAG</th>\n",
        "      <th>Z</th>\n",
        "      <th>SN</th>\n",
        "    </tr>\n",
        "  </thead>\n",
        "  <tbody>\n",
        "    <tr>\n",
        "      <th>0</th>\n",
        "      <td>  0</td>\n",
        "      <td> 53616.363706</td>\n",
        "      <td> 1</td>\n",
        "      <td> 25.659</td>\n",
        "      <td> 0.06533</td>\n",
        "      <td> SN10028</td>\n",
        "    </tr>\n",
        "    <tr>\n",
        "      <th>1</th>\n",
        "      <td> 32</td>\n",
        "      <td> 53616.360389</td>\n",
        "      <td> 2</td>\n",
        "      <td> 22.739</td>\n",
        "      <td> 0.06533</td>\n",
        "      <td> SN10028</td>\n",
        "    </tr>\n",
        "    <tr>\n",
        "      <th>2</th>\n",
        "      <td>  0</td>\n",
        "      <td> 53616.361218</td>\n",
        "      <td> 3</td>\n",
        "      <td> 27.020</td>\n",
        "      <td> 0.06533</td>\n",
        "      <td> SN10028</td>\n",
        "    </tr>\n",
        "    <tr>\n",
        "      <th>3</th>\n",
        "      <td> 32</td>\n",
        "      <td> 53616.362877</td>\n",
        "      <td> 4</td>\n",
        "      <td> 21.498</td>\n",
        "      <td> 0.06533</td>\n",
        "      <td> SN10028</td>\n",
        "    </tr>\n",
        "    <tr>\n",
        "      <th>4</th>\n",
        "      <td>  4</td>\n",
        "      <td> 53616.362048</td>\n",
        "      <td> 0</td>\n",
        "      <td> 25.049</td>\n",
        "      <td> 0.06533</td>\n",
        "      <td> SN10028</td>\n",
        "    </tr>\n",
        "  </tbody>\n",
        "</table>\n",
        "</div>"
       ],
       "metadata": {},
       "output_type": "pyout",
       "prompt_number": 13,
       "text": [
        "   FLAG           MJD  FILT     MAG        Z       SN\n",
        "0     0  53616.363706     1  25.659  0.06533  SN10028\n",
        "1    32  53616.360389     2  22.739  0.06533  SN10028\n",
        "2     0  53616.361218     3  27.020  0.06533  SN10028\n",
        "3    32  53616.362877     4  21.498  0.06533  SN10028\n",
        "4     4  53616.362048     0  25.049  0.06533  SN10028"
       ]
      }
     ],
     "prompt_number": 13
    },
    {
     "cell_type": "markdown",
     "metadata": {},
     "source": [
      "Este es el modelo de dataframe que queremos. Ahora vamos a recorrer los nombres de ficheros restantes agregando filas. "
     ]
    },
    {
     "cell_type": "code",
     "collapsed": false,
     "input": [
      "for filename in lc_files[1:]:\n",
      "    dftemp = pd.read_table('../SDSS_light_curves/'+filename, \n",
      "                           skiprows=18, sep=r'\\s+')\n",
      "    dftemp = dftemp.ix[:,0:4]\n",
      "    dftemp = dftemp.rename(columns={'#FLAG':'FLAG'})\n",
      "    with open('../SDSS_light_curves/'+filename) as f:\n",
      "        f.readline()\n",
      "        scndline = f.readline()\n",
      "    resp = re.search(r'[\\d.]+', scndline)\n",
      "    Z = resp.group()\n",
      "    dftemp['Z'] = float(Z)\n",
      "    resp = re.search(r'\\w+', filename)\n",
      "    SN = resp.group()\n",
      "    dftemp['SN'] = SN\n",
      "    df = pd.concat([df, dftemp], ignore_index=True)"
     ],
     "language": "python",
     "metadata": {},
     "outputs": [],
     "prompt_number": 14
    },
    {
     "cell_type": "code",
     "collapsed": false,
     "input": [
      "df.info()"
     ],
     "language": "python",
     "metadata": {},
     "outputs": [
      {
       "output_type": "stream",
       "stream": "stdout",
       "text": [
        "<class 'pandas.core.frame.DataFrame'>\n",
        "Int64Index: 16708 entries, 0 to 16707\n",
        "Data columns (total 6 columns):\n",
        "FLAG    16708 non-null int64\n",
        "MJD     16708 non-null float64\n",
        "FILT    16708 non-null int64\n",
        "MAG     16708 non-null float64\n",
        "Z       16708 non-null float64\n",
        "SN      16708 non-null object\n",
        "dtypes: float64(3), int64(2), object(1)\n",
        "memory usage: 913.7+ KB\n"
       ]
      }
     ],
     "prompt_number": 15
    },
    {
     "cell_type": "code",
     "collapsed": false,
     "input": [
      "df[100:110] # Muestra de los datos"
     ],
     "language": "python",
     "metadata": {},
     "outputs": [
      {
       "html": [
        "<div style=\"max-height:1000px;max-width:1500px;overflow:auto;\">\n",
        "<table border=\"1\" class=\"dataframe\">\n",
        "  <thead>\n",
        "    <tr style=\"text-align: right;\">\n",
        "      <th></th>\n",
        "      <th>FLAG</th>\n",
        "      <th>MJD</th>\n",
        "      <th>FILT</th>\n",
        "      <th>MAG</th>\n",
        "      <th>Z</th>\n",
        "      <th>SN</th>\n",
        "    </tr>\n",
        "  </thead>\n",
        "  <tbody>\n",
        "    <tr>\n",
        "      <th>100</th>\n",
        "      <td>   32</td>\n",
        "      <td> 53704.265479</td>\n",
        "      <td> 1</td>\n",
        "      <td> 18.955</td>\n",
        "      <td> 0.06533</td>\n",
        "      <td> SN10028</td>\n",
        "    </tr>\n",
        "    <tr>\n",
        "      <th>101</th>\n",
        "      <td> 1184</td>\n",
        "      <td> 53704.262162</td>\n",
        "      <td> 2</td>\n",
        "      <td> 18.825</td>\n",
        "      <td> 0.06533</td>\n",
        "      <td> SN10028</td>\n",
        "    </tr>\n",
        "    <tr>\n",
        "      <th>102</th>\n",
        "      <td>   32</td>\n",
        "      <td> 53704.262991</td>\n",
        "      <td> 3</td>\n",
        "      <td> 19.032</td>\n",
        "      <td> 0.06533</td>\n",
        "      <td> SN10028</td>\n",
        "    </tr>\n",
        "    <tr>\n",
        "      <th>103</th>\n",
        "      <td>  160</td>\n",
        "      <td> 53704.264650</td>\n",
        "      <td> 4</td>\n",
        "      <td> 19.148</td>\n",
        "      <td> 0.06533</td>\n",
        "      <td> SN10028</td>\n",
        "    </tr>\n",
        "    <tr>\n",
        "      <th>104</th>\n",
        "      <td>   32</td>\n",
        "      <td> 53704.263820</td>\n",
        "      <td> 0</td>\n",
        "      <td> 20.735</td>\n",
        "      <td> 0.06533</td>\n",
        "      <td> SN10028</td>\n",
        "    </tr>\n",
        "    <tr>\n",
        "      <th>105</th>\n",
        "      <td>    8</td>\n",
        "      <td> 53616.395290</td>\n",
        "      <td> 1</td>\n",
        "      <td> 25.260</td>\n",
        "      <td> 0.07775</td>\n",
        "      <td> SN10096</td>\n",
        "    </tr>\n",
        "    <tr>\n",
        "      <th>106</th>\n",
        "      <td>    0</td>\n",
        "      <td> 53616.391972</td>\n",
        "      <td> 2</td>\n",
        "      <td> 26.469</td>\n",
        "      <td> 0.07775</td>\n",
        "      <td> SN10096</td>\n",
        "    </tr>\n",
        "    <tr>\n",
        "      <th>107</th>\n",
        "      <td>   32</td>\n",
        "      <td> 53616.392802</td>\n",
        "      <td> 3</td>\n",
        "      <td> 23.493</td>\n",
        "      <td> 0.07775</td>\n",
        "      <td> SN10096</td>\n",
        "    </tr>\n",
        "    <tr>\n",
        "      <th>108</th>\n",
        "      <td>   32</td>\n",
        "      <td> 53616.394460</td>\n",
        "      <td> 4</td>\n",
        "      <td> 21.202</td>\n",
        "      <td> 0.07775</td>\n",
        "      <td> SN10096</td>\n",
        "    </tr>\n",
        "    <tr>\n",
        "      <th>109</th>\n",
        "      <td>  128</td>\n",
        "      <td> 53616.393631</td>\n",
        "      <td> 0</td>\n",
        "      <td> 26.155</td>\n",
        "      <td> 0.07775</td>\n",
        "      <td> SN10096</td>\n",
        "    </tr>\n",
        "  </tbody>\n",
        "</table>\n",
        "</div>"
       ],
       "metadata": {},
       "output_type": "pyout",
       "prompt_number": 16,
       "text": [
        "     FLAG           MJD  FILT     MAG        Z       SN\n",
        "100    32  53704.265479     1  18.955  0.06533  SN10028\n",
        "101  1184  53704.262162     2  18.825  0.06533  SN10028\n",
        "102    32  53704.262991     3  19.032  0.06533  SN10028\n",
        "103   160  53704.264650     4  19.148  0.06533  SN10028\n",
        "104    32  53704.263820     0  20.735  0.06533  SN10028\n",
        "105     8  53616.395290     1  25.260  0.07775  SN10096\n",
        "106     0  53616.391972     2  26.469  0.07775  SN10096\n",
        "107    32  53616.392802     3  23.493  0.07775  SN10096\n",
        "108    32  53616.394460     4  21.202  0.07775  SN10096\n",
        "109   128  53616.393631     0  26.155  0.07775  SN10096"
       ]
      }
     ],
     "prompt_number": 16
    },
    {
     "cell_type": "markdown",
     "metadata": {},
     "source": [
      "Tal como se indica en la cabecera de los ficheros de datos de curvas de luz, las medidas con un flag > 1024 no son fiables. Vamos a limpiar nuestro dataframe quitando los valores con un flag $\\geq$ 1024"
     ]
    },
    {
     "cell_type": "code",
     "collapsed": false,
     "input": [
      "b = df['FLAG'] < 1024\n",
      "df = df[b]\n",
      "df.info()"
     ],
     "language": "python",
     "metadata": {},
     "outputs": [
      {
       "output_type": "stream",
       "stream": "stdout",
       "text": [
        "<class 'pandas.core.frame.DataFrame'>\n",
        "Int64Index: 15838 entries, 0 to 16707\n",
        "Data columns (total 6 columns):\n",
        "FLAG    15838 non-null int64\n",
        "MJD     15838 non-null float64\n",
        "FILT    15838 non-null int64\n",
        "MAG     15838 non-null float64\n",
        "Z       15838 non-null float64\n",
        "SN      15838 non-null object\n",
        "dtypes: float64(3), int64(2), object(1)\n",
        "memory usage: 866.1+ KB\n"
       ]
      }
     ],
     "prompt_number": 17
    },
    {
     "cell_type": "heading",
     "level": 2,
     "metadata": {},
     "source": [
      "Representaci\u00f3n de la curva de luz"
     ]
    },
    {
     "cell_type": "markdown",
     "metadata": {},
     "source": [
      "Aunque no es esencial para el prop\u00f3sito de representar un diagrama de Hubble, voy generar una representaci\u00f3n gr\u00e1fica de la curva de luz de una de las supernovas cuyos datos se han leido, lo que ayudar\u00e1 a comprender mejor todo el proceso."
     ]
    },
    {
     "cell_type": "code",
     "collapsed": false,
     "input": [
      "# Creaci\u00f3n de una lista con todos los identificativos de Supernovas\n",
      "list_SN = list(df['SN'].unique())\n",
      "\n",
      "# Se elige uno de ellos\n",
      "SNid = list_SN[30]\n",
      "\n",
      "# Seleccionar solo valores del filtro 1 = 'g'\n",
      "b = (df['SN'] == SNid) & (df['FILT']==1)\n",
      "df_g = df[b].sort(columns = 'MJD')\n",
      "# Y a continuaci\u00f3n solo valores del filtro 2 = 'r'\n",
      "b = (df['SN'] == SNid) & (df['FILT']==2)\n",
      "df_r = df[b].sort(columns = 'MJD')"
     ],
     "language": "python",
     "metadata": {},
     "outputs": [],
     "prompt_number": 18
    },
    {
     "cell_type": "markdown",
     "metadata": {},
     "source": [
      "Ahora se va a representar gr\u00e1ficamente la curva de luz correspondiente a los filtros \"g\" y \"r\""
     ]
    },
    {
     "cell_type": "code",
     "collapsed": false,
     "input": [
      "f, (ax1, ax2) = plt.subplots(1,2, sharex=True)\n",
      "f.set_size_inches(12, 5)\n",
      "f.suptitle(SNid, fontsize=20)\n",
      "f.subplots_adjust(hspace=0)\n",
      "ax1.plot(df_g['MJD'], df_g['MAG'],'o-g')\n",
      "ax1.invert_yaxis()\n",
      "ax1.set_title('Filtro g', fontsize=15)\n",
      "ax1.set_xlabel('MJD')\n",
      "ax1.set_ylabel('MAG')\n",
      "ax2.plot(df_r['MJD'], df_r['MAG'],'o-r')\n",
      "ax2.invert_yaxis()\n",
      "ax2.set_title('Filtro r', fontsize=15)\n",
      "ax2.set_xlabel('MJD')\n",
      "ax2.set_ylabel('MAG');"
     ],
     "language": "python",
     "metadata": {},
     "outputs": [
      {
       "metadata": {},
       "output_type": "display_data",
       "png": "[encoded data removed]",
       "text": [
        "<matplotlib.figure.Figure at 0x7f82a9044510>"
       ]
      }
     ],
     "prompt_number": 19
    },
    {
     "cell_type": "markdown",
     "metadata": {},
     "source": [
      "En esta gr\u00e1fica se aprecia muy bien el aumento de brillo aparente de la supernova hasta alcanzar un m\u00e1ximo a partir del cual decrece m\u00e1s lentamente. Es en este m\u00e1ximo cuando su magnitud absoluta alcanza un valor conocido que es el que nos permitir\u00e1 estimar la distancia a que se encuentra de nosotros.\n",
      "\n",
      "Las fechas est\u00e1n en forma MJD (Modified Julian Date). Las unidades son d\u00edas, por lo que podemos tambi\u00e9n hacernos idea de la duraci\u00f3n del estallido de una supernova. El aumento brusco del brillo aparente seguido de su caida menos abrupta es claramente apreciable en un periodo de solo un mes. El periodo de tiempo total registrado es de 90 d\u00edas."
     ]
    },
    {
     "cell_type": "heading",
     "level": 3,
     "metadata": {},
     "source": [
      "Obtenci\u00f3n de las magnitudes aparentes m\u00ednimas"
     ]
    },
    {
     "cell_type": "markdown",
     "metadata": {},
     "source": [
      "Una vez en posesi\u00f3n del dataframe con los datos de todas las curvas de luz, vamos a construir el diagrama de Hubble para estas supernovas. Una determinaci\u00f3n rigurosa de las distancias requerir\u00eda comparar las curvas de luz disponibles con un conjunto de curvas \"patr\u00f3n\" y aplicar correcciones para determinar la magnitud absoluta m\u00e1xima. Me limitar\u00e9 a crear un dataframe seleccionando la observaci\u00f3n del mayor brillo aparente (es decir, valor m\u00ednimo de la magnitud aparente correspondiente) en los filtros \"g\" y \"r\", el valor de Z y el identificativo de la supernova."
     ]
    },
    {
     "cell_type": "code",
     "collapsed": false,
     "input": [
      "b = df['FILT'] == 1    # Seleccionar el filtro g\n",
      "dftemp1 = df.ix[b,['MAG', 'Z', 'SN']]\n",
      "dftemp1.columns = ['g', 'Z', 'SN']\n",
      "grouped = dftemp1.groupby('SN') # Agrupar por id de supernova\n",
      "df_g = grouped.min() #Seleccionar valores m\u00ednimos\n",
      "\n",
      "b = df['FILT'] == 2    # Seleccionar filtro r\n",
      "dftemp2 = df.ix[b,['MAG', 'SN']]\n",
      "dftemp2.columns = ['r', 'SN']\n",
      "grouped = dftemp2.groupby('SN') # Agrupar por id de supernova\n",
      "df_r = grouped.min()  #Seleccionar valores m\u00ednimos de la magnitud\n",
      "\n",
      "# Finalmente se concatenan las columnas\n",
      "# de los dos dataframes anteriores\n",
      "# Pandas se encargar\u00e1 de alinear los valores\n",
      "# correspondientes a una misma supernova\n",
      "df_gr = pd.concat([df_g, df_r], axis=1)\n",
      "df_gr['g'] = df_gr['g'].astype(np.float)\n",
      "df_gr['r'] = df_gr['r'].astype(np.float)\n",
      "df_gr = df_gr[['Z', 'g', 'r']] #Reordenar las columnas\n",
      "df_gr.head()    # ver una muestra"
     ],
     "language": "python",
     "metadata": {},
     "outputs": [
      {
       "html": [
        "<div style=\"max-height:1000px;max-width:1500px;overflow:auto;\">\n",
        "<table border=\"1\" class=\"dataframe\">\n",
        "  <thead>\n",
        "    <tr style=\"text-align: right;\">\n",
        "      <th></th>\n",
        "      <th>Z</th>\n",
        "      <th>g</th>\n",
        "      <th>r</th>\n",
        "    </tr>\n",
        "    <tr>\n",
        "      <th>SN</th>\n",
        "      <th></th>\n",
        "      <th></th>\n",
        "      <th></th>\n",
        "    </tr>\n",
        "  </thead>\n",
        "  <tbody>\n",
        "    <tr>\n",
        "      <th>SN10028</th>\n",
        "      <td> 0.06533</td>\n",
        "      <td> 18.292</td>\n",
        "      <td> 18.354</td>\n",
        "    </tr>\n",
        "    <tr>\n",
        "      <th>SN10096</th>\n",
        "      <td> 0.07775</td>\n",
        "      <td> 20.323</td>\n",
        "      <td> 19.904</td>\n",
        "    </tr>\n",
        "    <tr>\n",
        "      <th>SN10106</th>\n",
        "      <td> 0.14720</td>\n",
        "      <td> 20.844</td>\n",
        "      <td> 20.665</td>\n",
        "    </tr>\n",
        "    <tr>\n",
        "      <th>SN1032</th>\n",
        "      <td> 0.12975</td>\n",
        "      <td> 20.410</td>\n",
        "      <td> 20.205</td>\n",
        "    </tr>\n",
        "    <tr>\n",
        "      <th>SN10434</th>\n",
        "      <td> 0.10430</td>\n",
        "      <td> 19.432</td>\n",
        "      <td> 19.369</td>\n",
        "    </tr>\n",
        "  </tbody>\n",
        "</table>\n",
        "</div>"
       ],
       "metadata": {},
       "output_type": "pyout",
       "prompt_number": 20,
       "text": [
        "               Z       g       r\n",
        "SN                              \n",
        "SN10028  0.06533  18.292  18.354\n",
        "SN10096  0.07775  20.323  19.904\n",
        "SN10106  0.14720  20.844  20.665\n",
        "SN1032   0.12975  20.410  20.205\n",
        "SN10434  0.10430  19.432  19.369"
       ]
      }
     ],
     "prompt_number": 20
    },
    {
     "cell_type": "heading",
     "level": 3,
     "metadata": {},
     "source": [
      "Correcci\u00f3n de la extinci\u00f3n"
     ]
    },
    {
     "cell_type": "markdown",
     "metadata": {},
     "source": [
      "El fen\u00f3meno de la **extinci\u00f3n interestelar** es el obscurecimiento de la luz que nos llega proveniente de los objetos celestes, debido a su absorci\u00f3n y dispersi\u00f3n m\u00e1s o menos intensa por las nubes de polvo c\u00f3smico existentes en el medio interestelar. En consecuencia los objetos celestes nos parecen menos brillantes, y por lo tanto m\u00e1s lejanos, de lo que corresponder\u00eda a la distancia en que est\u00e1n situados realmente.\n",
      "\n",
      "Por lo tanto, debemos aplicar una correcci\u00f3n a los valores de las magnitudes aparentes en cada uno de los filtros, restando en cada caso una constante $A_{\\lambda} > 0$ cuyo efecto ser\u00e1 obtener una magnitud menor, es decir, correspondiente a un objeto m\u00e1s brillante, que ser\u00eda la magnitud aparente que observar\u00edamos si no existiera la extinci\u00f3n. A esta nueva magnitud le podremos aplicar la f\u00f3rmula del m\u00f3dulo de distancia para obtener una mejor aproximaci\u00f3n de la distancia que lo separa de nosotros.\n",
      "\n",
      "Veamos un ejemplo: la supernova SN722 presenta su menor magnitud aparente en la banda del filtro $g$ con un valor de g = 19.394. La correcci\u00f3n de extinci\u00f3n para su galaxia anfitriona en las longitudes de onda de este filtro es $A_g$ = 0.10. Estimar su distancia, sin y con la aplicaci\u00f3n de la correcci\u00f3n. "
     ]
    },
    {
     "cell_type": "code",
     "collapsed": false,
     "input": [
      "df_gr.ix['SN722',:]"
     ],
     "language": "python",
     "metadata": {},
     "outputs": [
      {
       "metadata": {},
       "output_type": "pyout",
       "prompt_number": 21,
       "text": [
        "Z     0.08658\n",
        "g    19.39400\n",
        "r    19.19400\n",
        "Name: SN722, dtype: float64"
       ]
      }
     ],
     "prompt_number": 21
    },
    {
     "cell_type": "code",
     "collapsed": false,
     "input": [
      "M = -19.3\n",
      "m = 19.394\n",
      "k = (m-M)/5 - 5\n",
      "d = 10**k    # esta ser\u00e1 la distancia en Mpc\n",
      "print \"distancia sin correcci\u00f3n: %.2f Mpc\" %d\n",
      "A = 0.10\n",
      "m -= A\n",
      "k = (m-M)/5 - 5\n",
      "d = 10**k\n",
      "print \"distancia con correcci\u00f3n: %.2f Mpc\" %d"
     ],
     "language": "python",
     "metadata": {},
     "outputs": [
      {
       "output_type": "stream",
       "stream": "stdout",
       "text": [
        "distancia sin correcci\u00f3n: 548.02 Mpc\n",
        "distancia con correcci\u00f3n: 523.36 Mpc\n"
       ]
      }
     ],
     "prompt_number": 22
    },
    {
     "cell_type": "markdown",
     "metadata": {},
     "source": [
      "Podemos estar seguros de que estas correcciones no han sido ya aplicadas, porque en la cabecera de cada fichero de curvas de luz figura el comentario *\"NO extinction correction applied to mags or fluxes\"*\n",
      "\n",
      "El problema que tenemos que resolver ahora es obtener las correcciones de extinci\u00f3n para cada supernova y banda. Estos datos figuran en la cabecera de cada fichero, en la l\u00ednea 11 (contando desde 1) hay una l\u00ednea del tipo:"
     ]
    },
    {
     "cell_type": "raw",
     "metadata": {},
     "source": [
      "#       SFD extinctions [ugriz] = [  0.13  0.10  0.07  0.05  0.04 ]"
     ]
    },
    {
     "cell_type": "markdown",
     "metadata": {},
     "source": [
      "De modo que vamos a leer cada fichero y obtendremos los valores de la correcci\u00f3n para cada supernova"
     ]
    },
    {
     "cell_type": "code",
     "collapsed": false,
     "input": [
      "lc_files = !ls ../SDSS_light_curves\n",
      "lc_files = list(lc_files.n.split('\\n')) # Crear lista con nombres de ficheros\n",
      "lc_files = lc_files[1:]    # Eliminar de la lista el fichero ReadMe"
     ],
     "language": "python",
     "metadata": {},
     "outputs": [],
     "prompt_number": 23
    },
    {
     "cell_type": "code",
     "collapsed": false,
     "input": [
      "#Crear lista con los nombres de las supernovas\n",
      "# Obtenidos de la lista de nombres de los ficheros\n",
      "SN = lambda filename: re.search(r'\\w+', filename).group()\n",
      "\n",
      "#Crear sendas listas con los valores del index y las columnas\n",
      "# del dataframe a crear con las extinciones \n",
      "# para cada SN y cada filtro\n",
      "index = [SN(filename) for filename in lc_files]\n",
      "columns = ['Au', 'Ag', 'Ar', 'Ai', 'Az']\n",
      "\n",
      "#Crear un dataframe vacio pero con la estructura que necesitamos\n",
      "df_ext = pd.DataFrame(index=index, columns=columns)\n",
      "df_ext.head()"
     ],
     "language": "python",
     "metadata": {},
     "outputs": [
      {
       "html": [
        "<div style=\"max-height:1000px;max-width:1500px;overflow:auto;\">\n",
        "<table border=\"1\" class=\"dataframe\">\n",
        "  <thead>\n",
        "    <tr style=\"text-align: right;\">\n",
        "      <th></th>\n",
        "      <th>Au</th>\n",
        "      <th>Ag</th>\n",
        "      <th>Ar</th>\n",
        "      <th>Ai</th>\n",
        "      <th>Az</th>\n",
        "    </tr>\n",
        "  </thead>\n",
        "  <tbody>\n",
        "    <tr>\n",
        "      <th>SN10028</th>\n",
        "      <td> NaN</td>\n",
        "      <td> NaN</td>\n",
        "      <td> NaN</td>\n",
        "      <td> NaN</td>\n",
        "      <td> NaN</td>\n",
        "    </tr>\n",
        "    <tr>\n",
        "      <th>SN10096</th>\n",
        "      <td> NaN</td>\n",
        "      <td> NaN</td>\n",
        "      <td> NaN</td>\n",
        "      <td> NaN</td>\n",
        "      <td> NaN</td>\n",
        "    </tr>\n",
        "    <tr>\n",
        "      <th>SN10106</th>\n",
        "      <td> NaN</td>\n",
        "      <td> NaN</td>\n",
        "      <td> NaN</td>\n",
        "      <td> NaN</td>\n",
        "      <td> NaN</td>\n",
        "    </tr>\n",
        "    <tr>\n",
        "      <th>SN1032</th>\n",
        "      <td> NaN</td>\n",
        "      <td> NaN</td>\n",
        "      <td> NaN</td>\n",
        "      <td> NaN</td>\n",
        "      <td> NaN</td>\n",
        "    </tr>\n",
        "    <tr>\n",
        "      <th>SN10434</th>\n",
        "      <td> NaN</td>\n",
        "      <td> NaN</td>\n",
        "      <td> NaN</td>\n",
        "      <td> NaN</td>\n",
        "      <td> NaN</td>\n",
        "    </tr>\n",
        "  </tbody>\n",
        "</table>\n",
        "</div>"
       ],
       "metadata": {},
       "output_type": "pyout",
       "prompt_number": 24,
       "text": [
        "          Au   Ag   Ar   Ai   Az\n",
        "SN10028  NaN  NaN  NaN  NaN  NaN\n",
        "SN10096  NaN  NaN  NaN  NaN  NaN\n",
        "SN10106  NaN  NaN  NaN  NaN  NaN\n",
        "SN1032   NaN  NaN  NaN  NaN  NaN\n",
        "SN10434  NaN  NaN  NaN  NaN  NaN"
       ]
      }
     ],
     "prompt_number": 24
    },
    {
     "cell_type": "code",
     "collapsed": false,
     "input": [
      "# Finalmente se recorren todos los ficheros\n",
      "# Extrayendo los valores de las extinciones\n",
      "# y poblando el dataframe df_ext\n",
      "\n",
      "for filename in lc_files:\n",
      "    id = SN(filename)  # Extraer id de la supernova\n",
      "    with open('../SDSS_light_curves/'+filename) as f:\n",
      "        for linea in f:\n",
      "            if 'extinctions' in linea: # Esta es la linea con las extinciones\n",
      "                l_campos = linea.split()\n",
      "                \n",
      "                # Escribir extinciones en el dataframe\n",
      "                df_ext.ix[id] = [float(a) for a in l_campos[6:11]]\n",
      "                break"
     ],
     "language": "python",
     "metadata": {},
     "outputs": [],
     "prompt_number": 25
    },
    {
     "cell_type": "code",
     "collapsed": false,
     "input": [
      "# Comprobamos que todo parece correcto\n",
      "df_ext.head()"
     ],
     "language": "python",
     "metadata": {},
     "outputs": [
      {
       "html": [
        "<div style=\"max-height:1000px;max-width:1500px;overflow:auto;\">\n",
        "<table border=\"1\" class=\"dataframe\">\n",
        "  <thead>\n",
        "    <tr style=\"text-align: right;\">\n",
        "      <th></th>\n",
        "      <th>Au</th>\n",
        "      <th>Ag</th>\n",
        "      <th>Ar</th>\n",
        "      <th>Ai</th>\n",
        "      <th>Az</th>\n",
        "    </tr>\n",
        "  </thead>\n",
        "  <tbody>\n",
        "    <tr>\n",
        "      <th>SN10028</th>\n",
        "      <td> 0.13</td>\n",
        "      <td>  0.1</td>\n",
        "      <td> 0.07</td>\n",
        "      <td> 0.05</td>\n",
        "      <td> 0.04</td>\n",
        "    </tr>\n",
        "    <tr>\n",
        "      <th>SN10096</th>\n",
        "      <td> 0.14</td>\n",
        "      <td>  0.1</td>\n",
        "      <td> 0.07</td>\n",
        "      <td> 0.06</td>\n",
        "      <td> 0.04</td>\n",
        "    </tr>\n",
        "    <tr>\n",
        "      <th>SN10106</th>\n",
        "      <td> 0.38</td>\n",
        "      <td> 0.28</td>\n",
        "      <td>  0.2</td>\n",
        "      <td> 0.15</td>\n",
        "      <td> 0.11</td>\n",
        "    </tr>\n",
        "    <tr>\n",
        "      <th>SN1032</th>\n",
        "      <td> 0.38</td>\n",
        "      <td> 0.28</td>\n",
        "      <td>  0.2</td>\n",
        "      <td> 0.15</td>\n",
        "      <td> 0.11</td>\n",
        "    </tr>\n",
        "    <tr>\n",
        "      <th>SN10434</th>\n",
        "      <td> 0.48</td>\n",
        "      <td> 0.36</td>\n",
        "      <td> 0.26</td>\n",
        "      <td>  0.2</td>\n",
        "      <td> 0.14</td>\n",
        "    </tr>\n",
        "  </tbody>\n",
        "</table>\n",
        "</div>"
       ],
       "metadata": {},
       "output_type": "pyout",
       "prompt_number": 26,
       "text": [
        "           Au    Ag    Ar    Ai    Az\n",
        "SN10028  0.13   0.1  0.07  0.05  0.04\n",
        "SN10096  0.14   0.1  0.07  0.06  0.04\n",
        "SN10106  0.38  0.28   0.2  0.15  0.11\n",
        "SN1032   0.38  0.28   0.2  0.15  0.11\n",
        "SN10434  0.48  0.36  0.26   0.2  0.14"
       ]
      }
     ],
     "prompt_number": 26
    },
    {
     "cell_type": "markdown",
     "metadata": {},
     "source": [
      "Una vez se dispone de todas las correcciones de extinci\u00f3n, se van a corregir las magnitudes aparentes de los filtros $g$ y $r$ en el dataframe \"df_gr\" que era el que conten\u00eda los valores m\u00ednimos de la magnitud aparente en cada uno de estos dos filtros para cada supernova. La correcci\u00f3n consistir\u00e1 simplemente en restar de cada magnitud aparente el valor de la correcci\u00f3n para ese filtro y supernova."
     ]
    },
    {
     "cell_type": "code",
     "collapsed": false,
     "input": [
      "# Hacer una copia \"profunda\" del dataframe original\n",
      "# Es decir, con copia de los datos\n",
      "df_gr_ext = df_gr.copy()\n",
      "\n",
      "# Aplicar las correcciones de extinci\u00f3n\n",
      "df_gr_ext['g'] = df_gr['g'] - df_ext['Ag']\n",
      "df_gr_ext['r'] = df_gr['r'] - df_ext['Ar']"
     ],
     "language": "python",
     "metadata": {},
     "outputs": [],
     "prompt_number": 27
    },
    {
     "cell_type": "code",
     "collapsed": false,
     "input": [
      "# Se puede comprobar en una muestra\n",
      "# que los valores obtenidos son los correctos\n",
      "df_gr_ext.head()"
     ],
     "language": "python",
     "metadata": {},
     "outputs": [
      {
       "html": [
        "<div style=\"max-height:1000px;max-width:1500px;overflow:auto;\">\n",
        "<table border=\"1\" class=\"dataframe\">\n",
        "  <thead>\n",
        "    <tr style=\"text-align: right;\">\n",
        "      <th></th>\n",
        "      <th>Z</th>\n",
        "      <th>g</th>\n",
        "      <th>r</th>\n",
        "    </tr>\n",
        "    <tr>\n",
        "      <th>SN</th>\n",
        "      <th></th>\n",
        "      <th></th>\n",
        "      <th></th>\n",
        "    </tr>\n",
        "  </thead>\n",
        "  <tbody>\n",
        "    <tr>\n",
        "      <th>SN10028</th>\n",
        "      <td> 0.06533</td>\n",
        "      <td> 18.192</td>\n",
        "      <td> 18.284</td>\n",
        "    </tr>\n",
        "    <tr>\n",
        "      <th>SN10096</th>\n",
        "      <td> 0.07775</td>\n",
        "      <td> 20.223</td>\n",
        "      <td> 19.834</td>\n",
        "    </tr>\n",
        "    <tr>\n",
        "      <th>SN10106</th>\n",
        "      <td> 0.14720</td>\n",
        "      <td> 20.564</td>\n",
        "      <td> 20.465</td>\n",
        "    </tr>\n",
        "    <tr>\n",
        "      <th>SN1032</th>\n",
        "      <td> 0.12975</td>\n",
        "      <td>  20.13</td>\n",
        "      <td> 20.005</td>\n",
        "    </tr>\n",
        "    <tr>\n",
        "      <th>SN10434</th>\n",
        "      <td> 0.10430</td>\n",
        "      <td> 19.072</td>\n",
        "      <td> 19.109</td>\n",
        "    </tr>\n",
        "  </tbody>\n",
        "</table>\n",
        "</div>"
       ],
       "metadata": {},
       "output_type": "pyout",
       "prompt_number": 28,
       "text": [
        "               Z       g       r\n",
        "SN                              \n",
        "SN10028  0.06533  18.192  18.284\n",
        "SN10096  0.07775  20.223  19.834\n",
        "SN10106  0.14720  20.564  20.465\n",
        "SN1032   0.12975   20.13  20.005\n",
        "SN10434  0.10430  19.072  19.109"
       ]
      }
     ],
     "prompt_number": 28
    },
    {
     "cell_type": "heading",
     "level": 2,
     "metadata": {},
     "source": [
      "Correcci\u00f3n debida al sistema fotom\u00e9trico utilizado"
     ]
    },
    {
     "cell_type": "markdown",
     "metadata": {},
     "source": [
      "Hay a\u00fan otra correcci\u00f3n que voy a llevar a cabo. Es debida a que  se van a utilizar los valores de magnitud absoluta m\u00e1xima M = -19.3 que es un valor v\u00e1lido para los filtros B o V del sistema fotom\u00e9trico UBV, pero aqu\u00ed estamos utilizando el sistema de filtros del SDSS que es diferente.\n",
      "\n",
      "Una manera de tener en cuenta este hecho es hacer una conversi\u00f3n entre las magnitudes del sistema \"ugriz\" del SDSS y las magnitudes en el sistema UBV. Existen diversos algoritmos, que pueden consultarse en [esta p\u00e1gina](http://classic.sdss.org/dr7/algorithms/sdssUBVRITransform.html). Voy a utilizar por ejemplo la transformaci\u00f3n Lupton (2005), aunque no tengo claro si esta es la transformaci\u00f3n m\u00e1s adecuada en este caso. Por otro lado, llevar a cabo esta conversi\u00f3n presenta la ventaja adicional de que en el c\u00e1lculo de por ejemplo la magnitud aparente en el filtro \"V\" intervienen las magnitudes aparentes de los filtros \"g\" y \"r\" del SDSS, con lo cual estaremos tomando una especie de \"promedio\" entre ambos filtros.\n",
      "\n",
      "He aqu\u00ed la f\u00f3rmula que se va a utilizar:\n",
      "\n",
      "$$V = g - 0.5784 (g - r) - 0.0038$$\n",
      "\n",
      "Ahora ampliar\u00e9 el dataframe df_gr_ext anterior, que ya llevaba las correcciones de extinci\u00f3n incorporadas, creando una nueva columna calculada con la f\u00f3rmula anterior:"
     ]
    },
    {
     "cell_type": "code",
     "collapsed": false,
     "input": [
      "df_gr_ext['V'] = df_gr_ext['g'] - 0.5784 * (df_gr_ext['g']-df_gr_ext['r']) - 0.0038\n",
      "df_gr_ext.head()"
     ],
     "language": "python",
     "metadata": {},
     "outputs": [
      {
       "html": [
        "<div style=\"max-height:1000px;max-width:1500px;overflow:auto;\">\n",
        "<table border=\"1\" class=\"dataframe\">\n",
        "  <thead>\n",
        "    <tr style=\"text-align: right;\">\n",
        "      <th></th>\n",
        "      <th>Z</th>\n",
        "      <th>g</th>\n",
        "      <th>r</th>\n",
        "      <th>V</th>\n",
        "    </tr>\n",
        "    <tr>\n",
        "      <th>SN</th>\n",
        "      <th></th>\n",
        "      <th></th>\n",
        "      <th></th>\n",
        "      <th></th>\n",
        "    </tr>\n",
        "  </thead>\n",
        "  <tbody>\n",
        "    <tr>\n",
        "      <th>SN10028</th>\n",
        "      <td> 0.06533</td>\n",
        "      <td> 18.192</td>\n",
        "      <td> 18.284</td>\n",
        "      <td> 18.24141</td>\n",
        "    </tr>\n",
        "    <tr>\n",
        "      <th>SN10096</th>\n",
        "      <td> 0.07775</td>\n",
        "      <td> 20.223</td>\n",
        "      <td> 19.834</td>\n",
        "      <td>  19.9942</td>\n",
        "    </tr>\n",
        "    <tr>\n",
        "      <th>SN10106</th>\n",
        "      <td> 0.14720</td>\n",
        "      <td> 20.564</td>\n",
        "      <td> 20.465</td>\n",
        "      <td> 20.50294</td>\n",
        "    </tr>\n",
        "    <tr>\n",
        "      <th>SN1032</th>\n",
        "      <td> 0.12975</td>\n",
        "      <td>  20.13</td>\n",
        "      <td> 20.005</td>\n",
        "      <td>  20.0539</td>\n",
        "    </tr>\n",
        "    <tr>\n",
        "      <th>SN10434</th>\n",
        "      <td> 0.10430</td>\n",
        "      <td> 19.072</td>\n",
        "      <td> 19.109</td>\n",
        "      <td>  19.0896</td>\n",
        "    </tr>\n",
        "  </tbody>\n",
        "</table>\n",
        "</div>"
       ],
       "metadata": {},
       "output_type": "pyout",
       "prompt_number": 29,
       "text": [
        "               Z       g       r         V\n",
        "SN                                        \n",
        "SN10028  0.06533  18.192  18.284  18.24141\n",
        "SN10096  0.07775  20.223  19.834   19.9942\n",
        "SN10106  0.14720  20.564  20.465  20.50294\n",
        "SN1032   0.12975   20.13  20.005   20.0539\n",
        "SN10434  0.10430  19.072  19.109   19.0896"
       ]
      }
     ],
     "prompt_number": 29
    },
    {
     "cell_type": "heading",
     "level": 2,
     "metadata": {},
     "source": [
      "Obtenci\u00f3n del diagrama de Hubble"
     ]
    },
    {
     "cell_type": "heading",
     "level": 3,
     "metadata": {},
     "source": [
      "Determinaci\u00f3n de las velocidades de recesi\u00f3n"
     ]
    },
    {
     "cell_type": "markdown",
     "metadata": {},
     "source": [
      "Examinemos en primer lugar el rango de valores de $z$ de las supernovas en la encuesta del SDSS"
     ]
    },
    {
     "cell_type": "code",
     "collapsed": false,
     "input": [
      "df_gr_ext['Z'].min(), df_gr_ext['Z'].max()"
     ],
     "language": "python",
     "metadata": {},
     "outputs": [
      {
       "metadata": {},
       "output_type": "pyout",
       "prompt_number": 30,
       "text": [
        "(0.01306, 0.42199999999999999)"
       ]
      }
     ],
     "prompt_number": 30
    },
    {
     "cell_type": "markdown",
     "metadata": {},
     "source": [
      "Esto nos dice que existe al menos una observaci\u00f3n con un valor de z = 0.42, es decir, si utilizamos en este caso la aproximaci\u00f3n $v = z \\, c$ tendr\u00edamos un objeto que se desplazar\u00eda a un 42% de la velocidad de la luz, lo cual constituye ya una velocidad relativista. Esto significa que el uso de esta aproximaci\u00f3n no es v\u00e1lido en casos como este si el resultado lo interpretamos como la velocidad real de recesi\u00f3n de la supernova con respecto de nosotros.\n",
      "\n",
      "No obstante, tal como hemos visto, la constante de Hubble, para valores elevados del par\u00e1metro z se sigue definiendo como:\n",
      "\n",
      "$$H_0 = \\frac{c \\, z}{d} $$\n",
      "\n",
      "Utilizar\u00e9 por tanto, como es habitual, $c \\, z$  en la realizaci\u00f3n del diagrama de Hubble, si bien esta magnitud no debe interpretarse en general como la velocidad real de recesi\u00f3n de la supernova, sino tan solo como una aproximaci\u00f3n a esta velocidad para $z$ peque\u00f1o. La relaci\u00f3n exacta entre la velocidad de recesi\u00f3n debida a la expansi\u00f3n del universo, y la cantidad $z$ de corrimiento al rojo, depende del modelo de universo que se considere, y requiere el uso de la Relatividad General. Al respecto puede consultarse el articulo [Expanding Confusion: common misconceptions of cosmological horizons and the superluminal expansion of the Universe](http://arxiv.org/abs/astro-ph/0310808)."
     ]
    },
    {
     "cell_type": "code",
     "collapsed": false,
     "input": [
      "z = df_gr_ext['Z']\n",
      "\n",
      "#Series de Pandas sin unidades, con velocidades en Km/s\n",
      "v = z * pq.c.rescale(pq.km/pq.s).magnitude"
     ],
     "language": "python",
     "metadata": {},
     "outputs": [],
     "prompt_number": 31
    },
    {
     "cell_type": "heading",
     "level": 3,
     "metadata": {},
     "source": [
      "C\u00e1lculo de las distancias"
     ]
    },
    {
     "cell_type": "markdown",
     "metadata": {},
     "source": [
      "Para las distancias vamos a utilizar la expresi\u00f3n del m\u00f3dulo de distancia cuando las distancias $d$ se miden en Mpc:\n",
      "\n",
      "$$\\mu = m - M = 5 \\, \\log_{10}d + 25$$\n",
      "\n",
      "Tomando como magnitud absoluta de cualquier supernova de tipo Ia: $M = -19.3$ y siendo $m$ el valor de la magnitud aparente m\u00e1xima (el menor valor) tomado del dataframe:"
     ]
    },
    {
     "cell_type": "code",
     "collapsed": false,
     "input": [
      "M = -19.3\n",
      "#m = df_gr_ext['V']\n",
      "m = df_gr_ext['V'].astype(np.float)\n",
      "k = (m-M)/5 - 5\n",
      "\n",
      "# d es una Series de Pandas con la distancia en Mpc\n",
      "d = 10**k"
     ],
     "language": "python",
     "metadata": {},
     "outputs": [],
     "prompt_number": 32
    },
    {
     "cell_type": "heading",
     "level": 3,
     "metadata": {},
     "source": [
      "Obtenci\u00f3n de $H_0$ y el diagrama de Hubble"
     ]
    },
    {
     "cell_type": "markdown",
     "metadata": {},
     "source": [
      "Ahora ajustar\u00e9 por m\u00ednimos cuadrados una recta a los valores de distancias y velocidades"
     ]
    },
    {
     "cell_type": "code",
     "collapsed": false,
     "input": [
      "slope, intercept, r_value, p_value, std_err = s.linregress(d,v)\n",
      "print 'El coeficiente de determinaci\u00f3n es r^2 = %.2f' %r_value**2\n",
      "print 'H0 = %.2f' %slope"
     ],
     "language": "python",
     "metadata": {},
     "outputs": [
      {
       "output_type": "stream",
       "stream": "stdout",
       "text": [
        "El coeficiente de determinaci\u00f3n es r^2 = 0.86\n",
        "H0 = 60.71\n"
       ]
      }
     ],
     "prompt_number": 33
    },
    {
     "cell_type": "code",
     "collapsed": false,
     "input": [
      "f, ax = plt.subplots(figsize=(12,8))\n",
      "\n",
      "ax.scatter(d, v, edgecolors='none')\n",
      "ax.set_xlim(0, 2500)\n",
      "ax.set_ylim(0,140000)\n",
      "\n",
      "\n",
      "ax.set_title('Diagrama de Hubble encuesta supernovas tipo Ia SDSS-II',\n",
      "             fontsize=20)\n",
      "ax.set_xlabel('Distancias en Mpc')\n",
      "ax.set_ylabel('$c \\, z \\; Km \\, s^{-1}$')\n",
      "ax.xaxis.label.set_fontsize(15)\n",
      "ax.yaxis.label.set_fontsize(20)\n",
      "\n",
      "ax.plot([0, 3000], [intercept, slope * 3000 + intercept], '-k', lw=2)\n",
      "ax.text(1000, 80000,'Valor obtenido $H0 = %.2f \\; Km \\; s^{-1} \\; Mpc^{-1}$'\n",
      "        %slope, fontsize=15, rotation = 39)\n",
      "ax.plot([0, 3000], [intercept, 67.80 * 3000 + intercept], ':r', lw=2)\n",
      "ax.text(500, 130000,'Mejor valor actual $H0 = 67.80 \\; Km \\; s^{-1} \\; Mpc^{-1}$',\n",
      "        fontsize=15, rotation = 41, color='r')\n",
      "ax.grid();"
     ],
     "language": "python",
     "metadata": {},
     "outputs": [
      {
       "metadata": {},
       "output_type": "display_data",
       "png": "[encoded data removed]",
       "text": [
        "<matplotlib.figure.Figure at 0x7f82a8c96550>"
       ]
      }
     ],
     "prompt_number": 34
    },
    {
     "cell_type": "markdown",
     "metadata": {},
     "source": [
      "Como puede verse, se ha obtenido un valor menor que el mejor valor actual en aproximadamente un 10%, lo cual considero que puede ser una buena aproximaci\u00f3n dado el m\u00e9todo tan b\u00e1sico que se ha empleado en la obtenci\u00f3n de la magnitud aparente correspondiente al momento de m\u00e1xima radiaci\u00f3n de las supernovas estudiadas. A este respecto puede ser interesante leer la azarosa historia de la determinaci\u00f3n de $H_0$ en [The Ups and Downs of the Hubble Constant](http://arxiv.org/abs/astro-ph/0512584). \u00a1Ha costado unos 75 a\u00f1os obtener un valor de $H_0$ con una incertidumbre menor del 10%!\n",
      "\n",
      "Bien, pues aqu\u00ed concluye este art\u00edculo. \u00a1Hasta la pr\u00f3xima!"
     ]
    }
   ],
   "metadata": {}
  }
 ]
}