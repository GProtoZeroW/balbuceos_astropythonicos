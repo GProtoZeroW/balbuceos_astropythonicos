{
 "metadata": {
  "name": "",
  "signature": "sha256:cc944d3ee90710a3cd0f66f71c8d98cc722862786475c7d92c92a98cd03e1258"
 },
 "nbformat": 3,
 "nbformat_minor": 0,
 "worksheets": [
  {
   "cells": [
    {
     "cell_type": "heading",
     "level": 1,
     "metadata": {},
     "source": [
      "El color de los objetos celestes: parte I"
     ]
    },
    {
     "cell_type": "markdown",
     "metadata": {},
     "source": [
      "Autor: [Eduardo Mart\u00edn Calleja](http://balbuceosastropy.blogspot.com.es/)"
     ]
    },
    {
     "cell_type": "markdown",
     "metadata": {},
     "source": [
      "En este post se inicia una serie de varios art\u00edculos dedicados al tema del color de los objetos celestes. Este primer post tendr\u00e1 un car\u00e1cter fundamentalmente te\u00f3rico. En posteriores entradas abordaremos la realizaci\u00f3n de diagramas color-color basados en datos reales obtenidos en diferentes cat\u00e1logos"
     ]
    },
    {
     "cell_type": "heading",
     "level": 2,
     "metadata": {},
     "source": [
      "Importaciones y referencias"
     ]
    },
    {
     "cell_type": "markdown",
     "metadata": {},
     "source": [
      "Una interesante introducci\u00f3n (en ingl\u00e9s) puede consultarse en: [Photometry](http://coolwiki.ipac.caltech.edu/index.php/Photometry) y en [Color-Magnitude and Color-Color plots](http://coolwiki.ipac.caltech.edu/index.php/Color-Magnitude_and_Color-Color_plots)"
     ]
    },
    {
     "cell_type": "code",
     "collapsed": false,
     "input": [
      "%matplotlib inline\n",
      "\n",
      "from __future__ import division\n",
      "\n",
      "import quantities as pq\n",
      "import numpy as np\n",
      "import matplotlib.pyplot as plt\n",
      "\n",
      "# Generar un cuadro con versiones de las librer\u00edas utilizadas en este notebook\n",
      "#https://github.com/jrjohansson/version_information\n",
      "%load_ext version_information\n",
      "%version_information numpy, matplotlib, quantities"
     ],
     "language": "python",
     "metadata": {},
     "outputs": [
      {
       "html": [
        "<table><tr><th>Software</th><th>Version</th></tr><tr><td>Python</td><td>2.7.9 64bit [GCC 4.4.7 20120313 (Red Hat 4.4.7-1)]</td></tr><tr><td>IPython</td><td>2.3.1</td></tr><tr><td>OS</td><td>Linux 3.13.0 45 generic x86_64 with debian jessie sid</td></tr><tr><td>numpy</td><td>1.9.1</td></tr><tr><td>matplotlib</td><td>1.4.2</td></tr><tr><td>quantities</td><td>0.10.1</td></tr><tr><td colspan='2'>Mon Feb 23 17:59:28 2015 CET</td></tr></table>"
       ],
       "json": [
        "{\"Software versions\": [{\"version\": \"2.7.9 64bit [GCC 4.4.7 20120313 (Red Hat 4.4.7-1)]\", \"module\": \"Python\"}, {\"version\": \"2.3.1\", \"module\": \"IPython\"}, {\"version\": \"Linux 3.13.0 45 generic x86_64 with debian jessie sid\", \"module\": \"OS\"}, {\"version\": \"1.9.1\", \"module\": \"numpy\"}, {\"version\": \"1.4.2\", \"module\": \"matplotlib\"}, {\"version\": \"0.10.1\", \"module\": \"quantities\"}]}"
       ],
       "latex": [
        "\\begin{tabular}{|l|l|}\\hline\n",
        "{\\bf Software} & {\\bf Version} \\\\ \\hline\\hline\n",
        "Python & 2.7.9 64bit [GCC 4.4.7 20120313 (Red Hat 4.4.7-1)] \\\\ \\hline\n",
        "IPython & 2.3.1 \\\\ \\hline\n",
        "OS & Linux 3.13.0 45 generic x86\\_64 with debian jessie sid \\\\ \\hline\n",
        "numpy & 1.9.1 \\\\ \\hline\n",
        "matplotlib & 1.4.2 \\\\ \\hline\n",
        "quantities & 0.10.1 \\\\ \\hline\n",
        "\\hline \\multicolumn{2}{|l|}{Mon Feb 23 17:59:28 2015 CET} \\\\ \\hline\n",
        "\\end{tabular}\n"
       ],
       "metadata": {},
       "output_type": "pyout",
       "prompt_number": 1,
       "text": [
        "Software versions\n",
        "Python 2.7.9 64bit [GCC 4.4.7 20120313 (Red Hat 4.4.7-1)]\n",
        "IPython 2.3.1\n",
        "OS Linux 3.13.0 45 generic x86_64 with debian jessie sid\n",
        "numpy 1.9.1\n",
        "matplotlib 1.4.2\n",
        "quantities 0.10.1\n",
        "Mon Feb 23 17:59:28 2015 CET"
       ]
      }
     ],
     "prompt_number": 1
    },
    {
     "cell_type": "heading",
     "level": 2,
     "metadata": {},
     "source": [
      "Magnitudes aparentes"
     ]
    },
    {
     "cell_type": "markdown",
     "metadata": {},
     "source": [
      "Un objeto celeste de magnitud aparente 1 es por definici\u00f3n 100 veces m\u00e1s brillante que uno de magnitud 6.\n",
      "\n",
      "Por lo tanto, asignando provisionalmente al objeto de magnitud 6 un brillo aparente unidad, y llamando $k$ a la raz\u00f3n entre una magnitud aparente de valor m y una magnitud de valor m+1, podemos razonar como se indica en el cuadro siguiente:\n",
      "\n",
      "$$\n",
      "\\begin{array}{l|c|c|c|c|c|c}\n",
      "\\text{Magnitud} & 1 & 2 & 3 & 4 & 5 & 6 \\\\\\\\\n",
      "\\hline \\\\\\\\\n",
      "\\text{Brillo aparente} & k^5 = 100 & k^4 & k^3 & k^2& k & 1 \\\\\\\\\n",
      "\\end{array}\n",
      "$$\n",
      "\n",
      "Por lo que el valor de $k$ ser\u00e1:\n",
      "\n",
      "$$k = 100^{\\frac{1}{5}}$$"
     ]
    },
    {
     "cell_type": "code",
     "collapsed": false,
     "input": [
      "k = 100**(1./5)\n",
      "print k"
     ],
     "language": "python",
     "metadata": {},
     "outputs": [
      {
       "output_type": "stream",
       "stream": "stdout",
       "text": [
        "2.51188643151\n"
       ]
      }
     ],
     "prompt_number": 2
    },
    {
     "cell_type": "markdown",
     "metadata": {},
     "source": [
      "En realidad, la magnitud que define rigurosamente el brillo de una estrella que es percibido por un observador es el **flujo radiante**, definido como la cantidad de energ\u00eda en una banda de longitudes de onda determinada, que se recibe en un \u00e1rea unidad orientada perpendicularmente a la trayectoria de la luz por unidad de tiempo. Se mide en vatios por metro cuadrado."
     ]
    },
    {
     "cell_type": "markdown",
     "metadata": {},
     "source": [
      "Representemos por $F$ el flujo radiante recibido de una estrella, y sea $F_{Vega}$ el flujo radiante de la estrella Vega, el cual se toma como referencia de la magnitud $0$ en todas las longitudes de onda, tendremos:\n",
      "\n",
      "$$\n",
      "\\begin{array}{l|c|c|c|c|c}\n",
      "\\text{Magnitud} & 0 & 1 & 2 & \\cdots & m \\\\\\\\\n",
      "\\hline \\\\\\\\\n",
      "\\text{Flujo} & F_{Vega} & \\frac{1}{k} F_{Vega} & \\frac{1}{k^2} F_{Vega} & \\cdots & F = \\frac{1}{k^m} F_{Vega} \\\\\\\\\n",
      "\\end{array}\n",
      "$$\n",
      "\n",
      "Si ahora consideramos dos estrellas de magnitudes relativas $m_1$ y $m_2$, y sus correspondientes flujos radiantes $F_1$ y $F_2$, expresando ambos en funci\u00f3n de $F_{Vega}$, dividiendo ambas expresiones y simplificando se obtiene la relaci\u00f3n siguiente:\n",
      "\n",
      "$$ \\frac{F_2}{F_1} = k^{m_1 - m_2} $$\n",
      "\n",
      "Y sustituyendo $k$ por su valor, llegamos a la f\u00f3rmula fundamental siguiente:\n",
      "\n",
      "$$ \\frac{F_2}{F_1} = 100^\\frac{m_1 - m_2}{5} $$\n",
      "\n",
      "\n",
      "Otra forma muy habitual de expresar la relaci\u00f3n entre magnitudes aparentes y flujos radiantes es tomando logaritmos decimales en la expresi\u00f3n anterior, con lo que se llega a la expresi\u00f3n comunmente utilizada (observese que se ha invertido el cociente entre los flujos radiantes, lo que hace aparecer el signo -):\n",
      "\n",
      "$$ \\boxed{ m_1 - m_2 =  -2.5 \\: log_{10} \\left( \\frac{F_1}{F_2} \\right) }$$\n"
     ]
    },
    {
     "cell_type": "heading",
     "level": 2,
     "metadata": {},
     "source": [
      "Magnitudes absolutas"
     ]
    },
    {
     "cell_type": "markdown",
     "metadata": {},
     "source": [
      "L\u00f3gicamente, la magnitud aparente de un objeto depender\u00e1, tanto de su luminosidad intr\u00ednseca como de la distancia a la que se encuentra de nosotros. Por lo tanto tiene inter\u00e9s definir una magnitud absoluta que nos de una idea de la cantidad de energ\u00eda emitida por el objeto, independientemente de la distancia a la que este se encuentre.\n",
      "\n",
      "Previamente debemos precisar el concepto de **luminosidad $L$** de un objeto, la cual se define como la cantidad de energ\u00eda total emitida por el objeto en un segundo.  Esta magnitud $L$ tiene una relaci\u00f3n con el flujo radiante $F$, ya que si suponemos que el objeto se encuentra a una distancia $d$ de nosotros, la energ\u00eda total radiada por segundo se repartir\u00e1 en una superficie esf\u00e9rica de \u00e1rea $4 \\pi d^2$, por lo que la energ\u00eda que recibiremos por unidad de superficie en un segundo ser\u00e1:\n",
      "\n",
      "$$F = \\frac{L}{4 \\pi d^2}$$\n",
      "\n",
      "(En realidad la expresi\u00f3n anterior es solo una aproximaci\u00f3n, ya que una parte de la energ\u00eda luminosa radiada es absorbida o dispersada en mayor o menor medida por el polvo y gas existente en el medio interestelar)."
     ]
    },
    {
     "cell_type": "markdown",
     "metadata": {},
     "source": [
      "Definamos ahora la **magnitud absoluta $M$** de un objeto como la magnitud relativa que tendr\u00eda dicho objeto si se encontrara a una distancia de 10 parsec (10 pc).\n",
      "\n",
      "Partiendo de las f\u00f3rmulas anteriores, vamos a deducir una expresi\u00f3n para obtener la diferencia $m-M$ entre la magnitud aparente y la magnitud absoluta de un objeto. Representemos por $F$ el flujo radiante que realmente medimos, y por $F_{10}$ el flujo radiante que medir\u00edamos si el objeto se encontrara a 10 pc de nosotros.\n",
      "\n",
      "\\begin{equation}\n",
      "\\begin{split}\n",
      "m-M & = -2.5 \\: log_{10} \\left( \\frac{F}{F_{10}} \\right) \\\\\n",
      "& = -2.5 \\: log_{10} \\left( \\frac{L}{4 \\pi d^2}  \\cdot \\frac{4 \\pi 10^2}{L} \\right) \\\\\n",
      "& = -2.5 \\: log_{10} \\left( \\frac{10}{d} \\right)^2\n",
      "\\end{split}\n",
      "\\end{equation}\n",
      "\n",
      "Que suele escribirse como:\n",
      "\n",
      "$$ \\boxed{ m-M = 5 \\: log_{10} \\left( \\frac{d}{10} \\right) } $$\n",
      "\n",
      "Donde la distancia $d$ vendr\u00e1 expresada en parsec.\n",
      "\n",
      "Esta sencilla expresi\u00f3n permite en principio calcular la magnitud absoluta a partir de la magnitud aparente, o a la inversa, pero la distancia que nos separa del objeto forma como es natural parte de la ecuaci\u00f3n. De hecho, si conocemos el valor de $m-M$ nos ser\u00e1 posible conocer tambi\u00e9n la distancia d. Por ello, la magnitud $m-M$ puede ser vista como una forma de expresar la distancia que nos separa del astro en una escala logar\u00edtmica, y por esta raz\u00f3n se la conoce como **m\u00f3dulo de distancia**"
     ]
    },
    {
     "cell_type": "markdown",
     "metadata": {},
     "source": [
      "Ejemplo: la estrella Vega se encuentra a una distancia de 8.1 pc. \u00bfCual es su magnitud absoluta y m\u00f3dulo de distancia?"
     ]
    },
    {
     "cell_type": "code",
     "collapsed": false,
     "input": [
      "m = 0 # Vega es la referencia para la magnitud aparente 0\n",
      "\n",
      "M = -5 * np.log10(8.1 / 10)\n",
      "print \"M(Vega) = %.2f\" %M\n",
      "print u\"m\u00f3dulo de distancia de Vega: %.2f\" %(0 - M)"
     ],
     "language": "python",
     "metadata": {},
     "outputs": [
      {
       "output_type": "stream",
       "stream": "stdout",
       "text": [
        "M(Vega) = 0.46\n",
        "m\u00f3dulo de distancia de Vega: -0.46\n"
       ]
      }
     ],
     "prompt_number": 3
    },
    {
     "cell_type": "heading",
     "level": 3,
     "metadata": {},
     "source": [
      "Magnitudes aparentes en un sistema de filtros de color"
     ]
    },
    {
     "cell_type": "markdown",
     "metadata": {},
     "source": [
      "En la pr\u00e1ctica, la magnitud aparente de un objeto se puede medir considerando la radiaci\u00f3n recibida en todas las longitudes de onda, en cuyo caso recibe el nombre de **magnitud bolom\u00e9trica**, o bien, haciendo pasar la luz por filtros de diferentes colores. Un sistema de filtros utilizado de forma habitual para este fin recibe el nombre de **sistema fotom\u00e9trico UBV**, o sistema fotom\u00e9trico de Johnson, el cual est\u00e1 formado por tres filtros con las siguientes caracter\u00edsticas:\n",
      "\n",
      "$$\n",
      "\\begin{array}{|l|c|c|}\n",
      "\\text{Filtro} & \\lambda \\: \\text{(Angstroms)}  & \\Delta \\lambda \\: \\text{(Ancho de banda)}\\\\\\\\\n",
      "\\hline \\\\\\\\\n",
      "\\text{Ultraviolet (u)} & 3650 & 680 \\\\\\\\\n",
      "\\text{Blue (b)} & 4400 & 980 \\\\\\\\\n",
      "\\text{Visible (v)} & 5500 & 890 \\\\\\\\\n",
      "\\end{array}\n",
      "$$"
     ]
    },
    {
     "cell_type": "markdown",
     "metadata": {},
     "source": [
      "El filtro u deja pasar la luz en la regi\u00f3n del ultravioleta, el filtro b en la regi\u00f3n del azul, y el filtro v en la regi\u00f3n del color verde.\n",
      "\n",
      "Las magnitudes aparentes medidas con estos filtros se representan mediante las iniciales $U, B, V$ (adviertase que, aun tratandose de magnitudes aparentes, en este caso se emplean letras may\u00fasculas)."
     ]
    },
    {
     "cell_type": "heading",
     "level": 2,
     "metadata": {},
     "source": [
      "\u00cdndices de color"
     ]
    },
    {
     "cell_type": "markdown",
     "metadata": {},
     "source": [
      "La magnitud aparente de un cuerpo, tomada aisladamente no es un buen indicador de las propiedades de dicho objeto. Imaginemos que queremos averiguar algo sobre el color de la luz emitida por una estrella y, haciendola pasar por un filtro azul medimos una magnitud aparente debil (es decir, un valor de m elevado). No podremos saber si esto es debido a que la estrella radia poca energ\u00eda en ese rango de longitudes de onda o bien simplemente se trata de una estrella muy lejana. En definitiva, para saber el color de una estrella debemos comparar su magnitud aparente medida a trav\u00e9s de al menos dos filtros.\n",
      "\n",
      "Por este motivo se definen los \u00edndices de color, como la diferencia entre dos magnitudes aparentes con dos filtros diferentes. As\u00ed por ejemplo, en el sistema fotom\u00e9trico UBV tendremos dos \u00edndices de color:\n",
      "\n",
      "- \u00cdndice de color $U-B$ : Diferencia entre las magnitudes aparentes ultravioleta y azul\n",
      "- \u00cdndice de color $B-V$ : Diferencia entre las magnitudes aparentes azul y visible\n",
      "\n",
      "T\u00e9ngase en cuenta que, de acuerdo con la definici\u00f3n anterior de m\u00f3dulo de distancia, la relaci\u00f3n entre magnitudes aparentes y magnitudes absolutas sse puede escribir como:\n",
      "\n",
      "$$ m = M + \\mu $$\n",
      "\n",
      "Siendo $\\mu$ el m\u00f3dulo de distancia del objeto. Por lo tanto:\n",
      "\n",
      "\u00edndice de color =  $m_1 - m_2 = M_1 - M_2 $\n",
      "\n",
      "Es decir, \u00a1un \u00edndice de color es independiente de la distancia a la que se encuentre el objeto!\n"
     ]
    },
    {
     "cell_type": "heading",
     "level": 2,
     "metadata": {},
     "source": [
      "Relaci\u00f3n entre \u00edndice de color y temperatura"
     ]
    },
    {
     "cell_type": "markdown",
     "metadata": {},
     "source": [
      "Una raz\u00f3n por la que los \u00edndices de color de los objetos astron\u00f3micos tienen tanta importancia es por su estrecha relaci\u00f3n con la temperatura superficial del objeto. Las estrellas radian siguiendo un espectro que en una primera aproximaci\u00f3n se aproxima al espectro de radiaci\u00f3n de un cuerpo negro, el cual depende exclusivamente de la temperatura. En un anterior [post](http://balbuceosastropy.blogspot.com.es/2013/09/la-radiacion-del-cuerpo-negro-y-el.html) se mostraba como utilizar la funci\u00f3n de Plank para calcular la radiaci\u00f3n que en cada longitud de onda y para una temperatura dada emite un cuerpo negro. Vamos a volver a utilizar esta funci\u00f3n:"
     ]
    },
    {
     "cell_type": "code",
     "collapsed": false,
     "input": [
      "def B(wl,T):\n",
      "    '''wl es un array de longitudes de onda con unidades de longitud\n",
      "    T es una temperatura expresada en Kelvin\n",
      "    el resultado es un array de valores de la radiancia espectral\n",
      "    con unidades W/(m**2 * nm * sr)\n",
      "    '''\n",
      "    I = 2 * pq.constants.h * (pq.c)**2 / wl**5 *  \\\n",
      "        1 / (np.exp((pq.constants.h*pq.c \\\n",
      "        / (wl*pq.constants.k*T)).simplified)-1)\n",
      "    return I.rescale(pq.watt/(pq.m**2 * pq.nm *pq.sr))"
     ],
     "language": "python",
     "metadata": {},
     "outputs": [],
     "prompt_number": 4
    },
    {
     "cell_type": "markdown",
     "metadata": {},
     "source": [
      "Me propongo ahora mostrar, suponiendo que las estrellas fueran cuerpos negros perfectos, cual ser\u00eda la variaci\u00f3n del \u00edndice de color en funci\u00f3n de la temperatura. Para ello voy a seguir la aproximaci\u00f3n al c\u00e1lculo de los \u00edndices de color a partir de la funci\u00f3n de Plank que se expone en el libro [An Introduction to Modern Astrophysics](http://www.amazon.com/Introduction-Modern-Astrophysics-2nd-Edition/dp/0805304029) de Bradley W. Carroll y Dale A. Ostlie, secci\u00f3n 3.6. Consiste en utilizar las aproximaciones siguientes:"
     ]
    },
    {
     "cell_type": "markdown",
     "metadata": {},
     "source": [
      "$$ U-B = -2.5 \\: log_{10} \\left( \\frac{B(\\lambda_u, T) \\: \\Delta \\lambda_u}{B(\\lambda_b, T) \\: \\Delta \\lambda_b} \\right) +  C_{U-B} $$\n",
      "\n",
      "$$ B-V = -2.5  \\: log_{10} \\left( \\frac{B(\\lambda_b, T) \\: \\Delta \\lambda_b}{B(\\lambda_v, T) \\: \\Delta \\lambda_v} \\right) +  C_{B-V} $$"
     ]
    },
    {
     "cell_type": "markdown",
     "metadata": {},
     "source": [
      "Es decir, en la expresi\u00f3n ya vista anteriormente entre magnitudes y flujos radiantes, se trata de sustituir cada flujo radiante por el producto de la radiancia espectral dada por la funci\u00f3n de Plank para la longitud de onda central de cada filtro, multiplicado por el ancho de banda efectivo de dicho filtro, y sumando una constante de ajuste."
     ]
    },
    {
     "cell_type": "markdown",
     "metadata": {},
     "source": [
      "Las constantes de ajuste $C_{U-B}$ y $C_{B-V}$ se van a determinar utilizando unos ciertos valores de $T$ y de los \u00edndices de color que se utilizan para calibrar los filtros. En este [art\u00edculo de la wikipedia](http://en.wikipedia.org/wiki/Color_index) se incluye una tabla con estos valores. Vamos a utilizar en particular que para una temperatura $T = 42000K$ debemos obtener valores de los \u00edndices de color U-B = -1.19, B-V = -0.33"
     ]
    },
    {
     "cell_type": "code",
     "collapsed": false,
     "input": [
      "# Definici\u00f3n de las constantes del sistema fotom\u00e9trico UBV\n",
      "\n",
      "lambda_u = 365 * pq.nm\n",
      "delta_u = 68 * pq.nm\n",
      "lambda_b = 440 * pq.nm\n",
      "delta_b = 98 * pq.nm\n",
      "lambda_v = 550 * pq.nm\n",
      "delta_v = 89 * pq.nm"
     ],
     "language": "python",
     "metadata": {},
     "outputs": [],
     "prompt_number": 5
    },
    {
     "cell_type": "code",
     "collapsed": false,
     "input": [
      "# C\u00e1lculo de Cu-b\n",
      "\n",
      "T = 42000*pq.kelvin\n",
      "F = B(lambda_u, T) * delta_u/(B(lambda_b, T)* delta_b)\n",
      "Cub = -1.19 + 2.5 * np.log10(F)\n",
      "print Cub\n"
     ],
     "language": "python",
     "metadata": {},
     "outputs": [
      {
       "output_type": "stream",
       "stream": "stdout",
       "text": [
        "-0.874317278235 dimensionless\n"
       ]
      }
     ],
     "prompt_number": 6
    },
    {
     "cell_type": "code",
     "collapsed": false,
     "input": [
      "# C\u00e1lculo de Cb-v\n",
      "\n",
      "F = B(lambda_b, T) * delta_b/(B(lambda_v, T)* delta_v)\n",
      "Cbv = -0.33 + 2.5 * np.log10(F)\n",
      "print Cbv"
     ],
     "language": "python",
     "metadata": {},
     "outputs": [
      {
       "output_type": "stream",
       "stream": "stdout",
       "text": [
        "0.649368425063 dimensionless\n"
       ]
      }
     ],
     "prompt_number": 7
    },
    {
     "cell_type": "markdown",
     "metadata": {},
     "source": [
      "Habiendo determinado las constantes en la f\u00f3rmula que aproxima los \u00edndices de color a partir de la temperatura para un cuerpo negro, podemos definir sendas funciones que nos permitir\u00e1n calcular dichos \u00edndices de color para diferentes temperaturas. "
     ]
    },
    {
     "cell_type": "code",
     "collapsed": false,
     "input": [
      "def get_UB(T):\n",
      "    F = B(lambda_u, T) * delta_u/(B(lambda_b, T)* delta_b)\n",
      "    return -2.5 * np.log10(F) + Cub\n",
      "\n",
      "def get_BV(T):\n",
      "    F = B(lambda_b, T) * delta_b/(B(lambda_v, T)* delta_v)\n",
      "    return -2.5 * np.log10(F) + Cbv\n"
     ],
     "language": "python",
     "metadata": {},
     "outputs": [],
     "prompt_number": 8
    },
    {
     "cell_type": "markdown",
     "metadata": {},
     "source": [
      "Y finalmente vamos a representar en un gr\u00e1fico la curva que relaciona la temperatura superficial del objeto con su \u00edndice de color, suponiendo, tengamoslo siempre presente, que dicho objeto fuera un cuerpo negro perfecto. Para los objetos astron\u00f3micos reales esta curva ser\u00e1 solo una aproximaci\u00f3n que nos permitir\u00e1 una primera estimacii\u00f3n de su temperatura superficial en funci\u00f3n del \u00edndice de color.\n",
      "\n",
      "Precisamente, para ilustrar este \u00faltimo hecho, representar\u00e9 en el mismo gr\u00e1fico tres estrellas representativas, con datos de sus temperaturas efectivas superficiales e \u00edndice de color"
     ]
    },
    {
     "cell_type": "code",
     "collapsed": false,
     "input": [
      "temp = np.arange(2500, 30000, 100)*pq.Kelvin\n",
      "BmenosV = get_BV(temp)\n",
      "\n",
      "fig, ax = plt.subplots(figsize=(10, 8))\n",
      "ax.plot(BmenosV, temp, lw =2)\n",
      "ax.grid()\n",
      "ax.set_title(u\"Relaci\u00f3n \u00cdndice de color - Temperatura \\n \\\n",
      "     para un cuerpo negro\")\n",
      "ax.title.set_fontsize(18)\n",
      "ax.set_xlabel(u\"\u00cdndice de color B-V\")\n",
      "ax.xaxis.label.set_fontsize(15)\n",
      "ax.set_ylabel(\"Temperatura superficial en K\")\n",
      "ax.yaxis.label.set_fontsize(15)\n",
      "\n",
      "# Dibuja tres estrellas representativas\n",
      "\n",
      "T = np.array([3300, 5800, 22000])*pq.kelvin\n",
      "BV = [1.85, 0.656, -0.21]\n",
      "             \n",
      "ax.scatter(BV[0],T[0], s=600, c='r', marker='*')\n",
      "ax.scatter(BV[1],T[1], s=600, c='y', marker='*')\n",
      "ax.scatter(BV[2],T[2], s=600, c='b', marker='*')\n",
      "\n",
      "# Anotamos los nombres de las tres estrellas\n",
      "\n",
      "ax.annotate(\"Betelgeuse\", xy=(BV[0],T[0]+1000*pq.kelvin), size=14)\n",
      "ax.annotate(\"Sol\", xy=(BV[1],T[1]+1000*pq.kelvin), size=14)\n",
      "ax.annotate(\"Bellatrix\", xy=(BV[2],T[2]+1000*pq.kelvin), size=14);"
     ],
     "language": "python",
     "metadata": {},
     "outputs": [
      {
       "metadata": {},
       "output_type": "display_data",
       "png": "[encoded data removed]",
       "text": [
        "<matplotlib.figure.Figure at 0x7fd654edf950>"
       ]
      }
     ],
     "prompt_number": 9
    },
    {
     "cell_type": "markdown",
     "metadata": {},
     "source": [
      "En la figura anterior se observa que la curva te\u00f3rica anterior puede proporcionar en muchos casos una aproximaci\u00f3n razonable para obtener las temperaturas efectivas superficiales de las estrellas a partir de su \u00edndice de color. "
     ]
    },
    {
     "cell_type": "heading",
     "level": 3,
     "metadata": {},
     "source": [
      "Diagramas color-color"
     ]
    },
    {
     "cell_type": "markdown",
     "metadata": {},
     "source": [
      "Otro tipo de diagramas que se emplean a menudo son los diagramas color-color en los que se representa en cada eje un \u00edndice de color diferente, por ejemplo: U-B sobre B-V. El hecho es que la mayor\u00eda de las estrellas se ubican en un gr\u00e1fico color-color a lo largo de una banda bien definida conocida como **\"locus estelar\"** Estos diagramas son \u00fatiles para por ejemplo detectar objetos at\u00edpicos que en un diagrama color-color se situan fuera del locus\n",
      "\n",
      "En otras entradas mas adelante generaremos diagramas color-color con datos reales, pero en este momento vamos a preguntarnos que aspecto tendr\u00eda el diagrama color-color de un cuerpo negro ideal. La respuesta es, como vamos a ver, que se tratar\u00eda de \u00a1una l\u00ednea recta!. El locus estelar de los diagramas \"color-color\" de objetos reales se situar\u00e1 en alguna medida alrededor de esta recta.\n",
      "\n",
      "Otra conclusi\u00f3n que podremos extraer del siguiente gr\u00e1fico es que los objetos m\u00e1s calientes se situan en la esquina inferior izquierda del gr\u00e1fico, y los m\u00e1s frios en el extremo opuesto."
     ]
    },
    {
     "cell_type": "code",
     "collapsed": false,
     "input": [
      "fig, ax = plt.subplots(figsize=(10, 8))\n",
      "\n",
      "temp = np.arange(2500,30000,100)*pq.kelvin\n",
      "BmenosV = get_BV(temp)\n",
      "UmenosB = get_UB(temp)\n",
      "\n",
      "ax.scatter(BmenosV, UmenosB)\n",
      "ax.grid()\n",
      "ax.set_title(u'Gr\u00e1fico color-color de los cuerpos negros')\n",
      "ax.title.set_fontsize(20)\n",
      "ax.set_xlabel('B-V')\n",
      "ax.xaxis.label.set_fontsize(15)\n",
      "ax.set_ylabel('U-B')\n",
      "ax.yaxis.label.set_fontsize(15)\n",
      "\n",
      "temp = np.array([3000, 4000, 5000, 7500, 10000, 20000, 30000])*pq.kelvin\n",
      "BmenosV = get_BV(temp)\n",
      "UmenosB = get_UB(temp)\n",
      "\n",
      "ax.scatter(BmenosV, UmenosB, s=150., c='r')\n",
      "\n",
      "for t in temp:\n",
      "    ax.annotate(\"%d K\" %t,xy=(get_BV(t)+0.1,get_UB(t)-0.05))"
     ],
     "language": "python",
     "metadata": {},
     "outputs": [
      {
       "metadata": {},
       "output_type": "display_data",
       "png": "[encoded data removed]",
       "text": [
        "<matplotlib.figure.Figure at 0x7fd654edf650>"
       ]
      }
     ],
     "prompt_number": 10
    }
   ],
   "metadata": {}
  }
 ]
}