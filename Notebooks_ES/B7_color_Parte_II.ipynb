{
 "metadata": {
  "name": "",
  "signature": "sha256:28e03e4ad02c8ee45bbacf6e5773c8b74dbaac15cee7165b8a2ebdd69fb8f303"
 },
 "nbformat": 3,
 "nbformat_minor": 0,
 "worksheets": [
  {
   "cells": [
    {
     "cell_type": "heading",
     "level": 1,
     "metadata": {},
     "source": [
      "El color de los objetos celestes: parte II"
     ]
    },
    {
     "cell_type": "markdown",
     "metadata": {},
     "source": [
      "Autor: [Eduardo Mart\u00edn Calleja](http://balbuceosastropy.blogspot.com.es/)"
     ]
    },
    {
     "cell_type": "markdown",
     "metadata": {},
     "source": [
      "Tras mi anterior entrada en este blog, dedicada al tama del [color de los objetos celestes](http://balbuceosastropy.blogspot.com.es/2013/10/el-color-de-los-objetos-celestes.html), esta entrada constituye su continuaci\u00f3n, en la cual examinaremos los datos de un cat\u00e1logo de estrellas que contenga datos fotom\u00e9tricos y espectrogr\u00e1ficos y formaremos con ellos gr\u00e1ficos color-color en los que se tratar\u00e1 de diferenciar entre las diferentes clases estelares. Es decir, si el post anterior introduc\u00eda una serie de conceptos te\u00f3ricos, ahora vamos a aplicar estos conceptos a datos reales.\n",
      "\n"
     ]
    },
    {
     "cell_type": "heading",
     "level": 2,
     "metadata": {},
     "source": [
      "Importaciones y referencias"
     ]
    },
    {
     "cell_type": "markdown",
     "metadata": {},
     "source": [
      "El cat\u00e1logo que vamos a utilizar es el \"Bright Star Catalogue\", el cual incluye pr\u00e1cticamente todas las estrellas visibles a simple vista, hasta la magnitud 6.5 o m\u00e1s brillantes. Aqu\u00ed hay una primera [descripci\u00f3n](http://en.wikipedia.org/wiki/Bright_Star_Catalogue).\n",
      "\n",
      "Este cat\u00e1logo est\u00e1 disponible online [aqu\u00ed](http://tdc-www.harvard.edu/catalogs/bsc5.html). Para seguir los ejercicios de esta entrada habr\u00e1 que descargar de este sitio los tres ficheros de los que consta el cat\u00e1logo:\n",
      "\n",
      "* bsc5.dat        El cat\u00e1logo\n",
      "* bsc5.readme     Una descripci\u00f3n del cat\u00e1logo\n",
      "* bsc5.notes      Notas del cat\u00e1logo\n",
      "\n",
      "Tambi\u00e9n ser\u00e1 util este [art\u00edculo de la wikipedia](http://en.wikipedia.org/wiki/Stellar_classification) dedicado a la clasificaci\u00f3n de las estrellas por las caracter\u00edsticas de su espectro.\n",
      "\n",
      "Como de costumbre, esta entrada est\u00e1 escrita \u00edntegramente con el Notabook de IPython, y se utilizar\u00e1n una serie de librer\u00edas de Python que a continuaci\u00f3n importamos:"
     ]
    },
    {
     "cell_type": "code",
     "collapsed": false,
     "input": [
      "%matplotlib inline\n",
      "\n",
      "from __future__ import division\n",
      "\n",
      "import quantities as pq\n",
      "import numpy as np\n",
      "import matplotlib.pyplot as plt\n",
      "import pandas as pd\n",
      "\n",
      "# This IPython magic generates a table with version information\n",
      "#https://github.com/jrjohansson/version_information\n",
      "%load_ext version_information\n",
      "%version_information numpy, matplotlib, quantities, pandas"
     ],
     "language": "python",
     "metadata": {},
     "outputs": [
      {
       "html": [
        "<table><tr><th>Software</th><th>Version</th></tr><tr><td>Python</td><td>2.7.9 64bit [GCC 4.4.7 20120313 (Red Hat 4.4.7-1)]</td></tr><tr><td>IPython</td><td>2.3.1</td></tr><tr><td>OS</td><td>Linux 3.13.0 44 generic x86_64 with debian jessie sid</td></tr><tr><td>numpy</td><td>1.9.1</td></tr><tr><td>matplotlib</td><td>1.4.2</td></tr><tr><td>quantities</td><td>0.10.1</td></tr><tr><td>pandas</td><td>0.15.2</td></tr><tr><td colspan='2'>Sat Jan 24 12:07:22 2015 CET</td></tr></table>"
       ],
       "json": [
        "{\"Software versions\": [{\"version\": \"2.7.9 64bit [GCC 4.4.7 20120313 (Red Hat 4.4.7-1)]\", \"module\": \"Python\"}, {\"version\": \"2.3.1\", \"module\": \"IPython\"}, {\"version\": \"Linux 3.13.0 44 generic x86_64 with debian jessie sid\", \"module\": \"OS\"}, {\"version\": \"1.9.1\", \"module\": \"numpy\"}, {\"version\": \"1.4.2\", \"module\": \"matplotlib\"}, {\"version\": \"0.10.1\", \"module\": \"quantities\"}, {\"version\": \"0.15.2\", \"module\": \"pandas\"}]}"
       ],
       "latex": [
        "\\begin{tabular}{|l|l|}\\hline\n",
        "{\\bf Software} & {\\bf Version} \\\\ \\hline\\hline\n",
        "Python & 2.7.9 64bit [GCC 4.4.7 20120313 (Red Hat 4.4.7-1)] \\\\ \\hline\n",
        "IPython & 2.3.1 \\\\ \\hline\n",
        "OS & Linux 3.13.0 44 generic x86\\_64 with debian jessie sid \\\\ \\hline\n",
        "numpy & 1.9.1 \\\\ \\hline\n",
        "matplotlib & 1.4.2 \\\\ \\hline\n",
        "quantities & 0.10.1 \\\\ \\hline\n",
        "pandas & 0.15.2 \\\\ \\hline\n",
        "\\hline \\multicolumn{2}{|l|}{Sat Jan 24 12:07:22 2015 CET} \\\\ \\hline\n",
        "\\end{tabular}\n"
       ],
       "metadata": {},
       "output_type": "pyout",
       "prompt_number": 1,
       "text": [
        "Software versions\n",
        "Python 2.7.9 64bit [GCC 4.4.7 20120313 (Red Hat 4.4.7-1)]\n",
        "IPython 2.3.1\n",
        "OS Linux 3.13.0 44 generic x86_64 with debian jessie sid\n",
        "numpy 1.9.1\n",
        "matplotlib 1.4.2\n",
        "quantities 0.10.1\n",
        "pandas 0.15.2\n",
        "Sat Jan 24 12:07:22 2015 CET"
       ]
      }
     ],
     "prompt_number": 1
    },
    {
     "cell_type": "heading",
     "level": 2,
     "metadata": {},
     "source": [
      "Lectura de los datos del \"Bright Star Catalogue\" (BSC)"
     ]
    },
    {
     "cell_type": "markdown",
     "metadata": {},
     "source": [
      "Una vez se han descargado los tres ficheros que componen el BSC, Vamos a leer una serie de campos importandolos en un dataframe de Pandas. Sobre esto unas observaciones:\n",
      "\n",
      "- La estructura de las entradas en el BSC viene detallada en el archivo bsc5.readme, junto con una somera descripci\u00f3n.\n",
      "- No vamos a leer todos los campos, sino tan solo aquellos que vamos a utilizar m\u00e1s adelante.\n",
      "- Al tratarse de registros con campos de ancho fijo, utilizaremos la funci\u00f3n read_fwf() de la librer\u00eda Pandas que permite proporcionar una descripci\u00f3n de la posici\u00f3n de comienzo y longitud de cada campo."
     ]
    },
    {
     "cell_type": "code",
     "collapsed": false,
     "input": [
      "colspecs = [(0,4), (4,14), (25,31), (31,37), (41,42), (43,44), (51,60), \n",
      "            (90,96), (96,102), (102,107), (109,114), (115,120), (127,147)]"
     ],
     "language": "python",
     "metadata": {},
     "outputs": [],
     "prompt_number": 2
    },
    {
     "cell_type": "code",
     "collapsed": false,
     "input": [
      "labels =['HR', 'Name', 'HD', 'SAO', 'IRflag', 'Multiple', 'VarID', \n",
      "         'GLON', 'GLAT', 'Vmag', 'B-V', 'U-B', 'SpType']"
     ],
     "language": "python",
     "metadata": {},
     "outputs": [],
     "prompt_number": 3
    },
    {
     "cell_type": "code",
     "collapsed": false,
     "input": [
      "bsc = pd.read_fwf('../datos/bsc5.dat', header= None, colspecs=colspecs,\n",
      "                    names=labels, index_col=0)"
     ],
     "language": "python",
     "metadata": {},
     "outputs": [],
     "prompt_number": 4
    },
    {
     "cell_type": "markdown",
     "metadata": {},
     "source": [
      "Veamos una muestra de los datos:"
     ]
    },
    {
     "cell_type": "code",
     "collapsed": false,
     "input": [
      "bsc.head()"
     ],
     "language": "python",
     "metadata": {},
     "outputs": [
      {
       "html": [
        "<div style=\"max-height:1000px;max-width:1500px;overflow:auto;\">\n",
        "<table border=\"1\" class=\"dataframe\">\n",
        "  <thead>\n",
        "    <tr style=\"text-align: right;\">\n",
        "      <th></th>\n",
        "      <th>Name</th>\n",
        "      <th>HD</th>\n",
        "      <th>SAO</th>\n",
        "      <th>IRflag</th>\n",
        "      <th>Multiple</th>\n",
        "      <th>VarID</th>\n",
        "      <th>GLON</th>\n",
        "      <th>GLAT</th>\n",
        "      <th>Vmag</th>\n",
        "      <th>B-V</th>\n",
        "      <th>U-B</th>\n",
        "      <th>SpType</th>\n",
        "    </tr>\n",
        "    <tr>\n",
        "      <th>HR</th>\n",
        "      <th></th>\n",
        "      <th></th>\n",
        "      <th></th>\n",
        "      <th></th>\n",
        "      <th></th>\n",
        "      <th></th>\n",
        "      <th></th>\n",
        "      <th></th>\n",
        "      <th></th>\n",
        "      <th></th>\n",
        "      <th></th>\n",
        "      <th></th>\n",
        "    </tr>\n",
        "  </thead>\n",
        "  <tbody>\n",
        "    <tr>\n",
        "      <th>1</th>\n",
        "      <td>       NaN</td>\n",
        "      <td>   3</td>\n",
        "      <td>  36042</td>\n",
        "      <td> NaN</td>\n",
        "      <td> NaN</td>\n",
        "      <td>      NaN</td>\n",
        "      <td> 114.44</td>\n",
        "      <td>-16.88</td>\n",
        "      <td> 6.70</td>\n",
        "      <td> 0.07</td>\n",
        "      <td> 0.08</td>\n",
        "      <td>         A1Vn</td>\n",
        "    </tr>\n",
        "    <tr>\n",
        "      <th>2</th>\n",
        "      <td>       NaN</td>\n",
        "      <td>   6</td>\n",
        "      <td> 128569</td>\n",
        "      <td> NaN</td>\n",
        "      <td> NaN</td>\n",
        "      <td>      NaN</td>\n",
        "      <td>  98.33</td>\n",
        "      <td>-61.14</td>\n",
        "      <td> 6.29</td>\n",
        "      <td> 1.10</td>\n",
        "      <td> 1.02</td>\n",
        "      <td>          gG9</td>\n",
        "    </tr>\n",
        "    <tr>\n",
        "      <th>3</th>\n",
        "      <td> 33    Psc</td>\n",
        "      <td>  28</td>\n",
        "      <td> 128572</td>\n",
        "      <td>   I</td>\n",
        "      <td> NaN</td>\n",
        "      <td>     Var?</td>\n",
        "      <td>  93.75</td>\n",
        "      <td>-65.93</td>\n",
        "      <td> 4.61</td>\n",
        "      <td> 1.04</td>\n",
        "      <td> 0.89</td>\n",
        "      <td> K0IIIbCN-0.5</td>\n",
        "    </tr>\n",
        "    <tr>\n",
        "      <th>4</th>\n",
        "      <td> 86    Peg</td>\n",
        "      <td>  87</td>\n",
        "      <td>  91701</td>\n",
        "      <td> NaN</td>\n",
        "      <td> NaN</td>\n",
        "      <td>      NaN</td>\n",
        "      <td> 106.19</td>\n",
        "      <td>-47.98</td>\n",
        "      <td> 5.51</td>\n",
        "      <td> 0.90</td>\n",
        "      <td>  NaN</td>\n",
        "      <td>        G5III</td>\n",
        "    </tr>\n",
        "    <tr>\n",
        "      <th>5</th>\n",
        "      <td>       NaN</td>\n",
        "      <td> 123</td>\n",
        "      <td>  21085</td>\n",
        "      <td> NaN</td>\n",
        "      <td> NaN</td>\n",
        "      <td> V640 Cas</td>\n",
        "      <td> 117.03</td>\n",
        "      <td> -3.92</td>\n",
        "      <td> 5.96</td>\n",
        "      <td> 0.67</td>\n",
        "      <td> 0.20</td>\n",
        "      <td>          G5V</td>\n",
        "    </tr>\n",
        "  </tbody>\n",
        "</table>\n",
        "</div>"
       ],
       "metadata": {},
       "output_type": "pyout",
       "prompt_number": 5,
       "text": [
        "         Name   HD     SAO IRflag Multiple     VarID    GLON   GLAT  Vmag  \\\n",
        "HR                                                                          \n",
        "1         NaN    3   36042    NaN      NaN       NaN  114.44 -16.88  6.70   \n",
        "2         NaN    6  128569    NaN      NaN       NaN   98.33 -61.14  6.29   \n",
        "3   33    Psc   28  128572      I      NaN      Var?   93.75 -65.93  4.61   \n",
        "4   86    Peg   87   91701    NaN      NaN       NaN  106.19 -47.98  5.51   \n",
        "5         NaN  123   21085    NaN      NaN  V640 Cas  117.03  -3.92  5.96   \n",
        "\n",
        "     B-V   U-B        SpType  \n",
        "HR                            \n",
        "1   0.07  0.08          A1Vn  \n",
        "2   1.10  1.02           gG9  \n",
        "3   1.04  0.89  K0IIIbCN-0.5  \n",
        "4   0.90   NaN         G5III  \n",
        "5   0.67  0.20           G5V  "
       ]
      }
     ],
     "prompt_number": 5
    },
    {
     "cell_type": "code",
     "collapsed": false,
     "input": [
      "bsc.tail()"
     ],
     "language": "python",
     "metadata": {},
     "outputs": [
      {
       "html": [
        "<div style=\"max-height:1000px;max-width:1500px;overflow:auto;\">\n",
        "<table border=\"1\" class=\"dataframe\">\n",
        "  <thead>\n",
        "    <tr style=\"text-align: right;\">\n",
        "      <th></th>\n",
        "      <th>Name</th>\n",
        "      <th>HD</th>\n",
        "      <th>SAO</th>\n",
        "      <th>IRflag</th>\n",
        "      <th>Multiple</th>\n",
        "      <th>VarID</th>\n",
        "      <th>GLON</th>\n",
        "      <th>GLAT</th>\n",
        "      <th>Vmag</th>\n",
        "      <th>B-V</th>\n",
        "      <th>U-B</th>\n",
        "      <th>SpType</th>\n",
        "    </tr>\n",
        "    <tr>\n",
        "      <th>HR</th>\n",
        "      <th></th>\n",
        "      <th></th>\n",
        "      <th></th>\n",
        "      <th></th>\n",
        "      <th></th>\n",
        "      <th></th>\n",
        "      <th></th>\n",
        "      <th></th>\n",
        "      <th></th>\n",
        "      <th></th>\n",
        "      <th></th>\n",
        "      <th></th>\n",
        "    </tr>\n",
        "  </thead>\n",
        "  <tbody>\n",
        "    <tr>\n",
        "      <th>9106</th>\n",
        "      <td> NaN</td>\n",
        "      <td> 225233</td>\n",
        "      <td> 255629</td>\n",
        "      <td> NaN</td>\n",
        "      <td> NaN</td>\n",
        "      <td>      NaN</td>\n",
        "      <td> 307.68</td>\n",
        "      <td>-43.80</td>\n",
        "      <td> 7.31</td>\n",
        "      <td> 0.44</td>\n",
        "      <td> 0.01</td>\n",
        "      <td>       F2V</td>\n",
        "    </tr>\n",
        "    <tr>\n",
        "      <th>9107</th>\n",
        "      <td> NaN</td>\n",
        "      <td> 225239</td>\n",
        "      <td>  53622</td>\n",
        "      <td> NaN</td>\n",
        "      <td> NaN</td>\n",
        "      <td>      NaN</td>\n",
        "      <td> 112.17</td>\n",
        "      <td>-27.24</td>\n",
        "      <td> 6.12</td>\n",
        "      <td> 0.62</td>\n",
        "      <td> 0.09</td>\n",
        "      <td>       G2V</td>\n",
        "    </tr>\n",
        "    <tr>\n",
        "      <th>9108</th>\n",
        "      <td> NaN</td>\n",
        "      <td> 225253</td>\n",
        "      <td> 255631</td>\n",
        "      <td> NaN</td>\n",
        "      <td> NaN</td>\n",
        "      <td>      NaN</td>\n",
        "      <td> 308.18</td>\n",
        "      <td>-45.21</td>\n",
        "      <td> 5.59</td>\n",
        "      <td>-0.12</td>\n",
        "      <td>-0.42</td>\n",
        "      <td>    B8IV-V</td>\n",
        "    </tr>\n",
        "    <tr>\n",
        "      <th>9109</th>\n",
        "      <td> NaN</td>\n",
        "      <td> 225276</td>\n",
        "      <td>  73731</td>\n",
        "      <td>   I</td>\n",
        "      <td> NaN</td>\n",
        "      <td>      NaN</td>\n",
        "      <td> 110.22</td>\n",
        "      <td>-35.07</td>\n",
        "      <td> 6.25</td>\n",
        "      <td> 1.40</td>\n",
        "      <td> 1.59</td>\n",
        "      <td>    K4IIIb</td>\n",
        "    </tr>\n",
        "    <tr>\n",
        "      <th>9110</th>\n",
        "      <td> NaN</td>\n",
        "      <td> 225289</td>\n",
        "      <td>  10962</td>\n",
        "      <td> NaN</td>\n",
        "      <td> NaN</td>\n",
        "      <td> V567 Cas</td>\n",
        "      <td> 117.40</td>\n",
        "      <td> -1.06</td>\n",
        "      <td> 5.80</td>\n",
        "      <td>-0.09</td>\n",
        "      <td>-0.32</td>\n",
        "      <td> B8IVpHgMn</td>\n",
        "    </tr>\n",
        "  </tbody>\n",
        "</table>\n",
        "</div>"
       ],
       "metadata": {},
       "output_type": "pyout",
       "prompt_number": 6,
       "text": [
        "     Name      HD     SAO IRflag Multiple     VarID    GLON   GLAT  Vmag  \\\n",
        "HR                                                                         \n",
        "9106  NaN  225233  255629    NaN      NaN       NaN  307.68 -43.80  7.31   \n",
        "9107  NaN  225239   53622    NaN      NaN       NaN  112.17 -27.24  6.12   \n",
        "9108  NaN  225253  255631    NaN      NaN       NaN  308.18 -45.21  5.59   \n",
        "9109  NaN  225276   73731      I      NaN       NaN  110.22 -35.07  6.25   \n",
        "9110  NaN  225289   10962    NaN      NaN  V567 Cas  117.40  -1.06  5.80   \n",
        "\n",
        "       B-V   U-B     SpType  \n",
        "HR                           \n",
        "9106  0.44  0.01        F2V  \n",
        "9107  0.62  0.09        G2V  \n",
        "9108 -0.12 -0.42     B8IV-V  \n",
        "9109  1.40  1.59     K4IIIb  \n",
        "9110 -0.09 -0.32  B8IVpHgMn  "
       ]
      }
     ],
     "prompt_number": 6
    },
    {
     "cell_type": "heading",
     "level": 2,
     "metadata": {},
     "source": [
      "Diagrama color-color de la secuencia principal"
     ]
    },
    {
     "cell_type": "markdown",
     "metadata": {},
     "source": [
      "El prop\u00f3sito final de este post es hacer diagramas color-color de los diferentes tipos de estrellas, es decir, clases espectrales, para lo cual comenzaremos con las estrellas en la secuencia principal. Utilizaremos los \u00edndices de color del sistema UBV, al ser estos los recogidos en el BSC\n",
      "\n",
      "Se denominan as\u00ed las estrellas (las cuales constituyen aproxim\u00e1damente el 80% de la poblaci\u00f3n estelar) que utilizan hidr\u00f3geno como combustible en sus procesos de fusi\u00f3n nuclear.\n",
      "\n",
      "Para diferenciar estas estrellas del resto nos servremos del campo de tipo espectral del BSC (la columna del dataframe con el nombre SpType). El BSC utiliza el sistema de clasificaci\u00f3n de Morgan-Keenan (MK), el cual incluye la clasificaci\u00f3n espectral en el esquema de clasificaci\u00f3n de Harvard (O B A F G K M m\u00e1s un numeral 0-9), al cual se a\u00f1ade una clasificaci\u00f3n basada en la luminosidad, que utiliza numerales romanos I-VI, a los cuales se a\u00f1ade en ocasiones una letra min\u00fascula \"a\" o \"b\". Ejemplos de la clasificaci\u00f3n resultante son: \"B5III\", \"A5Ia\", \"K0V\", etc. En particular, la \"V\" significa \"main sequence\", que es lo que nos va a permitir reconocer las estrellas pertenecientes a la secuencia principal.\n",
      "\n",
      "Observaci\u00f3n importante: t\u00e9ngase en cuenta que el \"Bright Star Catalogue\" solo incluye las estrellas m\u00e1s brillantes, b\u00e1sicamente aquellas que son visibles a simple vista, por lo que el n\u00famero de estrellas de una determinada clase espectral en el cat\u00e1logo no es en modo alguno representativa de su abundancia en el universo. Las estrellas menos brillantes o m\u00e1s lejanas no estar\u00e1n representadas en el BSC."
     ]
    },
    {
     "cell_type": "markdown",
     "metadata": {},
     "source": [
      "\u00bfCuantos tipos espectrales existen en el cat\u00e1logo?"
     ]
    },
    {
     "cell_type": "code",
     "collapsed": false,
     "input": [
      "bsc['SpType'].nunique()"
     ],
     "language": "python",
     "metadata": {},
     "outputs": [
      {
       "metadata": {},
       "output_type": "pyout",
       "prompt_number": 7,
       "text": [
        "1975"
       ]
      }
     ],
     "prompt_number": 7
    },
    {
     "cell_type": "markdown",
     "metadata": {},
     "source": [
      "\u00bfHay algunos tipos espectrales sin datos (marcados como NaN en Pandas)?"
     ]
    },
    {
     "cell_type": "code",
     "collapsed": false,
     "input": [
      "pd.isnull(bsc['SpType']).sum()"
     ],
     "language": "python",
     "metadata": {},
     "outputs": [
      {
       "metadata": {},
       "output_type": "pyout",
       "prompt_number": 8,
       "text": [
        "14"
       ]
      }
     ],
     "prompt_number": 8
    },
    {
     "cell_type": "markdown",
     "metadata": {},
     "source": [
      "Hay 14. Eliminemos del dataframe estas entradas"
     ]
    },
    {
     "cell_type": "code",
     "collapsed": false,
     "input": [
      "b = pd.notnull(bsc['SpType'])\n",
      "bsc = bsc[b]\n",
      "bsc.info()"
     ],
     "language": "python",
     "metadata": {},
     "outputs": [
      {
       "output_type": "stream",
       "stream": "stdout",
       "text": [
        "<class 'pandas.core.frame.DataFrame'>\n",
        "Int64Index: 9096 entries, 1 to 9110\n",
        "Data columns (total 12 columns):\n",
        "Name        3143 non-null object\n",
        "HD          9096 non-null float64\n",
        "SAO         9071 non-null float64\n",
        "IRflag      1743 non-null object\n",
        "Multiple    1577 non-null object\n",
        "VarID       2172 non-null object\n",
        "GLON        9096 non-null float64\n",
        "GLAT        9096 non-null float64\n",
        "Vmag        9096 non-null float64\n",
        "B-V         8786 non-null float64\n",
        "U-B         7206 non-null float64\n",
        "SpType      9096 non-null object\n",
        "dtypes: float64(7), object(5)\n",
        "memory usage: 923.8+ KB\n"
       ]
      }
     ],
     "prompt_number": 9
    },
    {
     "cell_type": "markdown",
     "metadata": {},
     "source": [
      "En el resumen anterior comprobamos que el dataframe tiene ya 14 entradas menos, y el campo SpType carece de valores no nulos.\n",
      "\n",
      "A cpntinuaci\u00f3n vamos a seleccionar las estrellas en la secuencia principal, creando un nuevo dataframe al cual llamaremos main(). Estas son aquellas que en la clasificaci\u00f3n MK tienen una clase de luminosidad 'V':"
     ]
    },
    {
     "cell_type": "code",
     "collapsed": false,
     "input": [
      "b1 = bsc['SpType'].str.contains('V')\n",
      "b2 = bsc['SpType'].str.contains('IV')\n",
      "b3 = bsc['SpType'].str.contains('VI')\n",
      "\n",
      "# Clases de luminosidad de tipo \"V\", no \"IV\", ni \"VI\" ni \"VII\"\n",
      "b = np.logical_and(b1,np.logical_and(np.logical_not(b2),np.logical_not(b3)))\n",
      "main = bsc[b]\n",
      "main.shape\n"
     ],
     "language": "python",
     "metadata": {},
     "outputs": [
      {
       "metadata": {},
       "output_type": "pyout",
       "prompt_number": 10,
       "text": [
        "(3025, 12)"
       ]
      }
     ],
     "prompt_number": 10
    },
    {
     "cell_type": "markdown",
     "metadata": {},
     "source": [
      "Hagamos una primera comprobaci\u00f3n visual:"
     ]
    },
    {
     "cell_type": "code",
     "collapsed": false,
     "input": [
      "main[0:10]"
     ],
     "language": "python",
     "metadata": {},
     "outputs": [
      {
       "html": [
        "<div style=\"max-height:1000px;max-width:1500px;overflow:auto;\">\n",
        "<table border=\"1\" class=\"dataframe\">\n",
        "  <thead>\n",
        "    <tr style=\"text-align: right;\">\n",
        "      <th></th>\n",
        "      <th>Name</th>\n",
        "      <th>HD</th>\n",
        "      <th>SAO</th>\n",
        "      <th>IRflag</th>\n",
        "      <th>Multiple</th>\n",
        "      <th>VarID</th>\n",
        "      <th>GLON</th>\n",
        "      <th>GLAT</th>\n",
        "      <th>Vmag</th>\n",
        "      <th>B-V</th>\n",
        "      <th>U-B</th>\n",
        "      <th>SpType</th>\n",
        "    </tr>\n",
        "    <tr>\n",
        "      <th>HR</th>\n",
        "      <th></th>\n",
        "      <th></th>\n",
        "      <th></th>\n",
        "      <th></th>\n",
        "      <th></th>\n",
        "      <th></th>\n",
        "      <th></th>\n",
        "      <th></th>\n",
        "      <th></th>\n",
        "      <th></th>\n",
        "      <th></th>\n",
        "      <th></th>\n",
        "    </tr>\n",
        "  </thead>\n",
        "  <tbody>\n",
        "    <tr>\n",
        "      <th>1 </th>\n",
        "      <td>       NaN</td>\n",
        "      <td>   3</td>\n",
        "      <td>  36042</td>\n",
        "      <td> NaN</td>\n",
        "      <td> NaN</td>\n",
        "      <td>      NaN</td>\n",
        "      <td> 114.44</td>\n",
        "      <td>-16.88</td>\n",
        "      <td> 6.70</td>\n",
        "      <td> 0.07</td>\n",
        "      <td> 0.08</td>\n",
        "      <td>    A1Vn</td>\n",
        "    </tr>\n",
        "    <tr>\n",
        "      <th>5 </th>\n",
        "      <td>       NaN</td>\n",
        "      <td> 123</td>\n",
        "      <td>  21085</td>\n",
        "      <td> NaN</td>\n",
        "      <td> NaN</td>\n",
        "      <td> V640 Cas</td>\n",
        "      <td> 117.03</td>\n",
        "      <td> -3.92</td>\n",
        "      <td> 5.96</td>\n",
        "      <td> 0.67</td>\n",
        "      <td> 0.20</td>\n",
        "      <td>     G5V</td>\n",
        "    </tr>\n",
        "    <tr>\n",
        "      <th>8 </th>\n",
        "      <td>       NaN</td>\n",
        "      <td> 166</td>\n",
        "      <td>  73743</td>\n",
        "      <td> NaN</td>\n",
        "      <td> NaN</td>\n",
        "      <td>       33</td>\n",
        "      <td> 111.26</td>\n",
        "      <td>-32.83</td>\n",
        "      <td> 6.13</td>\n",
        "      <td> 0.75</td>\n",
        "      <td> 0.33</td>\n",
        "      <td>     K0V</td>\n",
        "    </tr>\n",
        "    <tr>\n",
        "      <th>9 </th>\n",
        "      <td>       NaN</td>\n",
        "      <td> 203</td>\n",
        "      <td> 166053</td>\n",
        "      <td> NaN</td>\n",
        "      <td> NaN</td>\n",
        "      <td>      NaN</td>\n",
        "      <td>  52.21</td>\n",
        "      <td>-79.14</td>\n",
        "      <td> 6.18</td>\n",
        "      <td> 0.38</td>\n",
        "      <td> 0.05</td>\n",
        "      <td>     A7V</td>\n",
        "    </tr>\n",
        "    <tr>\n",
        "      <th>10</th>\n",
        "      <td>       NaN</td>\n",
        "      <td> 256</td>\n",
        "      <td> 147090</td>\n",
        "      <td> NaN</td>\n",
        "      <td> NaN</td>\n",
        "      <td>      NaN</td>\n",
        "      <td>  74.36</td>\n",
        "      <td>-75.90</td>\n",
        "      <td> 6.19</td>\n",
        "      <td> 0.14</td>\n",
        "      <td> 0.10</td>\n",
        "      <td>    A6Vn</td>\n",
        "    </tr>\n",
        "    <tr>\n",
        "      <th>12</th>\n",
        "      <td>       NaN</td>\n",
        "      <td> 319</td>\n",
        "      <td> 166066</td>\n",
        "      <td> NaN</td>\n",
        "      <td> NaN</td>\n",
        "      <td>       46</td>\n",
        "      <td>  55.56</td>\n",
        "      <td>-79.07</td>\n",
        "      <td> 5.94</td>\n",
        "      <td> 0.14</td>\n",
        "      <td> 0.06</td>\n",
        "      <td>   A2Vp:</td>\n",
        "    </tr>\n",
        "    <tr>\n",
        "      <th>24</th>\n",
        "      <td>   Kap1Scl</td>\n",
        "      <td> 493</td>\n",
        "      <td> 166083</td>\n",
        "      <td> NaN</td>\n",
        "      <td> NaN</td>\n",
        "      <td>      NaN</td>\n",
        "      <td>  25.24</td>\n",
        "      <td>-80.63</td>\n",
        "      <td> 5.42</td>\n",
        "      <td> 0.42</td>\n",
        "      <td> 0.08</td>\n",
        "      <td>     F2V</td>\n",
        "    </tr>\n",
        "    <tr>\n",
        "      <th>26</th>\n",
        "      <td> 34    Psc</td>\n",
        "      <td> 560</td>\n",
        "      <td>  91750</td>\n",
        "      <td> NaN</td>\n",
        "      <td> NaN</td>\n",
        "      <td>      NaN</td>\n",
        "      <td> 106.87</td>\n",
        "      <td>-50.43</td>\n",
        "      <td> 5.51</td>\n",
        "      <td>-0.07</td>\n",
        "      <td>-0.24</td>\n",
        "      <td>    B9Vn</td>\n",
        "    </tr>\n",
        "    <tr>\n",
        "      <th>32</th>\n",
        "      <td>       NaN</td>\n",
        "      <td> 661</td>\n",
        "      <td> 255642</td>\n",
        "      <td> NaN</td>\n",
        "      <td>   W</td>\n",
        "      <td>      NaN</td>\n",
        "      <td> 306.98</td>\n",
        "      <td>-43.58</td>\n",
        "      <td> 6.64</td>\n",
        "      <td> 0.37</td>\n",
        "      <td> 0.06</td>\n",
        "      <td> F2V+F6V</td>\n",
        "    </tr>\n",
        "    <tr>\n",
        "      <th>33</th>\n",
        "      <td>  6    Cet</td>\n",
        "      <td> 693</td>\n",
        "      <td> 147133</td>\n",
        "      <td> NaN</td>\n",
        "      <td> NaN</td>\n",
        "      <td>      NaN</td>\n",
        "      <td>  82.24</td>\n",
        "      <td>-75.06</td>\n",
        "      <td> 4.89</td>\n",
        "      <td> 0.49</td>\n",
        "      <td>-0.03</td>\n",
        "      <td>     F7V</td>\n",
        "    </tr>\n",
        "  </tbody>\n",
        "</table>\n",
        "</div>"
       ],
       "metadata": {},
       "output_type": "pyout",
       "prompt_number": 11,
       "text": [
        "         Name   HD     SAO IRflag Multiple     VarID    GLON   GLAT  Vmag  \\\n",
        "HR                                                                          \n",
        "1         NaN    3   36042    NaN      NaN       NaN  114.44 -16.88  6.70   \n",
        "5         NaN  123   21085    NaN      NaN  V640 Cas  117.03  -3.92  5.96   \n",
        "8         NaN  166   73743    NaN      NaN        33  111.26 -32.83  6.13   \n",
        "9         NaN  203  166053    NaN      NaN       NaN   52.21 -79.14  6.18   \n",
        "10        NaN  256  147090    NaN      NaN       NaN   74.36 -75.90  6.19   \n",
        "12        NaN  319  166066    NaN      NaN        46   55.56 -79.07  5.94   \n",
        "24    Kap1Scl  493  166083    NaN      NaN       NaN   25.24 -80.63  5.42   \n",
        "26  34    Psc  560   91750    NaN      NaN       NaN  106.87 -50.43  5.51   \n",
        "32        NaN  661  255642    NaN        W       NaN  306.98 -43.58  6.64   \n",
        "33   6    Cet  693  147133    NaN      NaN       NaN   82.24 -75.06  4.89   \n",
        "\n",
        "     B-V   U-B   SpType  \n",
        "HR                       \n",
        "1   0.07  0.08     A1Vn  \n",
        "5   0.67  0.20      G5V  \n",
        "8   0.75  0.33      K0V  \n",
        "9   0.38  0.05      A7V  \n",
        "10  0.14  0.10     A6Vn  \n",
        "12  0.14  0.06    A2Vp:  \n",
        "24  0.42  0.08      F2V  \n",
        "26 -0.07 -0.24     B9Vn  \n",
        "32  0.37  0.06  F2V+F6V  \n",
        "33  0.49 -0.03      F7V  "
       ]
      }
     ],
     "prompt_number": 11
    },
    {
     "cell_type": "markdown",
     "metadata": {},
     "source": [
      "Ahora queremos comprobar que la primera letra de estas clases espectrales est\u00e1 en la secuencia O, B, A, F, G, K, M"
     ]
    },
    {
     "cell_type": "code",
     "collapsed": false,
     "input": [
      "main['SpType'].map(lambda s:s[0]).unique()"
     ],
     "language": "python",
     "metadata": {},
     "outputs": [
      {
       "metadata": {},
       "output_type": "pyout",
       "prompt_number": 12,
       "text": [
        "array(['A', 'G', 'K', 'F', 'B', 'M', 'O'], dtype=object)"
       ]
      }
     ],
     "prompt_number": 12
    },
    {
     "cell_type": "markdown",
     "metadata": {},
     "source": [
      "Preparamos ahora un diccionario de Python con los c\u00f3digos de colores que vamos a asignar a cada clase espectral, los cuales ir\u00e1n del azul (tipo O) al rojo (tipo M):"
     ]
    },
    {
     "cell_type": "code",
     "collapsed": false,
     "input": [
      "colors = {'O':'#0000FF', 'B':'#CCCCFF', 'A':'#FFFFFF', 'F':'#FFFFB2', 'G':'#FFFF00', 'K':'#FFA500', 'M':'#FF0000'}"
     ],
     "language": "python",
     "metadata": {},
     "outputs": [],
     "prompt_number": 13
    },
    {
     "cell_type": "markdown",
     "metadata": {},
     "source": [
      "Y generamos el diagrama color-color con Python Matplotlib"
     ]
    },
    {
     "cell_type": "code",
     "collapsed": false,
     "input": [
      "fig, ax = plt.subplots(figsize=(10, 10))\n",
      "ax.set_axis_bgcolor('0.6')\n",
      "ax.grid()\n",
      "ax.set_title(u'Color-color secuencia principal cat\u00e1logo BSC')\n",
      "\n",
      "ax.title.set_fontsize(20)\n",
      "ax.set_xlabel('B-V')\n",
      "ax.xaxis.label.set_fontsize(20)\n",
      "ax.set_ylabel('U-B')\n",
      "ax.yaxis.label.set_fontsize(20)\n",
      "\n",
      "for cls in 'OBAFGKM':\n",
      "    f = lambda s: s[0] == cls\n",
      "    b = main['SpType'].astype('string').map(f)\n",
      "    x = main[b]['B-V']\n",
      "    y = main[b]['U-B']\n",
      "    c = colors[cls]\n",
      "    ax.scatter(x, y, c = c, s=6, edgecolors='none', label = cls)\n",
      "\n",
      "legend = ax.legend(scatterpoints=1,markerscale = 6, shadow=True)\n",
      "frame = legend.get_frame()\n",
      "frame.set_facecolor('0.90')"
     ],
     "language": "python",
     "metadata": {},
     "outputs": [
      {
       "metadata": {},
       "output_type": "display_data",
       "png": "[encoded data removed]",
       "text": [
        "<matplotlib.figure.Figure at 0x7f704d0ada10>"
       ]
      }
     ],
     "prompt_number": 14
    },
    {
     "cell_type": "markdown",
     "metadata": {},
     "source": [
      "Se ve que de la clase M hay muy poquitas estrellas, \u00a1pero esto es porque solo estamos considerando aquellas visibles a simple vista! y son poco luminosas. De hecho son las m\u00e1s abundantes con diferencia."
     ]
    },
    {
     "cell_type": "heading",
     "level": 2,
     "metadata": {},
     "source": [
      "Diagrama color-color de las estrellas gigantes"
     ]
    },
    {
     "cell_type": "markdown",
     "metadata": {},
     "source": [
      "Previamente, vamos a ver si en el BSC existen estrellas enanas, entendiendo por tal las correspondientes a las clases de luminosidad VI y VII"
     ]
    },
    {
     "cell_type": "code",
     "collapsed": false,
     "input": [
      "b =  bsc['SpType'].str.contains('VI')\n",
      "bsc[b].shape"
     ],
     "language": "python",
     "metadata": {},
     "outputs": [
      {
       "metadata": {},
       "output_type": "pyout",
       "prompt_number": 15,
       "text": [
        "(0, 12)"
       ]
      }
     ],
     "prompt_number": 15
    },
    {
     "cell_type": "markdown",
     "metadata": {},
     "source": [
      "Vemos que no hay estrellas de estos tipos en el cat\u00e1logo BSC, lo que era de esperar al tratarse de un cat\u00e1logo de las estrellas m\u00e1s brillantes del cielo. Esto significa que en el campo SpType no hay valores \"VI\" ni VII\", lo que ser\u00e1 tenido en cuenta al hacer la selecci\u00f3n."
     ]
    },
    {
     "cell_type": "markdown",
     "metadata": {},
     "source": [
      "Vamos pues a incorporar al gr\u00e1fico las estrellas pertenecientes a clases de luminosidad de tipos gigantes:\n",
      "\n",
      "* I  Supergigantes\n",
      "* II Gigantes brillantes\n",
      "* III Gigantes normales\n",
      "* IV Subgigantes"
     ]
    },
    {
     "cell_type": "markdown",
     "metadata": {},
     "source": [
      "Vamos a ver cuantas estrellas hay de estas clases en el bsc:"
     ]
    },
    {
     "cell_type": "code",
     "collapsed": false,
     "input": [
      "b =  bsc['SpType'].str.contains('I')\n",
      "giants = bsc[b]\n",
      "giants.shape"
     ],
     "language": "python",
     "metadata": {},
     "outputs": [
      {
       "metadata": {},
       "output_type": "pyout",
       "prompt_number": 16,
       "text": [
        "(5161, 12)"
       ]
      }
     ],
     "prompt_number": 16
    },
    {
     "cell_type": "markdown",
     "metadata": {},
     "source": [
      "Y veamos a continuaci\u00f3n si entre estas aparecen nuevas clases espectrales adem\u00e1s de las habituales O, B, A, F, G, K, M"
     ]
    },
    {
     "cell_type": "code",
     "collapsed": false,
     "input": [
      "giants['SpType'].map(lambda s:s[0]).unique()"
     ],
     "language": "python",
     "metadata": {},
     "outputs": [
      {
       "metadata": {},
       "output_type": "pyout",
       "prompt_number": 17,
       "text": [
        "array(['K', 'G', 'B', 'F', 'M', 'A', 'O', 'S', 'C', 'W'], dtype=object)"
       ]
      }
     ],
     "prompt_number": 17
    },
    {
     "cell_type": "markdown",
     "metadata": {},
     "source": [
      "Vemos que en efecto aparecen nuevas clases espectrales m\u00e1s ex\u00f3ticas: W (estrellas azules y brillantes que poseen sobre todo helio en lugar de hidr\u00f3geno en sus atm\u00f3sferas), y las estrellas de carbono de tipos C y S, gigantes y supergigantes rojas en fases finales de su evoluci\u00f3n, de modo que vamos a ampliar nuestro diccionario de colores para acomodar estos nuevos tipos"
     ]
    },
    {
     "cell_type": "code",
     "collapsed": false,
     "input": [
      "colors = {'O':'#0000FF', 'B':'#CCCCFF', 'A':'#FFFFFF', 'F':'#FFFFB2', 'G':'#FFFF00', 'K':'#FFA500', 'M':'#FF0000',\n",
      "          'W':'#000099' ,'S':'#B80000', 'C':'#780000'}"
     ],
     "language": "python",
     "metadata": {},
     "outputs": [],
     "prompt_number": 18
    },
    {
     "cell_type": "markdown",
     "metadata": {},
     "source": [
      "A continuaci\u00f3n vamos a ver cual es la incidencia de los nuevos tipos W, S y C. En el gr\u00e1fico a continuaci\u00f3n veremos que su presencia en el BSC es muy escasa, y en el caso de las estrellas de carbono su posici\u00f3n en un esquema color-color es ocupando posiciones muy extremas (magnitudes muy elevadas, y por lo tanto baja temperatura y color rojo intenso)."
     ]
    },
    {
     "cell_type": "code",
     "collapsed": false,
     "input": [
      "fig, ax = plt.subplots(figsize=(10, 10))\n",
      "ax.set_axis_bgcolor('0.6')\n",
      "\n",
      "ax.grid()\n",
      "ax.set_title(u'Color-color secuencia principal cat\u00e1logo BSC')\n",
      "\n",
      "ax.title.set_fontsize(20)\n",
      "ax.set_xlabel('B-V')\n",
      "ax.xaxis.label.set_fontsize(20)\n",
      "ax.set_ylabel('U-B')\n",
      "ax.yaxis.label.set_fontsize(20)\n",
      "\n",
      "for cls in 'WSC':\n",
      "    f = lambda s: s[0] == cls\n",
      "    b = giants['SpType'].astype('string').map(f)\n",
      "    x = giants[b]['B-V']\n",
      "    y = giants[b]['U-B']\n",
      "    c = colors[cls]\n",
      "    ax.scatter(x, y, c = c, s=30,\n",
      "               edgecolors='None', label = cls)\n",
      "  \n",
      "legend = ax.legend(scatterpoints=1,markerscale = 2, shadow=True)\n",
      "frame = legend.get_frame()\n",
      "frame.set_facecolor('0.90')\n"
     ],
     "language": "python",
     "metadata": {},
     "outputs": [
      {
       "metadata": {},
       "output_type": "display_data",
       "png": "[encoded data removed]",
       "text": [
        "<matplotlib.figure.Figure at 0x7f704cd95b10>"
       ]
      }
     ],
     "prompt_number": 19
    },
    {
     "cell_type": "markdown",
     "metadata": {},
     "source": [
      "Dada la escasez de estrellas de las clases W, S y C en el cat\u00e1logo BSC, una vez hemos visto donde se ubican en los gr\u00e1ficos color-color,  vamos a omitir su representaci\u00f3n, ya que su inclusi\u00f3n alteraria mucho la escala de los ejes. A continuaci\u00f3n generaremos un gr\u00e1fico en el que vamos a superponer las estrellas de la secuencia principal y las gigantes, con excepci\u00f3n de las de tipo W, S y C. Con el fin de diferenciarlas, las estrellas de la secuencia principal se van a representar ahora con puntos peque\u00f1os de color negro, mientras que las estrellas gigantes (tipos I, II, III y IV) se van a mostrar con los colores convencionales, y discos semitransparentes.\n",
      "\n",
      "En el mismo gr\u00e1fico vamos a superponer la l\u00ednea recta correspondiente al diagrama color-color \"ideal\" que corresponder\u00eda a un cuerpo negro. para ello utilizaremos las funciones definidas en el [post anterior](http://balbuceosastropy.blogspot.com.es/2013/10/el-color-de-los-objetos-celestes.html)."
     ]
    },
    {
     "cell_type": "code",
     "collapsed": false,
     "input": [
      "def B(wl,T):\n",
      "    '''wl es un array de longitudes de onda con unidades de longitud\n",
      "    T es una temperatura expresada en Kelvin\n",
      "    el resultado es un array de valores de la radiancia espectral\n",
      "    con unidades W/(m**2 * nm * sr)\n",
      "    '''\n",
      "    I = 2 * pq.constants.h * (pq.c)**2 / wl**5 *  \\\n",
      "        1 / (np.exp((pq.constants.h*pq.c \\\n",
      "        / (wl*pq.constants.k*T)).simplified)-1)\n",
      "    return I.rescale(pq.watt/(pq.m**2 * pq.nm *pq.sr))\n",
      "\n",
      "# Definici\u00f3n de las constantes del sistema fotom\u00e9trico UBV\n",
      "lambda_u = 365 * pq.nm\n",
      "delta_u = 68 * pq.nm\n",
      "lambda_b = 440 * pq.nm\n",
      "delta_b = 98 * pq.nm\n",
      "lambda_v = 550 * pq.nm\n",
      "delta_v = 89 * pq.nm\n",
      "\n",
      "# C\u00e1lculo de Cu-b\n",
      "T = 42000*pq.kelvin\n",
      "F = B(lambda_u, T) * delta_u/(B(lambda_b, T)* delta_b)\n",
      "Cub = -1.19 + 2.5 * np.log10(F)\n",
      "\n",
      "# C\u00e1lculo de Cb-v\n",
      "F = B(lambda_b, T) * delta_b/(B(lambda_v, T)* delta_v)\n",
      "Cbv = -0.33 + 2.5 * np.log10(F)\n",
      "\n",
      "# Funciones para calcular los \u00edndices de color del cuerpo negro\n",
      "def get_UB(T):\n",
      "    F = B(lambda_u, T) * delta_u/(B(lambda_b, T)* delta_b)\n",
      "    return -2.5 * np.log10(F) + Cub\n",
      "\n",
      "def get_BV(T):\n",
      "    F = B(lambda_b, T) * delta_b/(B(lambda_v, T)* delta_v)\n",
      "    return -2.5 * np.log10(F) + Cbv"
     ],
     "language": "python",
     "metadata": {},
     "outputs": [],
     "prompt_number": 20
    },
    {
     "cell_type": "markdown",
     "metadata": {},
     "source": [
      "Y generamos el diagrama:"
     ]
    },
    {
     "cell_type": "code",
     "collapsed": false,
     "input": [
      "fig, ax = plt.subplots(figsize=(10, 10))\n",
      "ax.set_axis_bgcolor('0.6')\n",
      "\n",
      "#ax.set_xlim(-1, 6)\n",
      "#ax.set_ylim(-1, 2.5)\n",
      "ax.grid()\n",
      "ax.set_title(u'Color-color secuencia principal y gigantes cat\u00e1logo BSC')\n",
      "\n",
      "ax.title.set_fontsize(20)\n",
      "ax.set_xlabel('B-V')\n",
      "ax.xaxis.label.set_fontsize(20)\n",
      "ax.set_ylabel('U-B')\n",
      "ax.yaxis.label.set_fontsize(20)\n",
      "\n",
      "\n",
      "for cls in 'OBAFGKM':\n",
      "    f = lambda s: s[0] == cls\n",
      "    b = giants['SpType'].astype('string').map(f)\n",
      "    x = giants[b]['B-V']\n",
      "    y = giants[b]['U-B']\n",
      "    c = colors[cls]\n",
      "    ax.scatter(x, y, c = c, s=50, alpha = 0.5,\n",
      "               edgecolors='None', label = cls)\n",
      "\n",
      "x = main['B-V']\n",
      "y = main['U-B']\n",
      "ax.scatter(x, y, c = 'black', s=6, edgecolors='none',\n",
      "           label='Main')    \n",
      "    \n",
      "legend = ax.legend(scatterpoints=1, markerscale = 2,shadow=True)\n",
      "frame = legend.get_frame()\n",
      "frame.set_facecolor('0.90')\n",
      "\n",
      "T1 = 2500 * pq.kelvin\n",
      "T2 = 25000 * pq.kelvin\n",
      "\n",
      "BminusV_1 = get_BV(T1)\n",
      "UminusB_1 = get_UB(T1)\n",
      "BminusV_2 = get_BV(T2)\n",
      "UminusB_2 = get_UB(T2)\n",
      "\n",
      "# Basta con dos puntos para determinar la recta\n",
      "ax.plot([BminusV_1, BminusV_2], [UminusB_1, UminusB_2], lw = 3, c='k') \n",
      "ax.text(0.9,0.4,'blackbody', fontsize=20, rotation = 35);"
     ],
     "language": "python",
     "metadata": {},
     "outputs": [
      {
       "ename": "NameError",
       "evalue": "name 'plt' is not defined",
       "output_type": "pyerr",
       "traceback": [
        "\u001b[1;31m---------------------------------------------------------------------------\u001b[0m\n\u001b[1;31mNameError\u001b[0m                                 Traceback (most recent call last)",
        "\u001b[1;32m<ipython-input-1-fecb26930650>\u001b[0m in \u001b[0;36m<module>\u001b[1;34m()\u001b[0m\n\u001b[1;32m----> 1\u001b[1;33m \u001b[0mfig\u001b[0m\u001b[1;33m,\u001b[0m \u001b[0max\u001b[0m \u001b[1;33m=\u001b[0m \u001b[0mplt\u001b[0m\u001b[1;33m.\u001b[0m\u001b[0msubplots\u001b[0m\u001b[1;33m(\u001b[0m\u001b[0mfigsize\u001b[0m\u001b[1;33m=\u001b[0m\u001b[1;33m(\u001b[0m\u001b[1;36m10\u001b[0m\u001b[1;33m,\u001b[0m \u001b[1;36m10\u001b[0m\u001b[1;33m)\u001b[0m\u001b[1;33m)\u001b[0m\u001b[1;33m\u001b[0m\u001b[0m\n\u001b[0m\u001b[0;32m      2\u001b[0m \u001b[0max\u001b[0m\u001b[1;33m.\u001b[0m\u001b[0mset_axis_bgcolor\u001b[0m\u001b[1;33m(\u001b[0m\u001b[1;34m'0.6'\u001b[0m\u001b[1;33m)\u001b[0m\u001b[1;33m\u001b[0m\u001b[0m\n\u001b[0;32m      3\u001b[0m \u001b[1;33m\u001b[0m\u001b[0m\n\u001b[0;32m      4\u001b[0m \u001b[1;31m#ax.set_xlim(-1, 6)\u001b[0m\u001b[1;33m\u001b[0m\u001b[1;33m\u001b[0m\u001b[0m\n\u001b[0;32m      5\u001b[0m \u001b[1;31m#ax.set_ylim(-1, 2.5)\u001b[0m\u001b[1;33m\u001b[0m\u001b[1;33m\u001b[0m\u001b[0m\n",
        "\u001b[1;31mNameError\u001b[0m: name 'plt' is not defined"
       ]
      }
     ],
     "prompt_number": 1
    },
    {
     "cell_type": "markdown",
     "metadata": {},
     "source": [
      "La figura anterior presenta caracter\u00edsticas interesantes. La primera, que la radiaci\u00f3n emitida por las estrellas se aparta en cierta medida de la correspondiente a un cuerpo negro (recordemos que esta es una l\u00ednea recta). Las estrellas no son cuerpos negros ideales. La mejor aproximaci\u00f3n es la correspondiente a las estrellas m\u00e1s calientes (O y B en la figura).\n",
      "\n",
      "No obstante, la caracter\u00edstica m\u00e1s sobresaliente es la brusca desviaci\u00f3n de las estrellas de la clase A respecto de la l\u00ednea de emisi\u00f3n del cuerpo negro. Si nos fijamos en la secuencia principal, esta describe una curva en forma de U invertida que se separa y luego vuelve a aproximarse a la l\u00ednea del cuerpo negro. Esta caracter\u00edstica ilustra el fen\u00f3meno conocido como \"**Balmer jump**\" o \"salto de Balmer\".\n",
      "\n",
      "B\u00e1sicamente, cuando la temperatura superficial de la estrella alcanza un valor cr\u00edtico, lo que ocurre con las estrellas de clase espectral a partir de A0, se produce una intensa absorci\u00f3n de los fotones emitidos por el interior de la estrella en la regi\u00f3n del ultravioleta. Dichos fotones son absorbidos por los \u00e1tomos de hidr\u00f3geno en la superficie de la estrella excitando sus electrones, lo que se traduce en la aparici\u00f3n de las l\u00edneas de absorci\u00f3n de la serie de Balmer del hidr\u00f3geno en el espectro de estas estrellas. Esto implica que, como efecto de la absorci\u00f3n de estos fotones, se debilita la emisi\u00f3n de radiaci\u00f3n por la estrella en la regi\u00f3n del ultravioleta, y la magnitud U-B crece (recordemos que a menor flujo radiante recibido mayor magnitud), es decir, toma valores positivos mas deprisa de lo que le corresponder\u00eda a un cuerpo negro, separandose bruscamente de dicha l\u00ednea como se aprecia en la figura.\n",
      "\n",
      "A partir de la clase espectral A5 la temperatura superficial de la estrella disminuye y hay menos \u00e1tomos de hidr\u00f3geno en los niveles energ\u00e9ticos que les permiten capturar dichos fotones. Consecuentemente la radiaci\u00f3n en el ultravioleta se recupera y el \u00edndice de color U-B deja de crecer. La curva se aproxima de nuevo, tambi\u00e9n bruscamente, a la l\u00ednea correspondiente a la radiaci\u00f3n de un cuerpo negro.\n",
      "\n",
      "Este fen\u00f3meno est\u00e1 perfectamente explicado en el libro de  Keith Robinson: \n",
      "[Starlight: An Introduction to Stellar Physics for Amateurs](http://www.amazon.es/Starlight-Introduction-Practical-Astronomy-ebook/dp/B00623DCDG)"
     ]
    },
    {
     "cell_type": "heading",
     "level": 2,
     "metadata": {},
     "source": [
      "Diagramas color-color de las clases de luminosidad MK"
     ]
    },
    {
     "cell_type": "markdown",
     "metadata": {},
     "source": [
      "Para terminar este post, ya un tanto largo, realizaremos un conjunto de diagramas color-color para representar el comportamiento en estos diagramas de las distintas clases de luminosidad del esquema MK"
     ]
    },
    {
     "cell_type": "code",
     "collapsed": false,
     "input": [
      "# Creaci\u00f3n de un dataframe con solo estrellas clase IV\n",
      "bIV = giants['SpType'].str.contains('IV')\n",
      "giantsIV = giants[bIV]\n",
      "giantsIV.shape"
     ],
     "language": "python",
     "metadata": {},
     "outputs": [
      {
       "metadata": {},
       "output_type": "pyout",
       "prompt_number": 22,
       "text": [
        "(1274, 12)"
       ]
      }
     ],
     "prompt_number": 22
    },
    {
     "cell_type": "code",
     "collapsed": false,
     "input": [
      "# Creaci\u00f3n de un dataframe con solo estrellas clase III\n",
      "bIII = giants['SpType'].str.contains('III')\n",
      "giantsIII = giants[bIII]\n",
      "giantsIII.shape"
     ],
     "language": "python",
     "metadata": {},
     "outputs": [
      {
       "metadata": {},
       "output_type": "pyout",
       "prompt_number": 23,
       "text": [
        "(3525, 12)"
       ]
      }
     ],
     "prompt_number": 23
    },
    {
     "cell_type": "code",
     "collapsed": false,
     "input": [
      "# Creaci\u00f3n de un dataframe con solo estrellas clase II\n",
      "bII = giants['SpType'].str.contains('II')\n",
      "b = np.logical_and(bII, np.logical_not(bIII))\n",
      "giantsII = giants[b]\n",
      "giantsII.shape"
     ],
     "language": "python",
     "metadata": {},
     "outputs": [
      {
       "metadata": {},
       "output_type": "pyout",
       "prompt_number": 24,
       "text": [
        "(287, 12)"
       ]
      }
     ],
     "prompt_number": 24
    },
    {
     "cell_type": "code",
     "collapsed": false,
     "input": [
      "# Creaci\u00f3n de un dataframe con solo estrellas clase I\n",
      "bI = giants['SpType'].str.contains('I')\n",
      "b = np.logical_and(bI, np.logical_not(bII))\n",
      "giantsI = giants[b]\n",
      "giantsI.shape"
     ],
     "language": "python",
     "metadata": {},
     "outputs": [
      {
       "metadata": {},
       "output_type": "pyout",
       "prompt_number": 25,
       "text": [
        "(1349, 12)"
       ]
      }
     ],
     "prompt_number": 25
    },
    {
     "cell_type": "code",
     "collapsed": false,
     "input": [
      "fig = plt.figure(figsize=(10,15))\n",
      "ax1 = fig.add_subplot(321)\n",
      "x = main['B-V']\n",
      "y = main['U-B']\n",
      "ax1.scatter(x, y, c = 'black', s=0.1)\n",
      "ax1.set_xlim(-0.5, 2.5)\n",
      "ax1.set_ylim(-1.5, 3)\n",
      "ax1.set_xlabel('B-V')\n",
      "ax1.set_ylabel('U-B')\n",
      "ax1.grid()\n",
      "ax1.set_title('Secuencia principal (MK V)');\n",
      "\n",
      "ax2 = fig.add_subplot(322)\n",
      "x = giantsIV['B-V']\n",
      "y = giantsIV['U-B']\n",
      "ax2.scatter(x, y, c = 'black', s=0.1)\n",
      "ax2.set_xlim(-0.5, 2.5)\n",
      "ax2.set_ylim(-1.5, 3)\n",
      "ax2.set_xlabel('B-V')\n",
      "ax2.set_ylabel('U-B')\n",
      "ax2.grid()\n",
      "ax2.set_title('Subgigantes (MK IV)');\n",
      "\n",
      "ax3 = fig.add_subplot(323)\n",
      "x = giantsIII['B-V']\n",
      "y = giantsIII['U-B']\n",
      "ax3.scatter(x, y, c = 'black', s=0.1)\n",
      "ax3.set_xlim(-0.5, 2.5)\n",
      "ax3.set_ylim(-1.5, 3)\n",
      "ax3.set_xlabel('B-V')\n",
      "ax3.set_ylabel('U-B')\n",
      "ax3.grid()\n",
      "ax3.set_title('Gigantes (MK III)');\n",
      "\n",
      "ax4 = fig.add_subplot(324)\n",
      "x = giantsII['B-V']\n",
      "y = giantsII['U-B']\n",
      "ax4.scatter(x, y, c = 'black', s=0.1)\n",
      "ax4.set_xlim(-0.5, 2.5)\n",
      "ax4.set_ylim(-1.5, 3)\n",
      "ax4.set_xlabel('B-V')\n",
      "ax4.set_ylabel('U-B')\n",
      "ax4.grid()\n",
      "ax4.set_title('Gigantes luminosas (MK II)');\n",
      "\n",
      "ax5 = fig.add_subplot(325)\n",
      "x = giantsI['B-V']\n",
      "y = giantsI['U-B']\n",
      "ax5.scatter(x, y, c = 'black', s=0.1)\n",
      "ax5.set_xlim(-0.5, 2.5)\n",
      "ax5.set_ylim(-1.5, 3)\n",
      "ax5.set_xlabel('B-V')\n",
      "ax5.set_ylabel('U-B')\n",
      "ax5.grid()\n",
      "ax5.set_title('Supergigantes (MK I)');"
     ],
     "language": "python",
     "metadata": {},
     "outputs": [
      {
       "metadata": {},
       "output_type": "display_data",
       "png": "[encoded data removed]",
       "text": [
        "<matplotlib.figure.Figure at 0x7f704cefcd90>"
       ]
      }
     ],
     "prompt_number": 26
    },
    {
     "cell_type": "markdown",
     "metadata": {},
     "source": [
      "Esto es todo por ahora: \u00a1hasta el pr\u00f3ximo post!"
     ]
    }
   ],
   "metadata": {}
  }
 ]
}