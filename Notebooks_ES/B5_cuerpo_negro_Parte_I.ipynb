{
 "metadata": {
  "name": "",
  "signature": "sha256:f4262e7b7b1ea443ce55e9fcdd38ecb39c519bd6fcdb6000543640860c1845ce"
 },
 "nbformat": 3,
 "nbformat_minor": 0,
 "worksheets": [
  {
   "cells": [
    {
     "cell_type": "heading",
     "level": 1,
     "metadata": {},
     "source": [
      "La radiaci\u00f3n del cuerpo negro y el fondo c\u00f3smico de microondas (CMB) en Python: parte I"
     ]
    },
    {
     "cell_type": "markdown",
     "metadata": {},
     "source": [
      "Autor: [Eduardo Mart\u00edn Calleja](http://balbuceosastropy.blogspot.com.es/)"
     ]
    },
    {
     "cell_type": "markdown",
     "metadata": {},
     "source": [
      "Este post es el primero de una serie de dos en el cual examinaremos con ayuda del lenguaje Python las caracter\u00edsticas de la radiaci\u00f3n de un cuerpo negro en general y, en un segundo post, aplicaremos lo visto al caso particular del espectro de radiaci\u00f3n t\u00e9rmica del fondo c\u00f3smico de microondas (CMB).\n",
      "\n",
      "El estudio de las propiedades de los objetos celestes, como su color o luminosidad, necesita del concepto de cuerpo emisor ideal de radiaci\u00f3n conocido como \"cuerpo negro\". Las estrellas radian energ\u00eda que depende de su temperatura y de la longitud de onda de la radiaci\u00f3n, y la ley de emisi\u00f3n de un cuerpo negro pude considerarse como una primera aproximaci\u00f3n de las caracter\u00edsticas de esta radiaci\u00f3n. Por este motivo mostrar\u00e9 en este post como construir en Python las curvas de radiaci\u00f3n caracter\u00edsticas de un cuerpo negro a diferentes temperaturas, lo que constituir\u00e1 adem\u00e1s un buen ejercicio para practicar con el uso de unidades f\u00edsicas con el m\u00f3dulo *quantities*, que fue el objeto del [post anterior](http://balbuceosastropy.blogspot.com.es/2013/09/trabajando-con-unidades-y-constantes.html)\n",
      "\n",
      "Como de costumbre, esta entrada est\u00e1 escrita \u00edntegramente utilizando el Notebook de IPhython"
     ]
    },
    {
     "cell_type": "heading",
     "level": 2,
     "metadata": {},
     "source": [
      "Importaciones y referencias"
     ]
    },
    {
     "cell_type": "markdown",
     "metadata": {},
     "source": [
      "Puede consultarse el siguiente art\u00edculo en Wikipedia. Personalmente recomiendo la versi\u00f3n inglesa del mismo: [Planck's law](http://en.wikipedia.org/wiki/Planck%27s_law)"
     ]
    },
    {
     "cell_type": "code",
     "collapsed": false,
     "input": [
      "%matplotlib inline\n",
      "\n",
      "from __future__ import division\n",
      "\n",
      "import quantities as pq\n",
      "import numpy as np\n",
      "import matplotlib.pyplot as plt\n",
      "\n",
      "# Generar un cuadro con versiones de las librer\u00edas utilizadas en este notebook\n",
      "#https://github.com/jrjohansson/version_information\n",
      "%load_ext version_information\n",
      "%version_information numpy, matplotlib, quantities"
     ],
     "language": "python",
     "metadata": {},
     "outputs": [
      {
       "html": [
        "<table><tr><th>Software</th><th>Version</th></tr><tr><td>Python</td><td>2.7.9 64bit [GCC 4.4.7 20120313 (Red Hat 4.4.7-1)]</td></tr><tr><td>IPython</td><td>2.3.1</td></tr><tr><td>OS</td><td>Linux 3.13.0 44 generic x86_64 with debian jessie sid</td></tr><tr><td>numpy</td><td>1.9.1</td></tr><tr><td>matplotlib</td><td>1.4.2</td></tr><tr><td>quantities</td><td>0.10.1</td></tr><tr><td colspan='2'>Thu Jan 22 20:25:59 2015 CET</td></tr></table>"
       ],
       "json": [
        "{\"Software versions\": [{\"version\": \"2.7.9 64bit [GCC 4.4.7 20120313 (Red Hat 4.4.7-1)]\", \"module\": \"Python\"}, {\"version\": \"2.3.1\", \"module\": \"IPython\"}, {\"version\": \"Linux 3.13.0 44 generic x86_64 with debian jessie sid\", \"module\": \"OS\"}, {\"version\": \"1.9.1\", \"module\": \"numpy\"}, {\"version\": \"1.4.2\", \"module\": \"matplotlib\"}, {\"version\": \"0.10.1\", \"module\": \"quantities\"}]}"
       ],
       "latex": [
        "\\begin{tabular}{|l|l|}\\hline\n",
        "{\\bf Software} & {\\bf Version} \\\\ \\hline\\hline\n",
        "Python & 2.7.9 64bit [GCC 4.4.7 20120313 (Red Hat 4.4.7-1)] \\\\ \\hline\n",
        "IPython & 2.3.1 \\\\ \\hline\n",
        "OS & Linux 3.13.0 44 generic x86\\_64 with debian jessie sid \\\\ \\hline\n",
        "numpy & 1.9.1 \\\\ \\hline\n",
        "matplotlib & 1.4.2 \\\\ \\hline\n",
        "quantities & 0.10.1 \\\\ \\hline\n",
        "\\hline \\multicolumn{2}{|l|}{Thu Jan 22 20:25:59 2015 CET} \\\\ \\hline\n",
        "\\end{tabular}\n"
       ],
       "metadata": {},
       "output_type": "pyout",
       "prompt_number": 1,
       "text": [
        "Software versions\n",
        "Python 2.7.9 64bit [GCC 4.4.7 20120313 (Red Hat 4.4.7-1)]\n",
        "IPython 2.3.1\n",
        "OS Linux 3.13.0 44 generic x86_64 with debian jessie sid\n",
        "numpy 1.9.1\n",
        "matplotlib 1.4.2\n",
        "quantities 0.10.1\n",
        "Thu Jan 22 20:25:59 2015 CET"
       ]
      }
     ],
     "prompt_number": 1
    },
    {
     "cell_type": "heading",
     "level": 2,
     "metadata": {},
     "source": [
      "Radiaci\u00f3n del cuerpo negro"
     ]
    },
    {
     "cell_type": "markdown",
     "metadata": {},
     "source": [
      "La ecuaci\u00f3n de Plank representa la intensidad de la radiaci\u00f3n de un cuerpo negro en funci\u00f3n de la longitud de onda. Existe una curva para cada temperatura del cuerpo negro. Su forma es conocida como Ley de Plank:\n",
      "\n",
      "$$ B_\\lambda(T) = \\frac{2hc^2}{\\lambda^5} \\frac{1}{e^\\frac{hc}{\\lambda k_B T} -1}$$\n",
      "\n",
      "\n",
      "$B$ Es la **radiancia espectral**, definida como la potencia emitida por un \u00e1rea unidad del cuerpo negro en un \u00e1ngulo s\u00f3lido unitario normal al \u00e1rea, por unidad de longitud de onda. Se emplea normalmente la letra *B* en lugar de la letra *I* con la que se designan gen\u00e9ricamente las intensidades, para subrayar que nos estamos refiriendo espec\u00edficamente a un cuerpo negro (\"*blackbody*\").  Sus unidades, suponiendo que medimos las longitudes de onda en namometros, ser\u00e1n: $W m^{\u207b2} nm^{-1} sr^{\u207b1}$, siendo $sr$ la unidad de \u00e1ngulo s\u00f3lido \"estereorradian\".\n"
     ]
    },
    {
     "cell_type": "markdown",
     "metadata": {},
     "source": [
      "La f\u00f3rmula anterior utiliza las constantes siguientes:\n",
      "\n",
      "- $k_B$ la constante de Boltzmann\n",
      "\n",
      "- $h$ la constante de Plank\n",
      "\n",
      "las cuales, en el paquete  de Python *quantities* se definen como:"
     ]
    },
    {
     "cell_type": "code",
     "collapsed": false,
     "input": [
      "print repr(pq.constants.Planck_constant)\n",
      "print repr(pq.constants.Boltzmann_constant)"
     ],
     "language": "python",
     "metadata": {},
     "outputs": [
      {
       "output_type": "stream",
       "stream": "stdout",
       "text": [
        "UnitConstant('Planck_constant', 6.62606896e-34 * s*J, 'h')\n",
        "UnitConstant('Boltzmann_constant', 1.3806504e-23 * J/K, 'k')\n"
       ]
      }
     ],
     "prompt_number": 2
    },
    {
     "cell_type": "markdown",
     "metadata": {},
     "source": [
      "Vamos a definir una funci\u00f3n que permitir\u00e1 calcular la radiancia espectral seg\u00fan la anterior f\u00f3rmula de Plank"
     ]
    },
    {
     "cell_type": "code",
     "collapsed": false,
     "input": [
      "def B(wl,T):\n",
      "    '''wl es un array de longitudes de onda con unidades de longitud\n",
      "    T es una temperatura expresada en Kelvin\n",
      "    el resultado es un array de r.e. con unidades W/(m**2 * nm * sr)\n",
      "    '''\n",
      "    I = 2 * pq.constants.h * (pq.c)**2 / wl**5 *  \\\n",
      "        1 / (np.exp((pq.constants.h*pq.c \\\n",
      "        / (wl*pq.constants.k*T)).simplified)-1)\n",
      "    return I.rescale(pq.watt/(pq.m**2 * pq.nm *pq.sr))"
     ],
     "language": "python",
     "metadata": {},
     "outputs": [],
     "prompt_number": 3
    },
    {
     "cell_type": "markdown",
     "metadata": {},
     "source": [
      "Comprobaremos el correcto funcionamiento de la funci\u00f3n con un ejemplo:"
     ]
    },
    {
     "cell_type": "code",
     "collapsed": false,
     "input": [
      "B( 5000 *pq.angstrom, 5780 *pq.K)"
     ],
     "language": "python",
     "metadata": {},
     "outputs": [
      {
       "metadata": {},
       "output_type": "pyout",
       "prompt_number": 4,
       "text": [
        "array(26421.6296096971) * W/(m**2*nm*sr)"
       ]
      }
     ],
     "prompt_number": 4
    },
    {
     "cell_type": "markdown",
     "metadata": {},
     "source": [
      "A continuaci\u00f3n aplicaremos esta funci\u00f3n para obtener las curvas de radiaci\u00f3n del cuerpo negro para cuatro temperaturas"
     ]
    },
    {
     "cell_type": "code",
     "collapsed": false,
     "input": [
      "T1 = 4000 * pq.Kelvin\n",
      "T2 = 5000 * pq.Kelvin\n",
      "T3 = 6000 * pq.Kelvin\n",
      "T4 = 7000 * pq.Kelvin"
     ],
     "language": "python",
     "metadata": {},
     "outputs": [],
     "prompt_number": 5
    },
    {
     "cell_type": "markdown",
     "metadata": {},
     "source": [
      "Representaremos las curvas con la funci\u00f3n *plot()* del paquete Matplotlib"
     ]
    },
    {
     "cell_type": "code",
     "collapsed": false,
     "input": [
      "wl = np.arange(10,2000,10) * pq.nm    # array de longitudes de onda en nanometros\n",
      "\n",
      "fig, ax = plt.subplots(figsize=(12, 8))\n",
      "ax.plot(wl, B(wl,T4), label='7000K')\n",
      "ax.plot(wl, B(wl,T3), label='6000K')\n",
      "ax.plot(wl, B(wl,T2), label='5000K')\n",
      "ax.plot(wl, B(wl,T1), label='4000K')\n",
      "ax.legend()\n",
      "ax.set_title(u'Radiaci\u00f3n del cuerpo negro')\n",
      "ax.title.set_fontsize(20)\n",
      "ax.set_xlabel('Longitud de onda en nm')\n",
      "ax.xaxis.label.set_fontsize(15)\n",
      "ax.set_ylabel('Radianza espectral $(W m^{-2}nm^{-1}sr^{-1})$')\n",
      "ax.yaxis.label.set_fontsize(15)\n",
      "ax.axvspan(0,400,facecolor = 'violet',alpha = 0.6)\n",
      "ax.axvspan(400,700, facecolor='yellow', alpha = 0.5)\n",
      "ax.axvspan(700,2000, facecolor ='red', alpha = 0.3)\n",
      "ax.text(150,6e4, 'UV', fontsize=30, color = 'b')\n",
      "ax.text(1200,6e4, 'IR', fontsize=30, color = 'r')\n",
      "ax.text(420,6e4, 'VISIBLE', fontsize=20, color = 'green');"
     ],
     "language": "python",
     "metadata": {},
     "outputs": [
      {
       "metadata": {},
       "output_type": "display_data",
       "png": "[encoded data removed]",
       "text": [
        "<matplotlib.figure.Figure at 0x7fd07d15fc90>"
       ]
      }
     ],
     "prompt_number": 6
    },
    {
     "cell_type": "markdown",
     "metadata": {},
     "source": [
      "En la anterior figura se aprecia muy bien como, conforme se eleva la temperatura del cuerpo negro, el m\u00e1ximo de la intensidad emitida va correspondiendo a longitudes de onda cada vez m\u00e1s cortas, es decir, frecuencias m\u00e1s elevadas, o fotones m\u00e1s energ\u00e9ticos, entrando este m\u00e1ximo, a partir de los 7000K, en la regi\u00f3n del ultravioleta. Este hecho se expresa matem\u00e1ticamente mediante la ley de Wien."
     ]
    },
    {
     "cell_type": "heading",
     "level": 2,
     "metadata": {},
     "source": [
      "Ley de Wien"
     ]
    },
    {
     "cell_type": "markdown",
     "metadata": {},
     "source": [
      "La longitud de onda m\u00e1xima $\\lambda_{max} $   a la que emite un cuerpo negro viene dada por:\n",
      "\n",
      "$$ \\lambda_{max} = \\frac{b}{T} $$\n",
      "\n",
      "Siendo $b$ la constante de Wien, cuyo valor viene dado por:\n"
     ]
    },
    {
     "cell_type": "code",
     "collapsed": false,
     "input": [
      "print repr(pq.constants.b)"
     ],
     "language": "python",
     "metadata": {},
     "outputs": [
      {
       "output_type": "stream",
       "stream": "stdout",
       "text": [
        "UnitConstant('Wien_wavelength_displacement_law_constant', 0.0028977685 * m*K, 'b')\n"
       ]
      }
     ],
     "prompt_number": 7
    },
    {
     "cell_type": "markdown",
     "metadata": {},
     "source": [
      "Veamos algunos ejemplos:"
     ]
    },
    {
     "cell_type": "markdown",
     "metadata": {},
     "source": [
      "La estrella Betelgeuse, en la constelaci\u00f3n de Orion, tiene una temperatura superficial de 3600K. Si la consideramos en primera aproximaci\u00f3n como un cuerpo negro, \u00bfen qu\u00e9 longitud de onda presentar\u00e1 su espectro el m\u00e1ximo de radiaci\u00f3n?"
     ]
    },
    {
     "cell_type": "code",
     "collapsed": false,
     "input": [
      "l_max = pq.constants.b/(3600 * pq.K)\n",
      "print '%d Angstrom' %l_max.rescale(pq.angstrom)"
     ],
     "language": "python",
     "metadata": {},
     "outputs": [
      {
       "output_type": "stream",
       "stream": "stdout",
       "text": [
        "8049 Angstrom\n"
       ]
      }
     ],
     "prompt_number": 8
    },
    {
     "cell_type": "markdown",
     "metadata": {},
     "source": [
      "Es decir, la radiaci\u00f3n de Betelgeuse alcanzar\u00e1 su m\u00e1ximo en la regi\u00f3n del infrarojo cercano."
     ]
    },
    {
     "cell_type": "markdown",
     "metadata": {},
     "source": [
      "La ley de Wien tambi\u00e9n se puede utilizar para estimar la temperatura de una estrella a partir de su espectro (siempre con la aproximaci\u00f3n de suponer un modelo de radiaci\u00f3n de cuerpo negro):"
     ]
    },
    {
     "cell_type": "code",
     "collapsed": false,
     "input": [
      "# Supongamos que la radiaci\u00f3n de una estrella tiene su intensidad m\u00e1xima en los 400 nm\n",
      "\n",
      "lmax  = 400 * pq.nm\n",
      "\n",
      "T = pq.constants.b / lmax\n",
      "\n",
      "print \"Su temperatura efectiva ser\u00e1: %d K\" %T.simplified"
     ],
     "language": "python",
     "metadata": {},
     "outputs": [
      {
       "output_type": "stream",
       "stream": "stdout",
       "text": [
        "Su temperatura efectiva ser\u00e1: 7244 K\n"
       ]
      }
     ],
     "prompt_number": 9
    },
    {
     "cell_type": "heading",
     "level": 2,
     "metadata": {},
     "source": [
      "Ley de Stefan\u2013Boltzmann"
     ]
    },
    {
     "cell_type": "markdown",
     "metadata": {},
     "source": [
      "La ley de Stefan-Boltzmann es otra consecuencia importante de la ley de radiaci\u00f3n de Plank. Indica que el valor de la energ\u00eda total radiada por unidad de superficie y unidad de tiempo en todas las longitudes de onda, es proporcional a la cuarta potencia de la temperatura.\n",
      "\n",
      "A la energ\u00eda total radiada por unidad de superficie de un cuerpo negro en una unidad de tiempo, en todas las longitudes de onda se la conoce como **potencia emisiva**, y viene dada por:\n",
      "\n",
      "$$ E = \\sigma T^4 $$\n",
      "\n",
      "E se mide en $W/m^2$\n",
      "\n",
      "$\\sigma$ es la llamada constante de Stefan-Boltzmann, y su valor es:"
     ]
    },
    {
     "cell_type": "code",
     "collapsed": false,
     "input": [
      "print pq.constants.sigma, '=', pq.constants.sigma.simplified"
     ],
     "language": "python",
     "metadata": {},
     "outputs": [
      {
       "output_type": "stream",
       "stream": "stdout",
       "text": [
        "1 sigma (Stefan_Boltzmann_constant) = 5.6704e-08 kg/(s**3*K**4)\n"
       ]
      }
     ],
     "prompt_number": 10
    },
    {
     "cell_type": "markdown",
     "metadata": {},
     "source": [
      "Un concepto relacionado es el de la **luminosidad intr\u00ednseca** de una estrella, L, definida como la energ\u00eda total radiada por la estrella en una unidad de tiempo. Si el radio de la estrella es R y la temperatura de su superficie es T, se cumplir\u00e1 que:\n",
      "\n",
      "$$L = 4 \\pi R^2 E = 4 \\pi R^2 \\sigma T^4 $$\n",
      "\n",
      "La f\u00f3rmula anterior se podr\u00eda en principio utilizar para calcular la temperatura de la estrella conocida su luminosidad. Sin embargo las estrellas no son cuerpos negros perfectos, aunque unas se aproximan m\u00e1s que otras. Por esta raz\u00f3n se utiliza el concepto de **temperatura efectiva**, que es la temperatura que tendr\u00eda un cuerpo negro cuya luminosidad fuera la de la estrella. Esta temperatura efectiva puede considerarse como una aproximaci\u00f3n de la temperatura real de la superficie de la estrella. veamos un ejemplo:"
     ]
    },
    {
     "cell_type": "markdown",
     "metadata": {},
     "source": [
      "La luminosidad del Sol es: 3.839 x 10\u00b2\u2076 W. \u00bfCual ser\u00e1 su temperatura efectiva?"
     ]
    },
    {
     "cell_type": "code",
     "collapsed": false,
     "input": [
      "# Necesitaremos el valor del radio del Sol:\n",
      "sun_radius = 695000000.0 * pq.m\n",
      "\n",
      "l_sun = 3.839e26 * pq.watt\n",
      "\n",
      "temp_sun = (l_sun/(4 * np.pi * sun_radius**2 * pq.constants.sigma))**(1./4)\n",
      "print temp_sun.simplified"
     ],
     "language": "python",
     "metadata": {},
     "outputs": [
      {
       "output_type": "stream",
       "stream": "stdout",
       "text": [
        "5779.04712292 K\n"
       ]
      }
     ],
     "prompt_number": 11
    },
    {
     "cell_type": "markdown",
     "metadata": {},
     "source": [
      "Bueno, de momento paramos en este punto para no hacer la entrada demasiado larga. En mi siguiente post aplicar\u00e9 lo anterior al estudio con ayuda del lenguaje Python del espectro de radiaci\u00f3n del fondo c\u00f3smico de microondas (CMB)."
     ]
    }
   ],
   "metadata": {}
  }
 ]
}