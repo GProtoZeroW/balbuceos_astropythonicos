{
 "metadata": {
  "name": "",
  "signature": "sha256:fc85657ae55fad769a85c6786b29cde4d0517ac20dec39727d4240e912197f1a"
 },
 "nbformat": 3,
 "nbformat_minor": 0,
 "worksheets": [
  {
   "cells": [
    {
     "cell_type": "heading",
     "level": 1,
     "metadata": {},
     "source": [
      "How to work with physical units in Python?"
     ]
    },
    {
     "cell_type": "markdown",
     "metadata": {},
     "source": [
      "Autor: [Eduardo Mart\u00edn Calleja](http://balbuceosastropy.blogspot.com.es/)"
     ]
    },
    {
     "cell_type": "heading",
     "level": 2,
     "metadata": {},
     "source": [
      "Imports and references"
     ]
    },
    {
     "cell_type": "code",
     "collapsed": false,
     "input": [
      "from __future__ import division\n",
      "\n",
      "import quantities as pq\n",
      "import numpy as np\n",
      "import inspect\n",
      "\n",
      "# This IPython magic generates a table with version information\n",
      "#https://github.com/jrjohansson/version_information\n",
      "%load_ext version_information\n",
      "%version_information numpy, quantities"
     ],
     "language": "python",
     "metadata": {},
     "outputs": [
      {
       "html": [
        "<table><tr><th>Software</th><th>Version</th></tr><tr><td>Python</td><td>2.7.9 64bit [GCC 4.4.7 20120313 (Red Hat 4.4.7-1)]</td></tr><tr><td>IPython</td><td>2.3.1</td></tr><tr><td>OS</td><td>Linux 3.13.0 45 generic x86_64 with debian jessie sid</td></tr><tr><td>numpy</td><td>1.9.1</td></tr><tr><td>quantities</td><td>0.10.1</td></tr><tr><td colspan='2'>Fri Feb 20 21:45:43 2015 CET</td></tr></table>"
       ],
       "json": [
        "{\"Software versions\": [{\"version\": \"2.7.9 64bit [GCC 4.4.7 20120313 (Red Hat 4.4.7-1)]\", \"module\": \"Python\"}, {\"version\": \"2.3.1\", \"module\": \"IPython\"}, {\"version\": \"Linux 3.13.0 45 generic x86_64 with debian jessie sid\", \"module\": \"OS\"}, {\"version\": \"1.9.1\", \"module\": \"numpy\"}, {\"version\": \"0.10.1\", \"module\": \"quantities\"}]}"
       ],
       "latex": [
        "\\begin{tabular}{|l|l|}\\hline\n",
        "{\\bf Software} & {\\bf Version} \\\\ \\hline\\hline\n",
        "Python & 2.7.9 64bit [GCC 4.4.7 20120313 (Red Hat 4.4.7-1)] \\\\ \\hline\n",
        "IPython & 2.3.1 \\\\ \\hline\n",
        "OS & Linux 3.13.0 45 generic x86\\_64 with debian jessie sid \\\\ \\hline\n",
        "numpy & 1.9.1 \\\\ \\hline\n",
        "quantities & 0.10.1 \\\\ \\hline\n",
        "\\hline \\multicolumn{2}{|l|}{Fri Feb 20 21:45:43 2015 CET} \\\\ \\hline\n",
        "\\end{tabular}\n"
       ],
       "metadata": {},
       "output_type": "pyout",
       "prompt_number": 1,
       "text": [
        "Software versions\n",
        "Python 2.7.9 64bit [GCC 4.4.7 20120313 (Red Hat 4.4.7-1)]\n",
        "IPython 2.3.1\n",
        "OS Linux 3.13.0 45 generic x86_64 with debian jessie sid\n",
        "numpy 1.9.1\n",
        "quantities 0.10.1\n",
        "Fri Feb 20 21:45:43 2015 CET"
       ]
      }
     ],
     "prompt_number": 1
    },
    {
     "cell_type": "markdown",
     "metadata": {},
     "source": [
      "There are several Python packages for working with units and physical constants. I tried some of them and my personal preference is the package [quantities](http://pythonhosted.org/quantities/) I find its use particularly simple and natural, and the level of functionality is enough  for me, so it will be that I will use in the following examples."
     ]
    },
    {
     "cell_type": "heading",
     "level": 2,
     "metadata": {},
     "source": [
      "Why use physical units in Python?"
     ]
    },
    {
     "cell_type": "markdown",
     "metadata": {},
     "source": [
      "The first question that may arise is: why I need my preferred programming language to support physical units?. Well, suppose that at a certain time I assign to a variable the value of a length equal to 3 measured in meters. Another time I create another variable with a length of 5 feet extent. And later I add both quantities. In the absence of a control of the physical units involved, I'd get a result of 8, meaningless and wrong in any system of units. Imagine instead that I'm working with *quantities*, I would write:"
     ]
    },
    {
     "cell_type": "code",
     "collapsed": false,
     "input": [
      "x = 3 * pq.m\n",
      "y = 5 * pq.foot\n",
      "print x + y"
     ],
     "language": "python",
     "metadata": {},
     "outputs": [
      {
       "output_type": "stream",
       "stream": "stdout",
       "text": [
        "4.524 m\n"
       ]
      }
     ],
     "prompt_number": 2
    },
    {
     "cell_type": "markdown",
     "metadata": {},
     "source": [
      "As you can see, we get a correct result in meters."
     ]
    },
    {
     "cell_type": "markdown",
     "metadata": {},
     "source": [
      "But ... How could it happen to add meters and feet?. Well, in 1998 the spacecraft [Mars Climate Orbiter (MCO)](http://es.wikipedia.org/wiki/Mars_Climate_Orbiter) of NASA disintegrated in the Martian atmosphere because the software in the Earth based tracking station made use of the Anglo-Saxon system of units (inches, feet and pounds) while the software embarked on the ship used, according to specifications, the metric system (millimeters, meters, kilometers and kilos). No one made the necessary conversions."
     ]
    },
    {
     "cell_type": "markdown",
     "metadata": {},
     "source": [
      "Of course there are many other possibilities for error when working with numbers expressing quantities with physical units. In particular the loss of dimensional consistency. Suppose for example that we intend to add two quantities inadvertently, one representing a magnitude of force (in Newtons) and other of energy (in Joules):"
     ]
    },
    {
     "cell_type": "code",
     "collapsed": false,
     "input": [
      "x = 3.5 * pq.newton\n",
      "y = 0.7 * pq.joule\n",
      "try:\n",
      "    x + y # we get an error if the operation is invalid with this units\n",
      "except Exception as e:\n",
      "    print u'*** Attention! ***: ',e"
     ],
     "language": "python",
     "metadata": {},
     "outputs": [
      {
       "output_type": "stream",
       "stream": "stdout",
       "text": [
        "*** Attention! ***:  Unable to convert between units of \"J\" and \"N\"\n"
       ]
      }
     ],
     "prompt_number": 3
    },
    {
     "cell_type": "markdown",
     "metadata": {},
     "source": [
      "In this case *quantities* has generated an exception that warns us of the dimensional inconsistency of the operation we want to perform."
     ]
    },
    {
     "cell_type": "markdown",
     "metadata": {},
     "source": [
      "The usefulness of *quantities* goes much further, by keeping track of the composite units used to express the result of a calculation and automatically performing the appropriate conversions so that the result is correct. This means we can enter the values of the variables in the units we are most comfortable with at each time:"
     ]
    },
    {
     "cell_type": "code",
     "collapsed": false,
     "input": [
      "x = 0.3 * pq.km    # length in Km\n",
      "t = 250 * pq.ms     # time in milliseconds\n",
      "accel = x/t**2\n",
      "mass = 7 * pq.g  # mass in grams\n",
      "force = mass * accel\n",
      "print force"
     ],
     "language": "python",
     "metadata": {},
     "outputs": [
      {
       "output_type": "stream",
       "stream": "stdout",
       "text": [
        "3.36e-05 g*km/ms**2\n"
       ]
      }
     ],
     "prompt_number": 4
    },
    {
     "cell_type": "markdown",
     "metadata": {},
     "source": [
      "We can ask that the result is expressed in the base units (SI by default):"
     ]
    },
    {
     "cell_type": "code",
     "collapsed": false,
     "input": [
      "print force.simplified"
     ],
     "language": "python",
     "metadata": {},
     "outputs": [
      {
       "output_type": "stream",
       "stream": "stdout",
       "text": [
        "33.6 kg*m/s**2\n"
       ]
      }
     ],
     "prompt_number": 5
    },
    {
     "cell_type": "markdown",
     "metadata": {},
     "source": [
      "Or to be expressed in any unit derived, while respecting dimensional consistency:"
     ]
    },
    {
     "cell_type": "code",
     "collapsed": false,
     "input": [
      "print force.rescale(pq.newton)\n",
      "print force.rescale(pq.dyne)"
     ],
     "language": "python",
     "metadata": {},
     "outputs": [
      {
       "output_type": "stream",
       "stream": "stdout",
       "text": [
        "33.6 N\n",
        "3360000.0 dyn\n"
       ]
      }
     ],
     "prompt_number": 6
    },
    {
     "cell_type": "markdown",
     "metadata": {},
     "source": [
      "What is most important is that the correct units will go along all intermediate calculations, appropriate conversions being realized automatically, and letting us know if we ever make a dimensional mistake. Furthermore, the final outcome can be expressed in the units we want, provided they are dimensionally compatible with the units computed."
     ]
    },
    {
     "cell_type": "heading",
     "level": 2,
     "metadata": {},
     "source": [
      "The most used units in astronomy"
     ]
    },
    {
     "cell_type": "markdown",
     "metadata": {},
     "source": [
      "We have seen before some simple examples of using physical units with the package quantities. Its use in astronomy can be particularly useful due to the diversity of units. Below we will indicate some of the most common. In addition We will show the expression \"simplified\" in order to check the numerical value in SI units:"
     ]
    },
    {
     "cell_type": "code",
     "collapsed": false,
     "input": [
      "# Time and distance units\n",
      "print pq.year # time in years\n",
      "print pq.au, pq.au.simplified # distance in astronomical units\n",
      "print pq.light_year, pq.light_year.simplified # distance in light-years\n",
      "print pq.pc, pq.pc.simplified # distance in parsecs"
     ],
     "language": "python",
     "metadata": {},
     "outputs": [
      {
       "output_type": "stream",
       "stream": "stdout",
       "text": [
        "1 yr (year)\n",
        "1 au (astronomical_unit) 1.49597870691e+11 m\n",
        "1 ly (light_year) 9.46073047258e+15 m\n",
        "1 pc (parsec) 3.08568025e+16 m\n"
       ]
      }
     ],
     "prompt_number": 7
    },
    {
     "cell_type": "code",
     "collapsed": false,
     "input": [
      "# Temperature units\n",
      "print pq.K\n",
      "print pq.celsius"
     ],
     "language": "python",
     "metadata": {},
     "outputs": [
      {
       "output_type": "stream",
       "stream": "stdout",
       "text": [
        "1 K (Kelvin)\n",
        "1 degC (Celsius)\n"
       ]
      }
     ],
     "prompt_number": 8
    },
    {
     "cell_type": "markdown",
     "metadata": {},
     "source": [
      "But be very careful because *quantities* does not convert between scales of temperatures and absolute temperatures in degrees, as this means considering a reference point (absolute zero) for which the package is not ready. Temperatures are always considered as temperature differences."
     ]
    },
    {
     "cell_type": "code",
     "collapsed": false,
     "input": [
      "# In this example we see that the conversion is not performed\n",
      "temp = 345 * pq.celsius\n",
      "print temp.rescale(pq.K)"
     ],
     "language": "python",
     "metadata": {},
     "outputs": [
      {
       "output_type": "stream",
       "stream": "stdout",
       "text": [
        "345.0 K\n"
       ]
      }
     ],
     "prompt_number": 9
    },
    {
     "cell_type": "code",
     "collapsed": false,
     "input": [
      "# Neither is correct the conversion between Farhrenheit and Celsius scales\n",
      "# However, if the value is considered as an increase in temperature,\n",
      "# then, the result is the correct answer\n",
      "temp = 170 * pq.fahrenheit\n",
      "print temp.rescale(pq.celsius)"
     ],
     "language": "python",
     "metadata": {},
     "outputs": [
      {
       "output_type": "stream",
       "stream": "stdout",
       "text": [
        "94.4444444444 degC\n"
       ]
      }
     ],
     "prompt_number": 10
    },
    {
     "cell_type": "code",
     "collapsed": false,
     "input": [
      "# Measurement of angles\n",
      "print pq.deg\n",
      "print pq.rad\n",
      "print pq.arcmin\n",
      "print pq.arcsec"
     ],
     "language": "python",
     "metadata": {},
     "outputs": [
      {
       "output_type": "stream",
       "stream": "stdout",
       "text": [
        "1 deg (arcdegree)\n",
        "1 rad (radian)\n",
        "1 arcmin (arcminute)\n",
        "1 arcsec (arcsecond)\n"
       ]
      }
     ],
     "prompt_number": 11
    },
    {
     "cell_type": "markdown",
     "metadata": {},
     "source": [
      "Examples of using angular units:"
     ]
    },
    {
     "cell_type": "code",
     "collapsed": false,
     "input": [
      "print (np.pi/2 * pq.rad).rescale(pq.deg)"
     ],
     "language": "python",
     "metadata": {},
     "outputs": [
      {
       "output_type": "stream",
       "stream": "stdout",
       "text": [
        "90.0 deg\n"
       ]
      }
     ],
     "prompt_number": 12
    },
    {
     "cell_type": "code",
     "collapsed": false,
     "input": [
      "print (1 * pq.deg).rescale(pq.arcmin)"
     ],
     "language": "python",
     "metadata": {},
     "outputs": [
      {
       "output_type": "stream",
       "stream": "stdout",
       "text": [
        "60.0 arcmin\n"
       ]
      }
     ],
     "prompt_number": 13
    },
    {
     "cell_type": "markdown",
     "metadata": {},
     "source": [
      "You can define new units that do not exist in the package:"
     ]
    },
    {
     "cell_type": "code",
     "collapsed": false,
     "input": [
      "# Definition of new units\n",
      "Mly = pq.UnitQuantity('megalight_year', 1e6*pq.ly, symbol = 'Mly')\n",
      "Mpc = pq.UnitQuantity('megaparsec', 1e6*pq.pc, symbol = 'Mpc')"
     ],
     "language": "python",
     "metadata": {},
     "outputs": [],
     "prompt_number": 14
    },
    {
     "cell_type": "markdown",
     "metadata": {},
     "source": [
      "For example, how many light years are there in a megaparsec?"
     ]
    },
    {
     "cell_type": "code",
     "collapsed": false,
     "input": [
      "print (1 * Mpc).rescale(pq.ly)"
     ],
     "language": "python",
     "metadata": {},
     "outputs": [
      {
       "output_type": "stream",
       "stream": "stdout",
       "text": [
        "3261566.59778 ly\n"
       ]
      }
     ],
     "prompt_number": 15
    },
    {
     "cell_type": "markdown",
     "metadata": {},
     "source": [
      "The previous example shows that the new unit is not part of the *quantities* namespace, ie we write Mpc, not pq.Mpc"
     ]
    },
    {
     "cell_type": "heading",
     "level": 2,
     "metadata": {},
     "source": [
      "Constants"
     ]
    },
    {
     "cell_type": "markdown",
     "metadata": {},
     "source": [
      "The package *quantities* also presents a wide range of physical constants. As an example we quote the following, of interest in astronomy:"
     ]
    },
    {
     "cell_type": "code",
     "collapsed": false,
     "input": [
      "print pq.c, pq.c.simplified # Speed of light\n",
      "print pq.constants.G, pq.constants.G.simplified # Newtonian constant of gravitation"
     ],
     "language": "python",
     "metadata": {},
     "outputs": [
      {
       "output_type": "stream",
       "stream": "stdout",
       "text": [
        "1 c (speed_of_light) 299792458.0 m/s\n",
        "1 G (Newtonian_constant_of_gravitation) 6.67428e-11 m**3/(kg*s**2)\n"
       ]
      }
     ],
     "prompt_number": 16
    },
    {
     "cell_type": "markdown",
     "metadata": {},
     "source": [
      "And you can define new constants. I personally use the following ones:"
     ]
    },
    {
     "cell_type": "code",
     "collapsed": false,
     "input": [
      "# Definition of new constants:\n",
      "earth_radius = 6378160.0 * pq.m\n",
      "moon_radius = 1740000.0 * pq.m\n",
      "sun_radius = 695000000.0 * pq.m\n",
      "earth_mass =  5.97219e24 * pq.kg\n",
      "sun_mass = 332946 * earth_mass\n",
      "Hubble_constant = 67.80 * (pq.km/pq.s)/(1e6*pq.pc)"
     ],
     "language": "python",
     "metadata": {},
     "outputs": [],
     "prompt_number": 17
    },
    {
     "cell_type": "heading",
     "level": 2,
     "metadata": {},
     "source": [
      "NumPy Support"
     ]
    },
    {
     "cell_type": "markdown",
     "metadata": {},
     "source": [
      "A major strength of *quantities* is that it is fully compatible with NumPy arrays. You can define the type of units in an array:"
     ]
    },
    {
     "cell_type": "code",
     "collapsed": false,
     "input": [
      "xa = np.arange(10) * pq.N"
     ],
     "language": "python",
     "metadata": {},
     "outputs": [],
     "prompt_number": 18
    },
    {
     "cell_type": "markdown",
     "metadata": {},
     "source": [
      "Each element of the above array will have units in Newtons"
     ]
    },
    {
     "cell_type": "code",
     "collapsed": false,
     "input": [
      "print xa[5]"
     ],
     "language": "python",
     "metadata": {},
     "outputs": [
      {
       "output_type": "stream",
       "stream": "stdout",
       "text": [
        "5.0 N\n"
       ]
      }
     ],
     "prompt_number": 19
    },
    {
     "cell_type": "markdown",
     "metadata": {},
     "source": [
      "And array operations are supported: In the following example, by dividing the former array by a magnitude of mass, all the elements of the array will have acceleration units:"
     ]
    },
    {
     "cell_type": "code",
     "collapsed": false,
     "input": [
      "print (xa / (3.0 * pq.kg)).simplified"
     ],
     "language": "python",
     "metadata": {},
     "outputs": [
      {
       "output_type": "stream",
       "stream": "stdout",
       "text": [
        "[ 0.          0.33333333  0.66666667  1.          1.33333333  1.66666667\n",
        "  2.          2.33333333  2.66666667  3.        ] m/s**2\n"
       ]
      }
     ],
     "prompt_number": 20
    },
    {
     "cell_type": "markdown",
     "metadata": {},
     "source": [
      "Sometimes it is necessary to obtain the numerical value of the variable without including the unit type. This can be done in two ways, depending on that we want to obtain a numeric value or an array of NumPy:"
     ]
    },
    {
     "cell_type": "code",
     "collapsed": false,
     "input": [
      "# A single numerical value\n",
      "f = 30 * pq.N\n",
      "print f.item(), type(f.item())\n",
      "\n",
      "# An array of values\n",
      "print xa.magnitude, type(f.magnitude)"
     ],
     "language": "python",
     "metadata": {},
     "outputs": [
      {
       "output_type": "stream",
       "stream": "stdout",
       "text": [
        "30.0 <type 'float'>\n",
        "[ 0.  1.  2.  3.  4.  5.  6.  7.  8.  9.] <type 'numpy.ndarray'>\n"
       ]
      }
     ],
     "prompt_number": 21
    },
    {
     "cell_type": "heading",
     "level": 2,
     "metadata": {},
     "source": [
      "Exploring the contents of *quantities*"
     ]
    },
    {
     "cell_type": "markdown",
     "metadata": {},
     "source": [
      "The *quantities.units* package includes a large number of units arranged in a series of sub-modules, one for each type of unit. To list the different sub-modules we can write as follows:"
     ]
    },
    {
     "cell_type": "code",
     "collapsed": false,
     "input": [
      "for nombre, datos  in inspect.getmembers(pq.units, inspect.ismodule):\n",
      "    print nombre, ',',"
     ],
     "language": "python",
     "metadata": {},
     "outputs": [
      {
       "output_type": "stream",
       "stream": "stdout",
       "text": [
        "acceleration , angle , area , compound , electromagnetism , energy , force , frequency , heat , information , length , mass , power , prefixes , pressure , radiation , substance , temperature , time , velocity , viscosity , volume ,\n"
       ]
      }
     ],
     "prompt_number": 22
    },
    {
     "cell_type": "markdown",
     "metadata": {},
     "source": [
      "Then you can get a list of the names of the units in each package. For example, to see what are the units of type 'mass':"
     ]
    },
    {
     "cell_type": "code",
     "collapsed": false,
     "input": [
      "for u in dir(pq.mass):\n",
      "    print u,',',"
     ],
     "language": "python",
     "metadata": {},
     "outputs": [
      {
       "output_type": "stream",
       "stream": "stdout",
       "text": [
        "Da , UnitMass , __builtins__ , __doc__ , __file__ , __name__ , __package__ , absolute_import , amu , apdram , apothecary_ounce , apothecary_pound , apounce , appound , atomic_mass_unit , avoirdupois_ounce , avoirdupois_pound , bag , carat , dalton , denier , dr , drachm , dram , dtex , dwt , g , gr , grain , gram , kg , kilogram , lb , long_hundredweight , long_ton , metric_ton , mg , milligram , ounce , oz , pennyweight , pound , scruple , short_hundredweight , short_ton , slug , slugs , st , stone , t , tex , ton , tonne , toz , troy_ounce , troy_pound , u ,\n"
       ]
      }
     ],
     "prompt_number": 23
    },
    {
     "cell_type": "markdown",
     "metadata": {},
     "source": [
      "The other important package is quantities.constants:"
     ]
    },
    {
     "cell_type": "code",
     "collapsed": false,
     "input": [
      "for nombre, datos in inspect.getmembers(pq.constants, inspect.ismodule):\n",
      "    print nombre, ',',"
     ],
     "language": "python",
     "metadata": {},
     "outputs": [
      {
       "output_type": "stream",
       "stream": "stdout",
       "text": [
        "_codata , _utils , astronomy , atomicunits , deuteron , electromagnetism , electron , helion , mathematical , muon , naturalunits , neutron , proton , quantum , relationships , statisticalmechanics , tau , triton , weak , xray ,\n"
       ]
      }
     ],
     "prompt_number": 24
    },
    {
     "cell_type": "markdown",
     "metadata": {},
     "source": [
      "And to see for example the content of the module of astronomical constants:"
     ]
    },
    {
     "cell_type": "code",
     "collapsed": false,
     "input": [
      "dir(pq.constants.astronomy)"
     ],
     "language": "python",
     "metadata": {},
     "outputs": [
      {
       "metadata": {},
       "output_type": "pyout",
       "prompt_number": 25,
       "text": [
        "['G',\n",
        " 'Newtonian_constant_of_gravitation',\n",
        " '__builtins__',\n",
        " '__doc__',\n",
        " '__file__',\n",
        " '__name__',\n",
        " '__package__',\n",
        " 'absolute_import',\n",
        " 'astronomical_unit',\n",
        " 'au']"
       ]
      }
     ],
     "prompt_number": 25
    }
   ],
   "metadata": {}
  }
 ]
}