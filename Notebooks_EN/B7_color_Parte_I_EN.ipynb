{
 "metadata": {
  "name": "",
  "signature": "sha256:3c4c34d73bf000c3e5ded95acd44c03db74802c6db81d1d2c0ab6a22b131d1af"
 },
 "nbformat": 3,
 "nbformat_minor": 0,
 "worksheets": [
  {
   "cells": [
    {
     "cell_type": "heading",
     "level": 1,
     "metadata": {},
     "source": [
      "The color of celestial objects: part I"
     ]
    },
    {
     "cell_type": "markdown",
     "metadata": {},
     "source": [
      "Author: [Eduardo Mart\u00edn Calleja](http://balbuceosastropy.blogspot.com.es/)\n",
      "\n",
      "In this post I'll start a series of several articles on the subject of the color of celestial bodies. This first post will be mainly theoretical. In subsequent entries I will address the making of color-color diagrams based on real data obtained from different catalogs"
     ]
    },
    {
     "cell_type": "heading",
     "level": 2,
     "metadata": {},
     "source": [
      "Imports and references"
     ]
    },
    {
     "cell_type": "markdown",
     "metadata": {},
     "source": [
      "You can read an interesting introduction to the subject in: [Photometry](http://coolwiki.ipac.caltech.edu/index.php/Photometry) and [Color-Magnitude and Color-Color plots](http://coolwiki.ipac.caltech.edu/index.php/Color-Magnitude_and_Color-Color_plots)"
     ]
    },
    {
     "cell_type": "code",
     "collapsed": false,
     "input": [
      "%matplotlib inline\n",
      "\n",
      "from __future__ import division\n",
      "\n",
      "import quantities as pq\n",
      "import numpy as np\n",
      "import matplotlib.pyplot as plt\n",
      "\n",
      "# This IPython magic generates a table with version information\n",
      "#https://github.com/jrjohansson/version_information\n",
      "%load_ext version_information\n",
      "%version_information numpy, matplotlib, quantities"
     ],
     "language": "python",
     "metadata": {},
     "outputs": [
      {
       "html": [
        "<table><tr><th>Software</th><th>Version</th></tr><tr><td>Python</td><td>2.7.9 64bit [GCC 4.4.7 20120313 (Red Hat 4.4.7-1)]</td></tr><tr><td>IPython</td><td>2.3.1</td></tr><tr><td>OS</td><td>Linux 3.13.0 45 generic x86_64 with debian jessie sid</td></tr><tr><td>numpy</td><td>1.9.1</td></tr><tr><td>matplotlib</td><td>1.4.2</td></tr><tr><td>quantities</td><td>0.10.1</td></tr><tr><td colspan='2'>Mon Feb 23 17:50:35 2015 CET</td></tr></table>"
       ],
       "json": [
        "{\"Software versions\": [{\"version\": \"2.7.9 64bit [GCC 4.4.7 20120313 (Red Hat 4.4.7-1)]\", \"module\": \"Python\"}, {\"version\": \"2.3.1\", \"module\": \"IPython\"}, {\"version\": \"Linux 3.13.0 45 generic x86_64 with debian jessie sid\", \"module\": \"OS\"}, {\"version\": \"1.9.1\", \"module\": \"numpy\"}, {\"version\": \"1.4.2\", \"module\": \"matplotlib\"}, {\"version\": \"0.10.1\", \"module\": \"quantities\"}]}"
       ],
       "latex": [
        "\\begin{tabular}{|l|l|}\\hline\n",
        "{\\bf Software} & {\\bf Version} \\\\ \\hline\\hline\n",
        "Python & 2.7.9 64bit [GCC 4.4.7 20120313 (Red Hat 4.4.7-1)] \\\\ \\hline\n",
        "IPython & 2.3.1 \\\\ \\hline\n",
        "OS & Linux 3.13.0 45 generic x86\\_64 with debian jessie sid \\\\ \\hline\n",
        "numpy & 1.9.1 \\\\ \\hline\n",
        "matplotlib & 1.4.2 \\\\ \\hline\n",
        "quantities & 0.10.1 \\\\ \\hline\n",
        "\\hline \\multicolumn{2}{|l|}{Mon Feb 23 17:50:35 2015 CET} \\\\ \\hline\n",
        "\\end{tabular}\n"
       ],
       "metadata": {},
       "output_type": "pyout",
       "prompt_number": 1,
       "text": [
        "Software versions\n",
        "Python 2.7.9 64bit [GCC 4.4.7 20120313 (Red Hat 4.4.7-1)]\n",
        "IPython 2.3.1\n",
        "OS Linux 3.13.0 45 generic x86_64 with debian jessie sid\n",
        "numpy 1.9.1\n",
        "matplotlib 1.4.2\n",
        "quantities 0.10.1\n",
        "Mon Feb 23 17:50:35 2015 CET"
       ]
      }
     ],
     "prompt_number": 1
    },
    {
     "cell_type": "heading",
     "level": 2,
     "metadata": {},
     "source": [
      "Apparent magnitude"
     ]
    },
    {
     "cell_type": "markdown",
     "metadata": {},
     "source": [
      "A celestial body of apparent magnitude 1 is by definition 100 times brighter than one of magnitude 6.\n",
      "\n",
      "Therefore, assigning provisionally an apparent brightness of one unit to any magnitude 6 object:\n",
      "\n",
      "$$\n",
      "\\begin{array}{l|c|c|c|c|c|c}\n",
      "\\text{Magnitud} & 1 & 2 & 3 & 4 & 5 & 6 \\\\\\\\\n",
      "\\hline \\\\\\\\\n",
      "\\text{apparent brightness} & k^5 = 100 & k^4 & k^3 & k^2& k & 1 \\\\\\\\\n",
      "\\end{array}\n",
      "$$\n",
      "\n",
      "So the ratio $k$ between an apparent magnitude of value m and an apparent magnitude of value m + 1 will be:\n",
      "\n",
      "$$k = 100^{\\frac{1}{5}}$$"
     ]
    },
    {
     "cell_type": "code",
     "collapsed": false,
     "input": [
      "k = 100**(1./5)\n",
      "print k"
     ],
     "language": "python",
     "metadata": {},
     "outputs": [
      {
       "output_type": "stream",
       "stream": "stdout",
       "text": [
        "2.51188643151\n"
       ]
      }
     ],
     "prompt_number": 2
    },
    {
     "cell_type": "markdown",
     "metadata": {},
     "source": [
      "Actually, the magnitude defining strictly the brightness of a body that is perceived by an observer is the **radiant flux**, defined as the amount of energy per unit of time, which is received  in a given range of wavelengths, within an area oriented perpendicular to the path of light. It is measured in watts per square meter.\n",
      "\n",
      "Let's denote by $F$ the radiant flux received from a body, and be $F_{Vega}$ the radiant flux of the star Vega, which is taken as the magnitude 0 reference at all wavelengths. Then we have:\n",
      "\n",
      "$$\n",
      "\\begin{array}{l|c|c|c|c|c}\n",
      "\\text{Magnitude} & 0 & 1 & 2 & \\cdots & m \\\\\\\\\n",
      "\\hline \\\\\\\\\n",
      "\\text{Radiant flux} & F_{Vega} & \\frac{1}{k} F_{Vega} & \\frac{1}{k^2} F_{Vega} & \\cdots & F = \\frac{1}{k^m} F_{Vega} \\\\\\\\\n",
      "\\end{array}\n",
      "$$\n",
      "\n",
      "If we now consider two objects of apparent magnitudes $m_1$ and $m_2$, and corresponding radiant fluxes $F_1$ and $F_2$, expressed both in terms of $F_ {Vega}$, dividing both terms and simplifying gives the relationship that follows:\n",
      "\n",
      "$$\\frac{F_2}{F_1} = k^{m_1 - m_2}$$\n",
      "\n",
      "And replacing $k$ by its value, we come to the following fundamental formula:\n",
      "\n",
      "$$\\frac{F_2}{F_1} = 100^\\frac{m_1 - m_2}{5}$$\n",
      "\n",
      "Another very common way of expressing the relationship between apparent magnitudes and radiant fluxes is taking logarithms in the above expression, comming to:\n",
      "\n",
      "$$\\boxed{ m_1 - m_2 =  -2.5 \\: log_{10} \\left( \\frac{F_1}{F_2} \\right) }$$"
     ]
    },
    {
     "cell_type": "heading",
     "level": 2,
     "metadata": {},
     "source": [
      "Absolute magnitudes"
     ]
    },
    {
     "cell_type": "markdown",
     "metadata": {},
     "source": [
      "Logically, the apparent magnitude of an object depends on both its intrinsic luminosity and the distance separating it from us. Therefore we shall define an absolute magnitude which gives us an idea of the amount of energy emitted by the object, regardless of the distance at which it is located.\n",
      "\n",
      "Previously, we need to clarify the concept of **Luminosity $L$** of an object, which is defined as the total amount of energy emitted by the object in a second. This magnitude $L$ has a relationship with the radiant flux $F$, since if we assume that the object is at a distance $d$ from us, the total energy radiated per second will be distributed on a spherical surface of area $4 \\pi d^2$, so that the energy that we receive per unit area in one second will be:\n",
      "\n",
      "$$F = \\frac{L}{4 \\pi d^2}$$\n",
      "\n",
      "(Actually the above expression is only an approximation, since a part of the radiated light energy is absorbed or scattered to a greater or lesser extent by dust and gas in the interstellar medium)."
     ]
    },
    {
     "cell_type": "markdown",
     "metadata": {},
     "source": [
      "We now define the **absolute magnitude $M$** of an object as the relative magnitude the object would have if it was at a distance of 10 parsecs (10 pc).\n",
      "\n",
      "Based on the above formulas, we'll derive now an expression for the difference $m-M$ between the apparent magnitude and the absolute magnitude of an object. Denote by $F$ the radiant flux actually measured, and by $F_ {10}$ the radiant flux that we would measure if the object was located at 10 pc from us.\n",
      "\n",
      "\\begin{equation}\n",
      "\\begin{split}\n",
      "m-M & = -2.5 \\: log_{10} \\left( \\frac{F}{F_{10}} \\right) \\\\\n",
      "& = -2.5 \\: log_{10} \\left( \\frac{L}{4 \\pi d^2}  \\cdot \\frac{4 \\pi 10^2}{L} \\right) \\\\\n",
      "& = -2.5 \\: log_{10} \\left( \\frac{10}{d} \\right)^2\n",
      "\\end{split}\n",
      "\\end{equation}\n",
      "\n",
      "That is usually written as:\n",
      "\n",
      "$$ \\boxed{ m-M = 5 \\: log_{10} \\left( \\frac{d}{10} \\right) } $$\n",
      "\n",
      "Where the distance $d$ will be given in parsec.\n",
      "\n",
      "This simple expression allows to calculate the absolute magnitude from the apparent magnitude or vice versa, but the distance between us and the object is quite naturally part of the equation. In fact, if we know the value of $m-M$ we will be able to know also the distance $d$. Therefore, the magnitude $m-M$ can be seen as a way of expressing the distance that separates us from the object in a logarithmic scale, and for this reason it is known as the **distance modulus**"
     ]
    },
    {
     "cell_type": "markdown",
     "metadata": {},
     "source": [
      "Example: the star Vega is located at a distance of 8.1 pc. What is its absolute magnitude?"
     ]
    },
    {
     "cell_type": "code",
     "collapsed": false,
     "input": [
      "m = 0 # Vega is the reference for the apparent magnitude 0\n",
      "\n",
      "M = -5 * np.log10(8.1 / 10)\n",
      "print \"M(Vega) = %.2f\" %M\n",
      "print \"distance modulus of Vega: %.2f\" %(-M)"
     ],
     "language": "python",
     "metadata": {},
     "outputs": [
      {
       "output_type": "stream",
       "stream": "stdout",
       "text": [
        "M(Vega) = 0.46\n",
        "distance modulus of Vega: -0.46\n"
       ]
      }
     ],
     "prompt_number": 3
    },
    {
     "cell_type": "heading",
     "level": 2,
     "metadata": {},
     "source": [
      "Apparent magnitudes in a system of color filters"
     ]
    },
    {
     "cell_type": "markdown",
     "metadata": {},
     "source": [
      "In practice, the apparent magnitude of an object can be measured considering the radiation received at all wavelengths, in which case it is called **bolometric magnitude**, or the light passing through different color filters. A system of filters used routinely for this purpose is called the **UBV photometric system**, or Johnson photometric system, which consists of three filters with the following features:\n",
      "\n",
      "$$\n",
      "\\begin{array}{|l|c|c|}\n",
      "\\text{Filtro} & \\lambda \\: \\text{(Angstroms)}  & \\Delta \\lambda \\: \\text{(Bandwidth)}\\\\\\\\\n",
      "\\hline \\\\\\\\\n",
      "\\text{Ultraviolet (u)} & 3650 & 680 \\\\\\\\\n",
      "\\text{Blue (b)} & 4400 & 980 \\\\\\\\\n",
      "\\text{Visible (v)} & 5500 & 890 \\\\\\\\\n",
      "\\end{array}\n",
      "$$"
     ]
    },
    {
     "cell_type": "markdown",
     "metadata": {},
     "source": [
      "The filter u allows light through in the ultraviolet region, the filter b in the blue region, and the filter v in the green region.\n",
      "\n",
      "The apparent magnitudes measured with these filters are represented by the initials $U, B, V$ (Note that, even for apparent magnitudes, in this case capital letters are used)."
     ]
    },
    {
     "cell_type": "heading",
     "level": 2,
     "metadata": {},
     "source": [
      "Color indexes"
     ]
    },
    {
     "cell_type": "markdown",
     "metadata": {},
     "source": [
      "The apparent magnitude of a body, taken in isolation, is not a good indicator of the properties of that object. Let's imagine we want to learn something about the color of the light emitted by a star and, by making it go through a blue filter we measure a weak apparent magnitude (i.e. , a value of m high). We cannot know whether this is due to the fact that the star radiates little energy in that range of wavelengths or it is merely a very distant star. In short, to know the color of a star we must compare its apparent magnitude measured through at least two filters.\n",
      "\n",
      "Is for this reason that the color indexes are defined as the difference between two apparent magnitudes with two different filters. Thus, for example, in the UBV photometric system we have two color indexes:\n",
      "\n",
      "- Color index $U-B$ : Difference between ultraviolet and blue apparent magnitudes\n",
      "- Color index $B-V$ : Difference between the blue and visible apparent magnitudes\n",
      "\n",
      "Note that, according to the above definition of \"distance modulus\", the relationship between apparent and absolute magnitudes can be written as:\n",
      "\n",
      "$$ m = M + \\mu $$\n",
      "\n",
      "Being $\\mu$ the distance modulus of the object. Therefore:\n",
      "\n",
      "color index =  $m_1 - m_2 = M_1 - M_2 $\n",
      "\n",
      "That is, a color index is independent of the distance at which the object is located!\n"
     ]
    },
    {
     "cell_type": "heading",
     "level": 2,
     "metadata": {},
     "source": [
      "Relationship between temperature and color index"
     ]
    },
    {
     "cell_type": "markdown",
     "metadata": {},
     "source": [
      "One reason that color indices of astronomical objects are so important is because of its close relationship with the surface temperature of the object.\n",
      "\n",
      "The stars radiate according to a spectrum which in a first approximation is close to the spectrum of black body radiation, which depends solely on temperature. In an [earlier post](http://balbuceosastropy.blogspot.com.es/2013/10/the-blackbody-radiation-and-cosmic.html) I showed how to use the Plank function to calculate the radiation emitted by a black body at each wavelength for a given temperature. We will come back to use this function:"
     ]
    },
    {
     "cell_type": "code",
     "collapsed": false,
     "input": [
      "def B(wl,T):\n",
      "    '''wl is an array of wavelengths with units of length\n",
      "    T is a temperature in Kelvin\n",
      "    the result is an array of spectral radiances\n",
      "    with units W/(m**2 * nm * sr)\n",
      "    '''\n",
      "    I = 2 * pq.constants.h * (pq.c)**2 / wl**5 *  \\\n",
      "        1 / (np.exp((pq.constants.h*pq.c \\\n",
      "        / (wl*pq.constants.k*T)).simplified)-1)\n",
      "    return I.rescale(pq.watt/(pq.m**2 * pq.nm *pq.sr))"
     ],
     "language": "python",
     "metadata": {},
     "outputs": [],
     "prompt_number": 4
    },
    {
     "cell_type": "markdown",
     "metadata": {},
     "source": [
      "Now I will show which would be the color index variation as a function of temperature, assuming that the stars were perfect black bodies (wich is which is not exactly the case). To this I will follow the approach to calculating color indices from Plank function set forth in the book [An Introduction to Modern Astrophysics](http://www.amazon.com/Introduction-Modern-Astrophysics-2nd-Edition/dp/0805304029) from Bradley W. Carroll and Dale A. Ostlie, section 3.6. It consists in using the following approximations:"
     ]
    },
    {
     "cell_type": "markdown",
     "metadata": {},
     "source": [
      "$$ U-B = -2.5 \\: log_{10} \\left( \\frac{B(\\lambda_u, T) \\: \\Delta \\lambda_u}{B(\\lambda_b, T) \\: \\Delta \\lambda_b} \\right) +  C_{U-B} $$\n",
      "\n",
      "$$ B-V = -2.5  \\: log_{10} \\left( \\frac{B(\\lambda_b, T) \\: \\Delta \\lambda_b}{B(\\lambda_v, T) \\: \\Delta \\lambda_v} \\right) +  C_{B-V} $$"
     ]
    },
    {
     "cell_type": "markdown",
     "metadata": {},
     "source": [
      "That is to say, in the previously viewed expression between magnitudes and radiant flows, we replace each radiant flow by the product of the spectral radiance given by the function of Plank for the central wavelength of each filter, multiplied by the effective bandwidth of such a filter, and adding a adjustment constant ."
     ]
    },
    {
     "cell_type": "markdown",
     "metadata": {},
     "source": [
      "The adjustment constants $C_{U-B}$ y $C_{B-V}$ will be determined using certain values of T and the color indexes that are used to calibrate the filters. In this [wikipedia article](http://en.wikipedia.org/wiki/Color_index) there is a table with these values. We will use in particular that for a temperature T = 42000K we should obtain values of the color indices UB = -1.19, BV = -0.33"
     ]
    },
    {
     "cell_type": "code",
     "collapsed": false,
     "input": [
      "#  Defining the UBV photometric system constants\n",
      "\n",
      "lambda_u = 365 * pq.nm\n",
      "delta_u = 68 * pq.nm\n",
      "lambda_b = 440 * pq.nm\n",
      "delta_b = 98 * pq.nm\n",
      "lambda_v = 550 * pq.nm\n",
      "delta_v = 89 * pq.nm"
     ],
     "language": "python",
     "metadata": {},
     "outputs": [],
     "prompt_number": 5
    },
    {
     "cell_type": "code",
     "collapsed": false,
     "input": [
      "# Calculating Cu-b\n",
      "\n",
      "T = 42000*pq.kelvin\n",
      "F = B(lambda_u, T) * delta_u/(B(lambda_b, T)* delta_b)\n",
      "Cub = -1.19 + 2.5 * np.log10(F)\n",
      "print Cub\n"
     ],
     "language": "python",
     "metadata": {},
     "outputs": [
      {
       "output_type": "stream",
       "stream": "stdout",
       "text": [
        "-0.874317278235 dimensionless\n"
       ]
      }
     ],
     "prompt_number": 6
    },
    {
     "cell_type": "code",
     "collapsed": false,
     "input": [
      "# Calculating Cb-v\n",
      "\n",
      "F = B(lambda_b, T) * delta_b/(B(lambda_v, T)* delta_v)\n",
      "Cbv = -0.33 + 2.5 * np.log10(F)\n",
      "print Cbv"
     ],
     "language": "python",
     "metadata": {},
     "outputs": [
      {
       "output_type": "stream",
       "stream": "stdout",
       "text": [
        "0.649368425063 dimensionless\n"
       ]
      }
     ],
     "prompt_number": 7
    },
    {
     "cell_type": "markdown",
     "metadata": {},
     "source": [
      "Having determined the constants in the formula that approximates color indices from the black body temperature, we can define functions that will allow us to calculate these color indices for different temperatures."
     ]
    },
    {
     "cell_type": "code",
     "collapsed": false,
     "input": [
      "def get_UB(T):\n",
      "    F = B(lambda_u, T) * delta_u/(B(lambda_b, T)* delta_b)\n",
      "    return -2.5 * np.log10(F) + Cub\n",
      "\n",
      "def get_BV(T):\n",
      "    F = B(lambda_b, T) * delta_b/(B(lambda_v, T)* delta_v)\n",
      "    return -2.5 * np.log10(F) + Cbv\n"
     ],
     "language": "python",
     "metadata": {},
     "outputs": [],
     "prompt_number": 8
    },
    {
     "cell_type": "markdown",
     "metadata": {},
     "source": [
      "And finally I'll plot the curve relating the surface temperature of the object with its color index, assuming, let us have always present, that the object was a perfect black body. For real astronomical objects this curve is only an approximation that will allow a first estimate of its surface temperature as a function of color index.\n",
      "\n",
      "Just to illustrate this last fact, I will represent on the same graph three-star with data of its effective surface temperature and color index"
     ]
    },
    {
     "cell_type": "code",
     "collapsed": false,
     "input": [
      "temp = np.arange(2500, 30000, 100)*pq.Kelvin\n",
      "BmenosV = get_BV(temp)\n",
      "\n",
      "fig, ax = plt.subplots(figsize=(10, 8))\n",
      "ax.plot(BmenosV, temp, lw =2)\n",
      "ax.grid()\n",
      "ax.set_title(\"Relationship Color Index - Temperature \\n \\\n",
      "     for a black body\")\n",
      "ax.title.set_fontsize(18)\n",
      "ax.set_xlabel(\"Color Index B-V\")\n",
      "ax.xaxis.label.set_fontsize(15)\n",
      "ax.set_ylabel(\"Surface Temperature in K\")\n",
      "ax.yaxis.label.set_fontsize(15)\n",
      "\n",
      "# Draw three representative stars\n",
      "\n",
      "T = np.array([3300, 5800, 22000])*pq.kelvin\n",
      "BV = [1.85, 0.656, -0.21]\n",
      "             \n",
      "ax.scatter(BV[0],T[0], s=600, c='r', marker='*')\n",
      "ax.scatter(BV[1],T[1], s=600, c='y', marker='*')\n",
      "ax.scatter(BV[2],T[2], s=600, c='b', marker='*')\n",
      "\n",
      "# Write down the names of the three stars\n",
      "\n",
      "ax.annotate(\"Betelgeuse\", xy=(BV[0],T[0]+1000*pq.kelvin), size=14)\n",
      "ax.annotate(\"Sun\", xy=(BV[1],T[1]+1000*pq.kelvin), size=14)\n",
      "ax.annotate(\"Bellatrix\", xy=(BV[2],T[2]+1000*pq.kelvin), size=14);"
     ],
     "language": "python",
     "metadata": {},
     "outputs": [
      {
       "metadata": {},
       "output_type": "display_data",
       "png": "[encoded data removed]",
       "text": [
        "<matplotlib.figure.Figure at 0x7f68244e8890>"
       ]
      }
     ],
     "prompt_number": 9
    },
    {
     "cell_type": "markdown",
     "metadata": {},
     "source": [
      "The figure above shows that the previous theoretical curve can provide in many cases a reasonable approximation to obtain the effective surface temperatures of the stars from its color index."
     ]
    },
    {
     "cell_type": "heading",
     "level": 2,
     "metadata": {},
     "source": [
      "Color\u2013color diagrams"
     ]
    },
    {
     "cell_type": "markdown",
     "metadata": {},
     "source": [
      "Other diagrams that are often used are the color-color diagrams, in which each axis represents a different color index, for example: U-B over B-V. The fact is that most of the stars are located on a color-color graphic along a well-defined band called **\"stellar locus\"** These diagrams are useful for instance to detect atypical objects that in a color-color diagram are outside of the locus\n",
      "\n",
      "Later, in other entries we will generate color-color diagrams with real data, but at this time we are going to ask what would be the aspect of the color-color diagram of an ideal black body. The answer is, as we shall see, that it would be a straight line! The stellar locus of color-color diagrams of real objects will be to some extent around this straight line\n",
      "\n",
      "Another conclusion we can draw from the next graph is that hotter objects are located in the lower left corner of the graph, and the coldest at the opposite end."
     ]
    },
    {
     "cell_type": "code",
     "collapsed": false,
     "input": [
      "temp = np.arange(2500,30000,100)*pq.kelvin\n",
      "BmenosV = get_BV(temp)\n",
      "UmenosB = get_UB(temp)\n",
      "\n",
      "fig, ax = plt.subplots(figsize=(10, 8))\n",
      "# add .magnitude to avoid matplotlib-quantities issue\n",
      "ax.scatter(BmenosV.magnitude, UmenosB.magnitude)\n",
      "ax.grid()\n",
      "ax.set_title('Black body color-color diagram')\n",
      "ax.title.set_fontsize(20)\n",
      "ax.set_xlabel('B-V')\n",
      "ax.xaxis.label.set_fontsize(15)\n",
      "ax.set_ylabel('U-B')\n",
      "ax.yaxis.label.set_fontsize(15)\n",
      "\n",
      "temp = np.array([3000, 4000, 5000, 7500, 10000, \n",
      "                 20000, 30000])*pq.kelvin\n",
      "BmenosV = get_BV(temp)\n",
      "UmenosB = get_UB(temp)\n",
      "\n",
      "ax.scatter(BmenosV.magnitude, UmenosB.magnitude, s=150., c='r')\n",
      "\n",
      "for t in temp:\n",
      "    ax.annotate(\"%d K\" %t,xy=(get_BV(t).magnitude+0.1,\n",
      "                              get_UB(t).magnitude-0.05))"
     ],
     "language": "python",
     "metadata": {},
     "outputs": [
      {
       "metadata": {},
       "output_type": "display_data",
       "png": "[encoded data removed]",
       "text": [
        "<matplotlib.figure.Figure at 0x7f68244e8690>"
       ]
      }
     ],
     "prompt_number": 10
    }
   ],
   "metadata": {}
  }
 ]
}