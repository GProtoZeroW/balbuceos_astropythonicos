{
 "metadata": {
  "name": "",
  "signature": "sha256:6429e4f2d22d58bc95bbb137405d2b984f4343344498d08a1447451283e76440"
 },
 "nbformat": 3,
 "nbformat_minor": 0,
 "worksheets": [
  {
   "cells": [
    {
     "cell_type": "heading",
     "level": 1,
     "metadata": {},
     "source": [
      "Supernovae and the Hubble diagram"
     ]
    },
    {
     "cell_type": "markdown",
     "metadata": {},
     "source": [
      "Author: [Eduardo Mart\u00edn Calleja](http://balbuceosastropy.blogspot.com.es/)\n",
      "\n",
      "The phenomenon of the expanding universe, separating from each other all those cosmic objects that are not bound by the force of gravitation, is a known fact from the Hubble observations in 1929. The rhythm of this expansion is governed by the so-called Hubble's law, which relates the value of redshift observed in the spectra of distant galaxies with the distance that separates us from them.\n",
      "\n",
      "Hubble's law is usually shown by a diagram showing this redshift in the form of a magnitude with speed units ($c \\, z$) in $Km \\, s^{-1}$ with respect to the distances measured in Megaparsec. Clearly the biggest challenge to produce a diagram of this type is to know the distances that separate us from objects as far away. To do this, the objects known as supernovae play, as we shall see, a crucial role. Once made, this diagram shows an approximately linear relationship between the two variables, with the proportionality constant $ H_0 $ called the Hubble constant. The suffix $ _0 $ indicates that we refer here to its present value, as this can vary over time depending on the model of evolution of the Universe  that is adopted. The current best value of this constant is $H_0 = 67.8 \\, km \\, s ^ {-1} \\; Mpc ^ {-1} $.\n",
      "\n",
      "The purpose of this post is to construct a Hubble diagram and get an approximate value of the Hubble constant."
     ]
    },
    {
     "cell_type": "heading",
     "level": 2,
     "metadata": {},
     "source": [
      "Imports and references"
     ]
    },
    {
     "cell_type": "markdown",
     "metadata": {},
     "source": [
      "The objects we will build this diagram with are the type Ia supernovae obtained in the ** The SDSS Supernova Survey. ** You can consult the [main page](http://www.sdss.org/supernova/aboutsupernova.html) of this survey. A summary with links to relevant documentation for this exercise can be found [here](http://www.sdss3.org/dr10/data_access/supernovae.php).\n",
      "\n",
      "In particular, this is the [table of supernovae found by the SDSS](http://classic.sdss.org/supernova/snlist_confirmed.html) in this survey.\n",
      "\n",
      "An article in wikipedia about supernovas and usefulness of Type Ia supernovae in the calculation of cosmic distances can be found [here](http://en.wikipedia.org/wiki/Supernova). \n",
      "\n",
      "[This](http://capstone2011.cuipblogs.net/files/2011/08/Dunbar-CAPSTONE2011-FinalPoster.pdf) is a poster at a very affordable level with a similar purpose of this post, to make a Hubble diagram with data from the SDSS supernova survey."
     ]
    },
    {
     "cell_type": "code",
     "collapsed": false,
     "input": [
      "%matplotlib inline\n",
      "\n",
      "from __future__ import division\n",
      "\n",
      "import re    # Expresiones regulares\n",
      "import numpy as np\n",
      "import matplotlib.pyplot as plt\n",
      "import pandas as pd\n",
      "import quantities as pq\n",
      "import scipy.stats as s\n",
      "\n",
      "# This IPython magic generates a table with version information\n",
      "#https://github.com/jrjohansson/version_information\n",
      "%load_ext version_information\n",
      "%version_information re, numpy, matplotlib, pandas, quantities, scipy"
     ],
     "language": "python",
     "metadata": {},
     "outputs": [
      {
       "html": [
        "<table><tr><th>Software</th><th>Version</th></tr><tr><td>Python</td><td>2.7.9 64bit [GCC 4.4.7 20120313 (Red Hat 4.4.7-1)]</td></tr><tr><td>IPython</td><td>2.3.1</td></tr><tr><td>OS</td><td>Linux 3.13.0 45 generic x86_64 with debian jessie sid</td></tr><tr><td>re</td><td>2.2.1</td></tr><tr><td>numpy</td><td>1.9.1</td></tr><tr><td>matplotlib</td><td>1.4.2</td></tr><tr><td>pandas</td><td>0.15.2</td></tr><tr><td>quantities</td><td>0.10.1</td></tr><tr><td>scipy</td><td>0.15.1</td></tr><tr><td colspan='2'>Tue Feb 24 20:13:41 2015 CET</td></tr></table>"
       ],
       "json": [
        "{\"Software versions\": [{\"version\": \"2.7.9 64bit [GCC 4.4.7 20120313 (Red Hat 4.4.7-1)]\", \"module\": \"Python\"}, {\"version\": \"2.3.1\", \"module\": \"IPython\"}, {\"version\": \"Linux 3.13.0 45 generic x86_64 with debian jessie sid\", \"module\": \"OS\"}, {\"version\": \"2.2.1\", \"module\": \"re\"}, {\"version\": \"1.9.1\", \"module\": \"numpy\"}, {\"version\": \"1.4.2\", \"module\": \"matplotlib\"}, {\"version\": \"0.15.2\", \"module\": \"pandas\"}, {\"version\": \"0.10.1\", \"module\": \"quantities\"}, {\"version\": \"0.15.1\", \"module\": \"scipy\"}]}"
       ],
       "latex": [
        "\\begin{tabular}{|l|l|}\\hline\n",
        "{\\bf Software} & {\\bf Version} \\\\ \\hline\\hline\n",
        "Python & 2.7.9 64bit [GCC 4.4.7 20120313 (Red Hat 4.4.7-1)] \\\\ \\hline\n",
        "IPython & 2.3.1 \\\\ \\hline\n",
        "OS & Linux 3.13.0 45 generic x86\\_64 with debian jessie sid \\\\ \\hline\n",
        "re & 2.2.1 \\\\ \\hline\n",
        "numpy & 1.9.1 \\\\ \\hline\n",
        "matplotlib & 1.4.2 \\\\ \\hline\n",
        "pandas & 0.15.2 \\\\ \\hline\n",
        "quantities & 0.10.1 \\\\ \\hline\n",
        "scipy & 0.15.1 \\\\ \\hline\n",
        "\\hline \\multicolumn{2}{|l|}{Tue Feb 24 20:13:41 2015 CET} \\\\ \\hline\n",
        "\\end{tabular}\n"
       ],
       "metadata": {},
       "output_type": "pyout",
       "prompt_number": 1,
       "text": [
        "Software versions\n",
        "Python 2.7.9 64bit [GCC 4.4.7 20120313 (Red Hat 4.4.7-1)]\n",
        "IPython 2.3.1\n",
        "OS Linux 3.13.0 45 generic x86_64 with debian jessie sid\n",
        "re 2.2.1\n",
        "numpy 1.9.1\n",
        "matplotlib 1.4.2\n",
        "pandas 0.15.2\n",
        "quantities 0.10.1\n",
        "scipy 0.15.1\n",
        "Tue Feb 24 20:13:41 2015 CET"
       ]
      }
     ],
     "prompt_number": 1
    },
    {
     "cell_type": "code",
     "collapsed": false,
     "input": [
      "# Definition of new constants:\n",
      "earth_radius = 6378160.0 * pq.m\n",
      "moon_radius = 1740000.0 * pq.m\n",
      "sun_radius = 695000000.0 *pq.m\n",
      "earth_mass =  5.97219e24 * pq.kg\n",
      "sun_mass = 332946 * earth_mass\n",
      "Hubble_constant = 67.80 * (pq.km/pq.s)/(1e6*pq.pc)\n",
      "\n",
      "# Definition of new units\n",
      "Mly = pq.UnitQuantity('megalight_year', 1e6*pq.ly, symbol = 'Mly')\n",
      "Mpc = pq.UnitQuantity('megaparsec', 1e6*pq.pc, symbol = 'Mpc')"
     ],
     "language": "python",
     "metadata": {},
     "outputs": [],
     "prompt_number": 2
    },
    {
     "cell_type": "heading",
     "level": 2,
     "metadata": {},
     "source": [
      "A little bit of theory"
     ]
    },
    {
     "cell_type": "heading",
     "level": 3,
     "metadata": {},
     "source": [
      "The homogeneous and isotropic expansion of the universe"
     ]
    },
    {
     "cell_type": "markdown",
     "metadata": {},
     "source": [
      "A feature of the expansion of the universe is that at large scales it is homogeneous (same at all points) and isotropic (same in all directions). An expansion of this type maintains the shape of the objects. For example, a triangle would become, after a certain time, a scaled one, but similar to the first triangle. The similarity ratio is called **scale factor** and depends on the instant $t$ considered, and therefore is designated by $a(t)$.\n",
      "\n",
      "Let's consider now two galaxies, and let $ \\vec r (t_0) $ be the vector that joins them at time $ t_0 $, which we can assume for example to be the present time. In another instant $ t $ the vector joining these two objects will be\n",
      "\n",
      "$$\\vec r(t) = a(t) \\, \\vec r(t_0)$$\n",
      "\n",
      "The speed at whitch the two galaxies move appart will be therefore (a point representing the derivative with respect to time):\n",
      "\n",
      "$$\\vec v_r(t) = \\dot a(t) \\, \\vec r(t_0) = \\dot a(t) \\frac{\\vec r(t)}{a(t)}$$\n",
      "\n",
      "That is:\n",
      "\n",
      "$$ \\vec v_r = \\frac{\\dot a}{a} \\vec r $$\n",
      "\n",
      "And calling $H(t) = \\dot a(t) / a(t)$:\n",
      "\n",
      "$$\\vec v_r = H \\vec r$$\n",
      "\n",
      "Or, removing the vector notation: $v = H \\, r$\n",
      "\n",
      "That is, the speed at which galaxies move appart as a result of the expansion of the universe, is proportional to the distance that separates them. The factor of proportionality, $H$, can vary over time, but at each instant it is the same at all points of the universe. $H = H (t)$ is known as the **Hubble parameter** and, as mentioned before, it is not constant since it may change over time. But most important is to note that this relationship between speed and distance is a fundamental, exact property. A mathematical consequence of a homogeneous and isotropic expansion of the universe, not to be confused with the Hubble law to be seen below and which has a observational nature.\n",
      "\n",
      "\n"
     ]
    },
    {
     "cell_type": "heading",
     "level": 3,
     "metadata": {},
     "source": [
      "Cosmic redshift"
     ]
    },
    {
     "cell_type": "markdown",
     "metadata": {},
     "source": [
      "When we look the light emitted at any wavelength by a distant object, we observe a difference between the wavelength measured by the observer and the light emitted by the object. This discrepancy is known as **redshift** and is characterized by the unitless quantity $z$ defined as:\n",
      "\n",
      "$$z = \\frac{\\lambda_{\\text{obs}}-\\lambda_{\\text{emit}}}{\\lambda_{\\text{emit}}} = \\frac{\\Delta \\lambda}{\\lambda_{emit}}$$\n",
      "\n",
      "Which can also be written as:\n",
      "\n",
      "$$ z + 1 = \\frac{\\lambda_{obs}}{\\lambda_{emit}} $$\n",
      "\n",
      "Now I will consider only the redshift which results from the expansion of the universe. If we imagine it as an expanding grid we would be in the case where both the emitting source and the observer occupy nodes of this grid. That is, we assume that the objects have not any own peculiar motions (actually they always have, but at the long distances considered, its effect will be negligible).\n",
      "\n",
      "Well, in this case it can be demonstrated that the instantaneous wavelength $\\lambda(t)$ is proportional to the scale factor, and we can write:\n",
      "\n",
      "$$\\lambda = \\text{cte} \\cdot a   \\Rightarrow \\lambda \\propto a$$\n",
      "\n",
      "That is, upon universe expansion, the wavelength expands at the same rate, and measuring the wavelength received and comparing it to the emitted one, it is possible to find out how much has expanded the universe while the light has been traveling to reach to us. It is as if the expanding universe \"stretched\" light waves traveling through.\n",
      "\n",
      "For example, if at time $t_{emit}$ a light pulse is emitted and we receive it at time $t_ {now}$, we can write:\n",
      "\n",
      "$$1 + z = \\frac{\\lambda_{now}}{\\lambda_{emit}} = \\frac{a(t_{now})}{a(t_{emit})}$$\n",
      "\n",
      "This redshift, which is not a manifestation of the Doppler effect, but results solely from the expansion of the universe, which is, as we have seen, closely related to the expansion scale factor, is called the **cosmological redshift**, as we will refer to it hereafter in this post."
     ]
    },
    {
     "cell_type": "heading",
     "level": 3,
     "metadata": {},
     "source": [
      "Hubble Law"
     ]
    },
    {
     "cell_type": "markdown",
     "metadata": {},
     "source": [
      "As mentioned, in 1929 Hubble formulated his famous law that states the proportionality between the amount of redshift measured in the spectrum of light that we see from galaxies and their distance obtained by various methods, but mainly by using distance modulus resulting from the comparison between the absolute magnitude and the apparent magnitude of the object:\n",
      "\n",
      "\n",
      "$$ z = \\frac{H_0}{c}d $$\n",
      "\n",
      "At the time, Hubble interpreted the redshift of galaxies as a manifestation of the Doppler effect due to moving away from us. On the other hand, for small values of $z$ the Doppler effect admits the approximation $v \\approx cz$, where $v$ is the source relative velocity away from the observer, so Hubble's law is often written as $v = H_0 d $ although, to clarify the method of obtaining this velocity, it is preferable to write Hubble's law as:\n",
      "\n",
      "$$ c \\, z = H_0 \\, d $$\n",
      "\n",
      "About that, it is worth to make a number of clarifications:\n",
      "\n",
      "* Unlike the theoretical law $v = H (t) \\, r$, the Hubble's law $c \\, z = H_0 \\, d$ is purely experimental, being the result of multiple observations. In fact, this linear relationship is no longer fulfilled for high values of z.\n",
      "\n",
      "* The distance $r$ that appears in the theoretical relationship between recession velocities and distances is the proper, exact distance that separates us from the object, measured in an inertial frame of the observer. That is to say, you would measure the distance by putting one after the other rulers that do not expand with the universe.\n",
      "\n",
      "* Conversely, $d$ (Note the change in notation) is the distance estimated by using different observation methods. Most often that $d$ is the \"luminosity distance\" $d_L$ calculated through the distance modulus seen in this [post](http://balbuceosastropy.blogspot.com.es/2013/11/the-color-of-celestial-objects-part-i.html). The luminosity distance provides a good approximation to the proper distance $r$ for close objects, but deviates from it in the case of the most distant objects\n",
      "\n",
      "* The law $v = H (t) \\, r$ relates speeds and distances in the \"present\", ie, they are speeds and distances now, at the time of doing the observation, measured in the observer's proper time. Instead, $z$ and $d$ are referred to the time when the light was emitted by the object observed.\n",
      "\n",
      "* Due to the coincidence of the velocity $v$ with the magnitude $c \\, z$ for small values of $z$, we can write $H(t_ {now}) = H_0$. The Hubble constant is the value taken at the present moment, by the Hubble parameter\n",
      "\n",
      "An excellent explanation of all these subtleties concerning Hubble's law can be found in the notes of the [Extragalactic Astronomy course](http://www.astro.virginia.edu/class/whittle/astr553/Topic16/Lecture_16.html) from Mark Whittle.\n",
      "\n",
      "After this theoretical introduction, I'm going to obtain the corresponding Hubble diagram from the type Ia supernovae out of the the SDSS survey."
     ]
    },
    {
     "cell_type": "heading",
     "level": 2,
     "metadata": {},
     "source": [
      "Calculation of the distance to a supernova"
     ]
    },
    {
     "cell_type": "markdown",
     "metadata": {},
     "source": [
      "As it has been mentioned, we will focus on Type Ia supernovae. Its main features with a view to their use in the development of a Hubble diagram are:\n",
      "\n",
      "* Its maximum absolute magnitude in the blue filter (B) and visual (V) in the Johnson's UBV photometric system is :\n",
      "\n",
      "    $$M_U \\approx M_V = -19.3 \\pm 0.3$$\n",
      "\n",
      "* Their apparent magnitude $m$ is determined by examining their **light curve**, which is a curve that represents the evolution of $m$ as a function of time.\n",
      "\n",
      "* As their absolute magnitude $M$ is (approximately) constant, we say that Type Ia supernovae are \"**standard candles**\".\n",
      "\n",
      "* Once we have the data of maximum apparent magnitude $m$, we can calculate the distance using the **distance modulus** $\\mu$, expressing that the distance $d_ {Mpc}$ in Megaparsec is given by:\n",
      "\n",
      "    $$\\mu = m - M = 5 \\, \\log_{10}d_{Mpc} + 25$$"
     ]
    },
    {
     "cell_type": "code",
     "collapsed": false,
     "input": [
      "# Example: supose that in the light curve of a Ia supernova\n",
      "# we measure a maximum apparent magnitude of 19.5 with the V filter\n",
      "m = 19.5\n",
      "M = -19.3\n",
      "k = (m-M)/5 - 5\n",
      "d = 10**k\n",
      "print \"The luminosity distance is %d Mpc\" %d"
     ],
     "language": "python",
     "metadata": {},
     "outputs": [
      {
       "output_type": "stream",
       "stream": "stdout",
       "text": [
        "The luminosity distance is 575 Mpc\n"
       ]
      }
     ],
     "prompt_number": 3
    },
    {
     "cell_type": "markdown",
     "metadata": {},
     "source": [
      "To calculate the maximum magnitude, additional corrections can be applied, the most important being the [Phillips relationship](http://en.wikipedia.org/wiki/Phillips_relationship), that we will not use in this post."
     ]
    },
    {
     "cell_type": "heading",
     "level": 2,
     "metadata": {},
     "source": [
      "Reading the light curves files"
     ]
    },
    {
     "cell_type": "markdown",
     "metadata": {},
     "source": [
      "To progress in our study, we need the light curves of Type Ia supernovae identified by the SDSS survey. These have been published in the following article: [\"The Sloan Digital Sky Survey-II: Photometry and Supernova Ia Light Curves from the 2005 data\"](http://arxiv.org/abs/0908.4277) Holtzman et al 2008, AJ, 136, 2306.\n",
      "\n",
      "In fact, what will interest us most are just the light curves in electronic format, which can be downloaded from the page of the [SDSS Supernova Survey](http://classic.sdss.org/supernova/lightcurves.html)\n",
      "\n",
      "So, the first thing to do is download all these files in a subdirectory of our working directory. In my case this subdirectory will be called \"SDSS_light_curves\""
     ]
    },
    {
     "cell_type": "code",
     "collapsed": false,
     "input": [
      "# Get a list with the names of all the downloaded files in the subdirectory\n",
      "lc_files = !ls ../SDSS_light_curves\n",
      "lc_files = list(lc_files.n.split('\\n'))\n",
      "lc_files = lc_files[1:]    # Delete the ReadMe file from the list"
     ],
     "language": "python",
     "metadata": {},
     "outputs": [],
     "prompt_number": 4
    },
    {
     "cell_type": "code",
     "collapsed": false,
     "input": [
      "#A sample of the names...\n",
      "print lc_files[0:3]"
     ],
     "language": "python",
     "metadata": {},
     "outputs": [
      {
       "output_type": "stream",
       "stream": "stdout",
       "text": [
        "['SN10028.snphot-5.04.sum', 'SN10096.snphot-5.04.sum', 'SN10106.snphot-5.04.sum']\n"
       ]
      }
     ],
     "prompt_number": 5
    },
    {
     "cell_type": "markdown",
     "metadata": {},
     "source": [
      "Opening any of these files with a text editor shows that the first 18 rows contain a description of the different data fields. Line 19 is a header line with the names of the data columns, then there are a number of lines with data separated by spaces.\n",
      "\n",
      "I will then read the first of the files creating a Pandas dataframe with the fields that interest us. Once created the dataframe with the data of the first file, I'll go about all files in the subdirectory adding to our data dataframe the \"light curve\" data of each supernova.\n"
     ]
    },
    {
     "cell_type": "code",
     "collapsed": false,
     "input": [
      "filename = lc_files[0]\n",
      "df = pd.read_table('../SDSS_light_curves/'+filename, \n",
      "     skiprows=18, sep=r'\\s+') #Fields separated by spaces\n",
      "df.columns    # List the columns of the dataframe"
     ],
     "language": "python",
     "metadata": {},
     "outputs": [
      {
       "metadata": {},
       "output_type": "pyout",
       "prompt_number": 6,
       "text": [
        "Index([u'#FLAG', u'MJD', u'FILT', u'MAG', u'MERR', u'MSKYERR', u'MGALERR', u'FLUX', u'FLUXERR', u'SKYERR', u'GALERR', u'NPRE', u'TELE', u'RUN', u'STRIP'], dtype='object')"
       ]
      }
     ],
     "prompt_number": 6
    },
    {
     "cell_type": "code",
     "collapsed": false,
     "input": [
      "# Let's use just the four first columns\n",
      "df = df.ix[:,0:4]\n",
      "\n",
      "# Change the name of the first column...\n",
      "df = df.rename(columns={'#FLAG':'FLAG'})\n",
      "df.head()"
     ],
     "language": "python",
     "metadata": {},
     "outputs": [
      {
       "html": [
        "<div style=\"max-height:1000px;max-width:1500px;overflow:auto;\">\n",
        "<table border=\"1\" class=\"dataframe\">\n",
        "  <thead>\n",
        "    <tr style=\"text-align: right;\">\n",
        "      <th></th>\n",
        "      <th>FLAG</th>\n",
        "      <th>MJD</th>\n",
        "      <th>FILT</th>\n",
        "      <th>MAG</th>\n",
        "    </tr>\n",
        "  </thead>\n",
        "  <tbody>\n",
        "    <tr>\n",
        "      <th>0</th>\n",
        "      <td>  0</td>\n",
        "      <td> 53616.363706</td>\n",
        "      <td> 1</td>\n",
        "      <td> 25.659</td>\n",
        "    </tr>\n",
        "    <tr>\n",
        "      <th>1</th>\n",
        "      <td> 32</td>\n",
        "      <td> 53616.360389</td>\n",
        "      <td> 2</td>\n",
        "      <td> 22.739</td>\n",
        "    </tr>\n",
        "    <tr>\n",
        "      <th>2</th>\n",
        "      <td>  0</td>\n",
        "      <td> 53616.361218</td>\n",
        "      <td> 3</td>\n",
        "      <td> 27.020</td>\n",
        "    </tr>\n",
        "    <tr>\n",
        "      <th>3</th>\n",
        "      <td> 32</td>\n",
        "      <td> 53616.362877</td>\n",
        "      <td> 4</td>\n",
        "      <td> 21.498</td>\n",
        "    </tr>\n",
        "    <tr>\n",
        "      <th>4</th>\n",
        "      <td>  4</td>\n",
        "      <td> 53616.362048</td>\n",
        "      <td> 0</td>\n",
        "      <td> 25.049</td>\n",
        "    </tr>\n",
        "  </tbody>\n",
        "</table>\n",
        "</div>"
       ],
       "metadata": {},
       "output_type": "pyout",
       "prompt_number": 7,
       "text": [
        "   FLAG           MJD  FILT     MAG\n",
        "0     0  53616.363706     1  25.659\n",
        "1    32  53616.360389     2  22.739\n",
        "2     0  53616.361218     3  27.020\n",
        "3    32  53616.362877     4  21.498\n",
        "4     4  53616.362048     0  25.049"
       ]
      }
     ],
     "prompt_number": 7
    },
    {
     "cell_type": "markdown",
     "metadata": {},
     "source": [
      "Then I will extract the value of the redshift \"Z\" found in the second line of the file:"
     ]
    },
    {
     "cell_type": "code",
     "collapsed": false,
     "input": [
      "with open('../SDSS_light_curves/'+filename) as f:\n",
      "    f.readline()\n",
      "    scndline = f.readline()\n",
      "resp = re.search(r'[\\d.]+', scndline)  # Using a regular expression\n",
      "Z = resp.group()\n",
      "print scndline\n",
      "print type(Z), Z"
     ],
     "language": "python",
     "metadata": {},
     "outputs": [
      {
       "output_type": "stream",
       "stream": "stdout",
       "text": [
        "# Z:  0.06533 ZERR:  0.00016 SDSS TYPE:  120\n",
        "\n",
        "<type 'str'> 0.06533\n"
       ]
      }
     ],
     "prompt_number": 8
    },
    {
     "cell_type": "markdown",
     "metadata": {},
     "source": [
      "And add a new colum with the Z value, converted to float:"
     ]
    },
    {
     "cell_type": "code",
     "collapsed": false,
     "input": [
      "df['Z'] = float(Z)"
     ],
     "language": "python",
     "metadata": {},
     "outputs": [],
     "prompt_number": 9
    },
    {
     "cell_type": "markdown",
     "metadata": {},
     "source": [
      "We also have to include in the dataframe the id of the supernova, which can be extracted from the file name:"
     ]
    },
    {
     "cell_type": "code",
     "collapsed": false,
     "input": [
      "print filename"
     ],
     "language": "python",
     "metadata": {},
     "outputs": [
      {
       "output_type": "stream",
       "stream": "stdout",
       "text": [
        "SN10028.snphot-5.04.sum\n"
       ]
      }
     ],
     "prompt_number": 10
    },
    {
     "cell_type": "code",
     "collapsed": false,
     "input": [
      "# Extract the supernova id from the filename using a reguolar expression:\n",
      "resp = re.search(r'\\w+', filename)\n",
      "SN = resp.group()\n",
      "print SN     # See if it works..."
     ],
     "language": "python",
     "metadata": {},
     "outputs": [
      {
       "output_type": "stream",
       "stream": "stdout",
       "text": [
        "SN10028\n"
       ]
      }
     ],
     "prompt_number": 11
    },
    {
     "cell_type": "markdown",
     "metadata": {},
     "source": [
      "Then I'll add a column to the dataframe with the id of the supernova"
     ]
    },
    {
     "cell_type": "code",
     "collapsed": false,
     "input": [
      "df['SN'] = SN"
     ],
     "language": "python",
     "metadata": {},
     "outputs": [],
     "prompt_number": 12
    },
    {
     "cell_type": "code",
     "collapsed": false,
     "input": [
      "df.head() # Look at a sample of the data"
     ],
     "language": "python",
     "metadata": {},
     "outputs": [
      {
       "html": [
        "<div style=\"max-height:1000px;max-width:1500px;overflow:auto;\">\n",
        "<table border=\"1\" class=\"dataframe\">\n",
        "  <thead>\n",
        "    <tr style=\"text-align: right;\">\n",
        "      <th></th>\n",
        "      <th>FLAG</th>\n",
        "      <th>MJD</th>\n",
        "      <th>FILT</th>\n",
        "      <th>MAG</th>\n",
        "      <th>Z</th>\n",
        "      <th>SN</th>\n",
        "    </tr>\n",
        "  </thead>\n",
        "  <tbody>\n",
        "    <tr>\n",
        "      <th>0</th>\n",
        "      <td>  0</td>\n",
        "      <td> 53616.363706</td>\n",
        "      <td> 1</td>\n",
        "      <td> 25.659</td>\n",
        "      <td> 0.06533</td>\n",
        "      <td> SN10028</td>\n",
        "    </tr>\n",
        "    <tr>\n",
        "      <th>1</th>\n",
        "      <td> 32</td>\n",
        "      <td> 53616.360389</td>\n",
        "      <td> 2</td>\n",
        "      <td> 22.739</td>\n",
        "      <td> 0.06533</td>\n",
        "      <td> SN10028</td>\n",
        "    </tr>\n",
        "    <tr>\n",
        "      <th>2</th>\n",
        "      <td>  0</td>\n",
        "      <td> 53616.361218</td>\n",
        "      <td> 3</td>\n",
        "      <td> 27.020</td>\n",
        "      <td> 0.06533</td>\n",
        "      <td> SN10028</td>\n",
        "    </tr>\n",
        "    <tr>\n",
        "      <th>3</th>\n",
        "      <td> 32</td>\n",
        "      <td> 53616.362877</td>\n",
        "      <td> 4</td>\n",
        "      <td> 21.498</td>\n",
        "      <td> 0.06533</td>\n",
        "      <td> SN10028</td>\n",
        "    </tr>\n",
        "    <tr>\n",
        "      <th>4</th>\n",
        "      <td>  4</td>\n",
        "      <td> 53616.362048</td>\n",
        "      <td> 0</td>\n",
        "      <td> 25.049</td>\n",
        "      <td> 0.06533</td>\n",
        "      <td> SN10028</td>\n",
        "    </tr>\n",
        "  </tbody>\n",
        "</table>\n",
        "</div>"
       ],
       "metadata": {},
       "output_type": "pyout",
       "prompt_number": 13,
       "text": [
        "   FLAG           MJD  FILT     MAG        Z       SN\n",
        "0     0  53616.363706     1  25.659  0.06533  SN10028\n",
        "1    32  53616.360389     2  22.739  0.06533  SN10028\n",
        "2     0  53616.361218     3  27.020  0.06533  SN10028\n",
        "3    32  53616.362877     4  21.498  0.06533  SN10028\n",
        "4     4  53616.362048     0  25.049  0.06533  SN10028"
       ]
      }
     ],
     "prompt_number": 13
    },
    {
     "cell_type": "markdown",
     "metadata": {},
     "source": [
      "This is the very model we want for our dataframe. Now lets walk the names of the remaining light curve files adding rows to it."
     ]
    },
    {
     "cell_type": "code",
     "collapsed": false,
     "input": [
      "for filename in lc_files[1:]:\n",
      "    dftemp = pd.read_table('../SDSS_light_curves/'+filename, \n",
      "                           skiprows=18, sep=r'\\s+')\n",
      "    dftemp = dftemp.ix[:,0:4]\n",
      "    dftemp = dftemp.rename(columns={'#FLAG':'FLAG'})\n",
      "    with open('../SDSS_light_curves/'+filename) as f:\n",
      "        f.readline()\n",
      "        scndline = f.readline()\n",
      "    resp = re.search(r'[\\d.]+', scndline)\n",
      "    Z = resp.group()\n",
      "    dftemp['Z'] = float(Z)\n",
      "    resp = re.search(r'\\w+', filename)\n",
      "    SN = resp.group()\n",
      "    dftemp['SN'] = SN\n",
      "    df = pd.concat([df, dftemp], ignore_index=True)"
     ],
     "language": "python",
     "metadata": {},
     "outputs": [],
     "prompt_number": 14
    },
    {
     "cell_type": "code",
     "collapsed": false,
     "input": [
      "df.info()"
     ],
     "language": "python",
     "metadata": {},
     "outputs": [
      {
       "output_type": "stream",
       "stream": "stdout",
       "text": [
        "<class 'pandas.core.frame.DataFrame'>\n",
        "Int64Index: 16708 entries, 0 to 16707\n",
        "Data columns (total 6 columns):\n",
        "FLAG    16708 non-null int64\n",
        "MJD     16708 non-null float64\n",
        "FILT    16708 non-null int64\n",
        "MAG     16708 non-null float64\n",
        "Z       16708 non-null float64\n",
        "SN      16708 non-null object\n",
        "dtypes: float64(3), int64(2), object(1)\n",
        "memory usage: 913.7+ KB\n"
       ]
      }
     ],
     "prompt_number": 15
    },
    {
     "cell_type": "code",
     "collapsed": false,
     "input": [
      "df[100:110] # Show some of the rows..."
     ],
     "language": "python",
     "metadata": {},
     "outputs": [
      {
       "html": [
        "<div style=\"max-height:1000px;max-width:1500px;overflow:auto;\">\n",
        "<table border=\"1\" class=\"dataframe\">\n",
        "  <thead>\n",
        "    <tr style=\"text-align: right;\">\n",
        "      <th></th>\n",
        "      <th>FLAG</th>\n",
        "      <th>MJD</th>\n",
        "      <th>FILT</th>\n",
        "      <th>MAG</th>\n",
        "      <th>Z</th>\n",
        "      <th>SN</th>\n",
        "    </tr>\n",
        "  </thead>\n",
        "  <tbody>\n",
        "    <tr>\n",
        "      <th>100</th>\n",
        "      <td>   32</td>\n",
        "      <td> 53704.265479</td>\n",
        "      <td> 1</td>\n",
        "      <td> 18.955</td>\n",
        "      <td> 0.06533</td>\n",
        "      <td> SN10028</td>\n",
        "    </tr>\n",
        "    <tr>\n",
        "      <th>101</th>\n",
        "      <td> 1184</td>\n",
        "      <td> 53704.262162</td>\n",
        "      <td> 2</td>\n",
        "      <td> 18.825</td>\n",
        "      <td> 0.06533</td>\n",
        "      <td> SN10028</td>\n",
        "    </tr>\n",
        "    <tr>\n",
        "      <th>102</th>\n",
        "      <td>   32</td>\n",
        "      <td> 53704.262991</td>\n",
        "      <td> 3</td>\n",
        "      <td> 19.032</td>\n",
        "      <td> 0.06533</td>\n",
        "      <td> SN10028</td>\n",
        "    </tr>\n",
        "    <tr>\n",
        "      <th>103</th>\n",
        "      <td>  160</td>\n",
        "      <td> 53704.264650</td>\n",
        "      <td> 4</td>\n",
        "      <td> 19.148</td>\n",
        "      <td> 0.06533</td>\n",
        "      <td> SN10028</td>\n",
        "    </tr>\n",
        "    <tr>\n",
        "      <th>104</th>\n",
        "      <td>   32</td>\n",
        "      <td> 53704.263820</td>\n",
        "      <td> 0</td>\n",
        "      <td> 20.735</td>\n",
        "      <td> 0.06533</td>\n",
        "      <td> SN10028</td>\n",
        "    </tr>\n",
        "    <tr>\n",
        "      <th>105</th>\n",
        "      <td>    8</td>\n",
        "      <td> 53616.395290</td>\n",
        "      <td> 1</td>\n",
        "      <td> 25.260</td>\n",
        "      <td> 0.07775</td>\n",
        "      <td> SN10096</td>\n",
        "    </tr>\n",
        "    <tr>\n",
        "      <th>106</th>\n",
        "      <td>    0</td>\n",
        "      <td> 53616.391972</td>\n",
        "      <td> 2</td>\n",
        "      <td> 26.469</td>\n",
        "      <td> 0.07775</td>\n",
        "      <td> SN10096</td>\n",
        "    </tr>\n",
        "    <tr>\n",
        "      <th>107</th>\n",
        "      <td>   32</td>\n",
        "      <td> 53616.392802</td>\n",
        "      <td> 3</td>\n",
        "      <td> 23.493</td>\n",
        "      <td> 0.07775</td>\n",
        "      <td> SN10096</td>\n",
        "    </tr>\n",
        "    <tr>\n",
        "      <th>108</th>\n",
        "      <td>   32</td>\n",
        "      <td> 53616.394460</td>\n",
        "      <td> 4</td>\n",
        "      <td> 21.202</td>\n",
        "      <td> 0.07775</td>\n",
        "      <td> SN10096</td>\n",
        "    </tr>\n",
        "    <tr>\n",
        "      <th>109</th>\n",
        "      <td>  128</td>\n",
        "      <td> 53616.393631</td>\n",
        "      <td> 0</td>\n",
        "      <td> 26.155</td>\n",
        "      <td> 0.07775</td>\n",
        "      <td> SN10096</td>\n",
        "    </tr>\n",
        "  </tbody>\n",
        "</table>\n",
        "</div>"
       ],
       "metadata": {},
       "output_type": "pyout",
       "prompt_number": 16,
       "text": [
        "     FLAG           MJD  FILT     MAG        Z       SN\n",
        "100    32  53704.265479     1  18.955  0.06533  SN10028\n",
        "101  1184  53704.262162     2  18.825  0.06533  SN10028\n",
        "102    32  53704.262991     3  19.032  0.06533  SN10028\n",
        "103   160  53704.264650     4  19.148  0.06533  SN10028\n",
        "104    32  53704.263820     0  20.735  0.06533  SN10028\n",
        "105     8  53616.395290     1  25.260  0.07775  SN10096\n",
        "106     0  53616.391972     2  26.469  0.07775  SN10096\n",
        "107    32  53616.392802     3  23.493  0.07775  SN10096\n",
        "108    32  53616.394460     4  21.202  0.07775  SN10096\n",
        "109   128  53616.393631     0  26.155  0.07775  SN10096"
       ]
      }
     ],
     "prompt_number": 16
    },
    {
     "cell_type": "markdown",
     "metadata": {},
     "source": [
      "As indicated in the header of the light curves data files, measures with a flag bigger than 1024 are unreliable. Let's clean up our dataframe removing values with a flag $\\geq$ 1024"
     ]
    },
    {
     "cell_type": "code",
     "collapsed": false,
     "input": [
      "b = df['FLAG'] < 1024\n",
      "df = df[b]\n",
      "df.info()"
     ],
     "language": "python",
     "metadata": {},
     "outputs": [
      {
       "output_type": "stream",
       "stream": "stdout",
       "text": [
        "<class 'pandas.core.frame.DataFrame'>\n",
        "Int64Index: 15838 entries, 0 to 16707\n",
        "Data columns (total 6 columns):\n",
        "FLAG    15838 non-null int64\n",
        "MJD     15838 non-null float64\n",
        "FILT    15838 non-null int64\n",
        "MAG     15838 non-null float64\n",
        "Z       15838 non-null float64\n",
        "SN      15838 non-null object\n",
        "dtypes: float64(3), int64(2), object(1)\n",
        "memory usage: 866.1+ KB\n"
       ]
      }
     ],
     "prompt_number": 17
    },
    {
     "cell_type": "heading",
     "level": 2,
     "metadata": {},
     "source": [
      "Plotting a light curve"
     ]
    },
    {
     "cell_type": "markdown",
     "metadata": {},
     "source": [
      "Although not essential for the purpose of representing a Hubble diagram, In will generate now a graphical representation of the light curve of one of the supernovae whose data has been read, which will help to better understand the whole process."
     ]
    },
    {
     "cell_type": "code",
     "collapsed": false,
     "input": [
      "# Create a list with all Supernovae id\n",
      "list_SN = list(df['SN'].unique())\n",
      "\n",
      "# We choose one of them\n",
      "SNid = list_SN[30]\n",
      "\n",
      "# Select filter 'g' values (filter 1)\n",
      "b = (df['SN'] == SNid) & (df['FILT']==1)\n",
      "df_g = df[b].sort(columns = 'MJD')\n",
      "# And next filter 'r' values (filter 2)\n",
      "b = (df['SN'] == SNid) & (df['FILT']==2)\n",
      "df_r = df[b].sort(columns = 'MJD')"
     ],
     "language": "python",
     "metadata": {},
     "outputs": [],
     "prompt_number": 18
    },
    {
     "cell_type": "markdown",
     "metadata": {},
     "source": [
      "Now we are ready to plot the light curves corresponding to filters \"g\" and \"r\""
     ]
    },
    {
     "cell_type": "code",
     "collapsed": false,
     "input": [
      "f, (ax1, ax2) = plt.subplots(1,2, sharex=True)\n",
      "f.set_size_inches(12, 5)\n",
      "f.suptitle(SNid, fontsize=20)\n",
      "f.subplots_adjust(hspace=0)\n",
      "ax1.plot(df_g['MJD'], df_g['MAG'],'o-g')\n",
      "ax1.invert_yaxis()\n",
      "ax1.set_title('Filter g', fontsize=15)\n",
      "ax1.set_xlabel('MJD')\n",
      "ax1.set_ylabel('MAG')\n",
      "ax2.plot(df_r['MJD'], df_r['MAG'],'o-r')\n",
      "ax2.invert_yaxis()\n",
      "ax2.set_title('Filter r', fontsize=15)\n",
      "ax2.set_xlabel('MJD')\n",
      "ax2.set_ylabel('MAG');"
     ],
     "language": "python",
     "metadata": {},
     "outputs": [
      {
       "metadata": {},
       "output_type": "display_data",
       "png": "[encoded data removed]",
       "text": [
        "<matplotlib.figure.Figure at 0x7f35917b0450>"
       ]
      }
     ],
     "prompt_number": 19
    },
    {
     "cell_type": "markdown",
     "metadata": {},
     "source": [
      "These plots show very well how  the apparent brightness of the supernova increases to a peak from which it decreases more slowly. It is at this maximum when the absolute magnitude reaches a known value that is allowing us to estimate the distance from us.\n",
      "\n",
      "Dates are in the MJD (Modified Julian Date) format. The units are days, so we can also get an idea of the duration of the outbreak of a supernova. The sharp increase in apparent brightness followed by its less abrupt fall is clearly seen in a period of only one month. The total recorded time period is 90 days."
     ]
    },
    {
     "cell_type": "heading",
     "level": 2,
     "metadata": {},
     "source": [
      "Getting the minimum apparent magnitudes"
     ]
    },
    {
     "cell_type": "markdown",
     "metadata": {},
     "source": [
      "Once created the dataframe with the data from all the light curves, we will build the Hubble diagram for these supernovae. A rigorous determination of the distances would require comparing the available light curves with a set of \"standard\" curves and apply corrections to determine the maximum absolute magnitude. I won't do that. I will just create a dataframe selecting the observation data with greater apparent brightness (ie minimum value of the apparent corresponding magnitude) in the \"g\" and \"r\" filters, along with the value of Z and the identification of the supernova."
     ]
    },
    {
     "cell_type": "code",
     "collapsed": false,
     "input": [
      "b = df['FILT'] == 1    # Select \"g\" filter\n",
      "dftemp1 = df.ix[b,['MAG', 'Z', 'SN']]\n",
      "dftemp1.columns = ['g', 'Z', 'SN']\n",
      "grouped = dftemp1.groupby('SN') # Group by supernova id\n",
      "df_g = grouped.min() #Select minimum values\n",
      "\n",
      "b = df['FILT'] == 2    # Select \"r\" filter\n",
      "dftemp2 = df.ix[b,['MAG', 'SN']]\n",
      "dftemp2.columns = ['r', 'SN']\n",
      "grouped = dftemp2.groupby('SN') # Group by supernova id\n",
      "df_r = grouped.min()  #Select magnitude minimum values\n",
      "\n",
      "# Finally we concatenate the columns\n",
      "# of the last two dataframes\n",
      "# Pandas will handle aligning the values\n",
      "# which correspond to a single supernova\n",
      "df_gr = pd.concat([df_g, df_r], axis=1)\n",
      "df_gr['g'] = df_gr['g'].astype(np.float)\n",
      "df_gr['r'] = df_gr['r'].astype(np.float)\n",
      "df_gr = df_gr[['Z', 'g', 'r']] #Reordering columns\n",
      "df_gr.head()"
     ],
     "language": "python",
     "metadata": {},
     "outputs": [
      {
       "html": [
        "<div style=\"max-height:1000px;max-width:1500px;overflow:auto;\">\n",
        "<table border=\"1\" class=\"dataframe\">\n",
        "  <thead>\n",
        "    <tr style=\"text-align: right;\">\n",
        "      <th></th>\n",
        "      <th>Z</th>\n",
        "      <th>g</th>\n",
        "      <th>r</th>\n",
        "    </tr>\n",
        "    <tr>\n",
        "      <th>SN</th>\n",
        "      <th></th>\n",
        "      <th></th>\n",
        "      <th></th>\n",
        "    </tr>\n",
        "  </thead>\n",
        "  <tbody>\n",
        "    <tr>\n",
        "      <th>SN10028</th>\n",
        "      <td> 0.06533</td>\n",
        "      <td> 18.292</td>\n",
        "      <td> 18.354</td>\n",
        "    </tr>\n",
        "    <tr>\n",
        "      <th>SN10096</th>\n",
        "      <td> 0.07775</td>\n",
        "      <td> 20.323</td>\n",
        "      <td> 19.904</td>\n",
        "    </tr>\n",
        "    <tr>\n",
        "      <th>SN10106</th>\n",
        "      <td> 0.14720</td>\n",
        "      <td> 20.844</td>\n",
        "      <td> 20.665</td>\n",
        "    </tr>\n",
        "    <tr>\n",
        "      <th>SN1032</th>\n",
        "      <td> 0.12975</td>\n",
        "      <td> 20.410</td>\n",
        "      <td> 20.205</td>\n",
        "    </tr>\n",
        "    <tr>\n",
        "      <th>SN10434</th>\n",
        "      <td> 0.10430</td>\n",
        "      <td> 19.432</td>\n",
        "      <td> 19.369</td>\n",
        "    </tr>\n",
        "  </tbody>\n",
        "</table>\n",
        "</div>"
       ],
       "metadata": {},
       "output_type": "pyout",
       "prompt_number": 20,
       "text": [
        "               Z       g       r\n",
        "SN                              \n",
        "SN10028  0.06533  18.292  18.354\n",
        "SN10096  0.07775  20.323  19.904\n",
        "SN10106  0.14720  20.844  20.665\n",
        "SN1032   0.12975  20.410  20.205\n",
        "SN10434  0.10430  19.432  19.369"
       ]
      }
     ],
     "prompt_number": 20
    },
    {
     "cell_type": "heading",
     "level": 2,
     "metadata": {},
     "source": [
      "Extinction correction"
     ]
    },
    {
     "cell_type": "markdown",
     "metadata": {},
     "source": [
      "The phenomenon of **interstellar extinction** is the darkening of the light coming from celestial objects, due to absorption and scattering by more or less intense clouds of cosmic dust existing in the interstellar medium. Consequently celestial objects seem less bright, and therefore more distant from, than would correspond to the distance they are actually located.\n",
      "\n",
      "Therefore, we should apply a correction to the values of apparent magnitudes in each of the filters, subtracting in each case a constant $A_ {\\lambda}> 0$, whose effect will be to obtain a smaller magnitude, ie corresponding to a brighter object, which would be the apparent magnitude we would observe if there were no extinction. We can then apply the distance modulus formula to this new magnitude to get a better approximation of the distance that separates the supernova from us."
     ]
    },
    {
     "cell_type": "markdown",
     "metadata": {},
     "source": [
      "Here's an example: The SN722 supernova presents his lowest apparent magnitude in the bandpass filter $g$ with a value of g = 19,394. The extinction correction for its host galaxy in the wavelength of this filter is $A_g$ = 0.10. Estimate its distance, without and with application of the correction."
     ]
    },
    {
     "cell_type": "code",
     "collapsed": false,
     "input": [
      "df_gr.ix['SN722',:]"
     ],
     "language": "python",
     "metadata": {},
     "outputs": [
      {
       "metadata": {},
       "output_type": "pyout",
       "prompt_number": 21,
       "text": [
        "Z     0.08658\n",
        "g    19.39400\n",
        "r    19.19400\n",
        "Name: SN722, dtype: float64"
       ]
      }
     ],
     "prompt_number": 21
    },
    {
     "cell_type": "code",
     "collapsed": false,
     "input": [
      "M = -19.3\n",
      "m = 19.394\n",
      "k = (m-M)/5 - 5\n",
      "d = 10**k    # this is the distance in Mpc\n",
      "print \"Distance without correction: %.2f Mpc\" %d\n",
      "A = 0.10\n",
      "m -= A\n",
      "k = (m-M)/5 - 5\n",
      "d = 10**k\n",
      "print \"Distance with correction: %.2f Mpc\" %d"
     ],
     "language": "python",
     "metadata": {},
     "outputs": [
      {
       "output_type": "stream",
       "stream": "stdout",
       "text": [
        "Distance without correction: 548.02 Mpc\n",
        "Distance with correction: 523.36 Mpc\n"
       ]
      }
     ],
     "prompt_number": 22
    },
    {
     "cell_type": "markdown",
     "metadata": {},
     "source": [
      "We can be sure that these corrections have not been already applied to the data, because the header of each light curves file contains the  comment *\"NO extinction correction applied to mags or fluxes\"*\n",
      "\n",
      "The problem we have to solve now is how to get the values of the extinction corrections for each supernova and band. Fortunately these are included in the header of each file. On line 11 (counting from 1) there is a text like:"
     ]
    },
    {
     "cell_type": "raw",
     "metadata": {},
     "source": [
      "#       SFD extinctions [ugriz] = [  0.13  0.10  0.07  0.05  0.04 ]"
     ]
    },
    {
     "cell_type": "markdown",
     "metadata": {},
     "source": [
      "So I will read each file and obtain the extinction correction values for each supernova"
     ]
    },
    {
     "cell_type": "code",
     "collapsed": false,
     "input": [
      "lc_files = !ls ../SDSS_light_curves\n",
      "lc_files = list(lc_files.n.split('\\n')) # Create a list with filenames\n",
      "lc_files = lc_files[1:]    # Remove the ReadMe file from the list"
     ],
     "language": "python",
     "metadata": {},
     "outputs": [],
     "prompt_number": 23
    },
    {
     "cell_type": "code",
     "collapsed": false,
     "input": [
      "#Create a list with supernovae names\n",
      "# Obtained from the list of file names\n",
      "SN = lambda filename: re.search(r'\\w+', filename).group()\n",
      "\n",
      "#Create two lists with the values of the index and the column names\n",
      "# of the new dataframe to be created with the extinctions corrections \n",
      "# for each SN and filter\n",
      "index = [SN(filename) for filename in lc_files]\n",
      "columns = ['Au', 'Ag', 'Ar', 'Ai', 'Az']\n",
      "\n",
      "#Create an empty dataframe with the right structure\n",
      "df_ext = pd.DataFrame(index=index, columns=columns)\n",
      "df_ext.head()"
     ],
     "language": "python",
     "metadata": {},
     "outputs": [
      {
       "html": [
        "<div style=\"max-height:1000px;max-width:1500px;overflow:auto;\">\n",
        "<table border=\"1\" class=\"dataframe\">\n",
        "  <thead>\n",
        "    <tr style=\"text-align: right;\">\n",
        "      <th></th>\n",
        "      <th>Au</th>\n",
        "      <th>Ag</th>\n",
        "      <th>Ar</th>\n",
        "      <th>Ai</th>\n",
        "      <th>Az</th>\n",
        "    </tr>\n",
        "  </thead>\n",
        "  <tbody>\n",
        "    <tr>\n",
        "      <th>SN10028</th>\n",
        "      <td> NaN</td>\n",
        "      <td> NaN</td>\n",
        "      <td> NaN</td>\n",
        "      <td> NaN</td>\n",
        "      <td> NaN</td>\n",
        "    </tr>\n",
        "    <tr>\n",
        "      <th>SN10096</th>\n",
        "      <td> NaN</td>\n",
        "      <td> NaN</td>\n",
        "      <td> NaN</td>\n",
        "      <td> NaN</td>\n",
        "      <td> NaN</td>\n",
        "    </tr>\n",
        "    <tr>\n",
        "      <th>SN10106</th>\n",
        "      <td> NaN</td>\n",
        "      <td> NaN</td>\n",
        "      <td> NaN</td>\n",
        "      <td> NaN</td>\n",
        "      <td> NaN</td>\n",
        "    </tr>\n",
        "    <tr>\n",
        "      <th>SN1032</th>\n",
        "      <td> NaN</td>\n",
        "      <td> NaN</td>\n",
        "      <td> NaN</td>\n",
        "      <td> NaN</td>\n",
        "      <td> NaN</td>\n",
        "    </tr>\n",
        "    <tr>\n",
        "      <th>SN10434</th>\n",
        "      <td> NaN</td>\n",
        "      <td> NaN</td>\n",
        "      <td> NaN</td>\n",
        "      <td> NaN</td>\n",
        "      <td> NaN</td>\n",
        "    </tr>\n",
        "  </tbody>\n",
        "</table>\n",
        "</div>"
       ],
       "metadata": {},
       "output_type": "pyout",
       "prompt_number": 24,
       "text": [
        "          Au   Ag   Ar   Ai   Az\n",
        "SN10028  NaN  NaN  NaN  NaN  NaN\n",
        "SN10096  NaN  NaN  NaN  NaN  NaN\n",
        "SN10106  NaN  NaN  NaN  NaN  NaN\n",
        "SN1032   NaN  NaN  NaN  NaN  NaN\n",
        "SN10434  NaN  NaN  NaN  NaN  NaN"
       ]
      }
     ],
     "prompt_number": 24
    },
    {
     "cell_type": "code",
     "collapsed": false,
     "input": [
      "# Finally all files are read\n",
      "# Extracting the values of the extinctions\n",
      "# and populating the dataframe df_ext\n",
      "\n",
      "for filename in lc_files:\n",
      "    id = SN(filename)  # Extract supernova id\n",
      "    with open('../SDSS_light_curves/'+filename) as f:\n",
      "        for linea in f:\n",
      "            if 'extinctions' in linea: # This is the line containing extinctions\n",
      "                l_campos = linea.split()\n",
      "                \n",
      "                # Write extinctions in the dataframe\n",
      "                df_ext.ix[id] = [float(a) for a in l_campos[6:11]]\n",
      "                break"
     ],
     "language": "python",
     "metadata": {},
     "outputs": [],
     "prompt_number": 25
    },
    {
     "cell_type": "code",
     "collapsed": false,
     "input": [
      "# Let's check that everything seems OK\n",
      "df_ext.head()"
     ],
     "language": "python",
     "metadata": {},
     "outputs": [
      {
       "html": [
        "<div style=\"max-height:1000px;max-width:1500px;overflow:auto;\">\n",
        "<table border=\"1\" class=\"dataframe\">\n",
        "  <thead>\n",
        "    <tr style=\"text-align: right;\">\n",
        "      <th></th>\n",
        "      <th>Au</th>\n",
        "      <th>Ag</th>\n",
        "      <th>Ar</th>\n",
        "      <th>Ai</th>\n",
        "      <th>Az</th>\n",
        "    </tr>\n",
        "  </thead>\n",
        "  <tbody>\n",
        "    <tr>\n",
        "      <th>SN10028</th>\n",
        "      <td> 0.13</td>\n",
        "      <td>  0.1</td>\n",
        "      <td> 0.07</td>\n",
        "      <td> 0.05</td>\n",
        "      <td> 0.04</td>\n",
        "    </tr>\n",
        "    <tr>\n",
        "      <th>SN10096</th>\n",
        "      <td> 0.14</td>\n",
        "      <td>  0.1</td>\n",
        "      <td> 0.07</td>\n",
        "      <td> 0.06</td>\n",
        "      <td> 0.04</td>\n",
        "    </tr>\n",
        "    <tr>\n",
        "      <th>SN10106</th>\n",
        "      <td> 0.38</td>\n",
        "      <td> 0.28</td>\n",
        "      <td>  0.2</td>\n",
        "      <td> 0.15</td>\n",
        "      <td> 0.11</td>\n",
        "    </tr>\n",
        "    <tr>\n",
        "      <th>SN1032</th>\n",
        "      <td> 0.38</td>\n",
        "      <td> 0.28</td>\n",
        "      <td>  0.2</td>\n",
        "      <td> 0.15</td>\n",
        "      <td> 0.11</td>\n",
        "    </tr>\n",
        "    <tr>\n",
        "      <th>SN10434</th>\n",
        "      <td> 0.48</td>\n",
        "      <td> 0.36</td>\n",
        "      <td> 0.26</td>\n",
        "      <td>  0.2</td>\n",
        "      <td> 0.14</td>\n",
        "    </tr>\n",
        "  </tbody>\n",
        "</table>\n",
        "</div>"
       ],
       "metadata": {},
       "output_type": "pyout",
       "prompt_number": 26,
       "text": [
        "           Au    Ag    Ar    Ai    Az\n",
        "SN10028  0.13   0.1  0.07  0.05  0.04\n",
        "SN10096  0.14   0.1  0.07  0.06  0.04\n",
        "SN10106  0.38  0.28   0.2  0.15  0.11\n",
        "SN1032   0.38  0.28   0.2  0.15  0.11\n",
        "SN10434  0.48  0.36  0.26   0.2  0.14"
       ]
      }
     ],
     "prompt_number": 26
    },
    {
     "cell_type": "markdown",
     "metadata": {},
     "source": [
      "Once we have the extinction corrections, we can correct the apparent magnitudes for the filters $g$ and $r$ in the dataframe \"df_gr\", which was the one containing the apparent magnitude minimum values in each these two filters for each supernova. The correction will simply be subtracting, from each apparent magnitude, the  value of the correction for that filter and supernova."
     ]
    },
    {
     "cell_type": "code",
     "collapsed": false,
     "input": [
      "# Let's first do a deep copy of the dataframe\n",
      "# i.e., copying also the data\n",
      "df_gr_ext = df_gr.copy()\n",
      "\n",
      "# apply extinction corrections\n",
      "df_gr_ext['g'] = df_gr['g'] - df_ext['Ag']\n",
      "df_gr_ext['r'] = df_gr['r'] - df_ext['Ar']"
     ],
     "language": "python",
     "metadata": {},
     "outputs": [],
     "prompt_number": 27
    },
    {
     "cell_type": "code",
     "collapsed": false,
     "input": [
      "# Check in a sample we got the right values\n",
      "df_gr_ext.head()"
     ],
     "language": "python",
     "metadata": {},
     "outputs": [
      {
       "html": [
        "<div style=\"max-height:1000px;max-width:1500px;overflow:auto;\">\n",
        "<table border=\"1\" class=\"dataframe\">\n",
        "  <thead>\n",
        "    <tr style=\"text-align: right;\">\n",
        "      <th></th>\n",
        "      <th>Z</th>\n",
        "      <th>g</th>\n",
        "      <th>r</th>\n",
        "    </tr>\n",
        "    <tr>\n",
        "      <th>SN</th>\n",
        "      <th></th>\n",
        "      <th></th>\n",
        "      <th></th>\n",
        "    </tr>\n",
        "  </thead>\n",
        "  <tbody>\n",
        "    <tr>\n",
        "      <th>SN10028</th>\n",
        "      <td> 0.06533</td>\n",
        "      <td> 18.192</td>\n",
        "      <td> 18.284</td>\n",
        "    </tr>\n",
        "    <tr>\n",
        "      <th>SN10096</th>\n",
        "      <td> 0.07775</td>\n",
        "      <td> 20.223</td>\n",
        "      <td> 19.834</td>\n",
        "    </tr>\n",
        "    <tr>\n",
        "      <th>SN10106</th>\n",
        "      <td> 0.14720</td>\n",
        "      <td> 20.564</td>\n",
        "      <td> 20.465</td>\n",
        "    </tr>\n",
        "    <tr>\n",
        "      <th>SN1032</th>\n",
        "      <td> 0.12975</td>\n",
        "      <td>  20.13</td>\n",
        "      <td> 20.005</td>\n",
        "    </tr>\n",
        "    <tr>\n",
        "      <th>SN10434</th>\n",
        "      <td> 0.10430</td>\n",
        "      <td> 19.072</td>\n",
        "      <td> 19.109</td>\n",
        "    </tr>\n",
        "  </tbody>\n",
        "</table>\n",
        "</div>"
       ],
       "metadata": {},
       "output_type": "pyout",
       "prompt_number": 28,
       "text": [
        "               Z       g       r\n",
        "SN                              \n",
        "SN10028  0.06533  18.192  18.284\n",
        "SN10096  0.07775  20.223  19.834\n",
        "SN10106  0.14720  20.564  20.465\n",
        "SN1032   0.12975   20.13  20.005\n",
        "SN10434  0.10430  19.072  19.109"
       ]
      }
     ],
     "prompt_number": 28
    },
    {
     "cell_type": "heading",
     "level": 2,
     "metadata": {},
     "source": [
      "Correction due to the photometric system used"
     ]
    },
    {
     "cell_type": "markdown",
     "metadata": {},
     "source": [
      "There is still another correction to be carried out. It has been said that we will use M = -19.3  as the value of the maximum absolute magnitude of type Ia supernovae. But this is a valid value only for the filters B and V of the UBV photometric system, while here we are using the SDSS filter system, which is different.\n",
      "\n",
      "One way to take account of this fact is a conversion between the SDSS \"ugriz\" magnitudes, and the magnitudes in the UBV system. There are several algorithms that can be found on [this page](http://www.sdss.org/dr7/algorithms/sdssUBVRITransform.html).\n",
      "\n",
      "For example, I will use the Lupton (2005) transformation, although it is not certain that this is the most appropriate transformation in this case. Furthermore, to carry out this conversion has the additional advantage that for example the calculation of the apparent magnitude in the \"V\" filter, involves the apparent magnitudes in the SDSS \"g\" and \"r\" filters, thereby taking a sort of \"average\" between the two filters.\n",
      "\n",
      "Here is the formula that will be used:"
     ]
    },
    {
     "cell_type": "markdown",
     "metadata": {},
     "source": [
      "$$V = g - 0.5784 (g - r) - 0.0038$$"
     ]
    },
    {
     "cell_type": "markdown",
     "metadata": {},
     "source": [
      "Now I will expand the previous df_gr_ext dataframe, which includes the extinction corrections, creating a new 'V' column calculated with the above formula:"
     ]
    },
    {
     "cell_type": "code",
     "collapsed": false,
     "input": [
      "df_gr_ext['V'] = df_gr_ext['g'] - 0.5784 * (df_gr_ext['g']-df_gr_ext['r']) - 0.0038\n",
      "df_gr_ext.head()"
     ],
     "language": "python",
     "metadata": {},
     "outputs": [
      {
       "html": [
        "<div style=\"max-height:1000px;max-width:1500px;overflow:auto;\">\n",
        "<table border=\"1\" class=\"dataframe\">\n",
        "  <thead>\n",
        "    <tr style=\"text-align: right;\">\n",
        "      <th></th>\n",
        "      <th>Z</th>\n",
        "      <th>g</th>\n",
        "      <th>r</th>\n",
        "      <th>V</th>\n",
        "    </tr>\n",
        "    <tr>\n",
        "      <th>SN</th>\n",
        "      <th></th>\n",
        "      <th></th>\n",
        "      <th></th>\n",
        "      <th></th>\n",
        "    </tr>\n",
        "  </thead>\n",
        "  <tbody>\n",
        "    <tr>\n",
        "      <th>SN10028</th>\n",
        "      <td> 0.06533</td>\n",
        "      <td> 18.192</td>\n",
        "      <td> 18.284</td>\n",
        "      <td> 18.24141</td>\n",
        "    </tr>\n",
        "    <tr>\n",
        "      <th>SN10096</th>\n",
        "      <td> 0.07775</td>\n",
        "      <td> 20.223</td>\n",
        "      <td> 19.834</td>\n",
        "      <td>  19.9942</td>\n",
        "    </tr>\n",
        "    <tr>\n",
        "      <th>SN10106</th>\n",
        "      <td> 0.14720</td>\n",
        "      <td> 20.564</td>\n",
        "      <td> 20.465</td>\n",
        "      <td> 20.50294</td>\n",
        "    </tr>\n",
        "    <tr>\n",
        "      <th>SN1032</th>\n",
        "      <td> 0.12975</td>\n",
        "      <td>  20.13</td>\n",
        "      <td> 20.005</td>\n",
        "      <td>  20.0539</td>\n",
        "    </tr>\n",
        "    <tr>\n",
        "      <th>SN10434</th>\n",
        "      <td> 0.10430</td>\n",
        "      <td> 19.072</td>\n",
        "      <td> 19.109</td>\n",
        "      <td>  19.0896</td>\n",
        "    </tr>\n",
        "  </tbody>\n",
        "</table>\n",
        "</div>"
       ],
       "metadata": {},
       "output_type": "pyout",
       "prompt_number": 29,
       "text": [
        "               Z       g       r         V\n",
        "SN                                        \n",
        "SN10028  0.06533  18.192  18.284  18.24141\n",
        "SN10096  0.07775  20.223  19.834   19.9942\n",
        "SN10106  0.14720  20.564  20.465  20.50294\n",
        "SN1032   0.12975   20.13  20.005   20.0539\n",
        "SN10434  0.10430  19.072  19.109   19.0896"
       ]
      }
     ],
     "prompt_number": 29
    },
    {
     "cell_type": "heading",
     "level": 2,
     "metadata": {},
     "source": [
      "Obtaining the Hubble diagram"
     ]
    },
    {
     "cell_type": "heading",
     "level": 3,
     "metadata": {},
     "source": [
      "Determining recessional velocities"
     ]
    },
    {
     "cell_type": "markdown",
     "metadata": {},
     "source": [
      "Let us first examine the range of z values of supernovae in the SDSS survey"
     ]
    },
    {
     "cell_type": "code",
     "collapsed": false,
     "input": [
      "df_gr_ext['Z'].min(), df_gr_ext['Z'].max()"
     ],
     "language": "python",
     "metadata": {},
     "outputs": [
      {
       "metadata": {},
       "output_type": "pyout",
       "prompt_number": 30,
       "text": [
        "(0.01306, 0.42199999999999999)"
       ]
      }
     ],
     "prompt_number": 30
    },
    {
     "cell_type": "markdown",
     "metadata": {},
     "source": [
      "This tells us that there is at least one observation with a value of z = 0.42, ie, if we use in this case the approximation $v = z \\, c$ we would have an object moving at 42% of the speed of light, which is already a relativistic speed. This means that using this approximation is not valid in cases like this if we interpret the result as the actual speed of recession of the supernova with respect to us.\n",
      "\n",
      "However, as we have seen, the Hubble constant, for large values of the parameter z still continues to be defined as:\n",
      "\n",
      "$$H_0 = \\frac{c \\, z}{d} $$\n",
      "\n",
      "I will use therefore, as usual, $c \\, z$ in implementing the Hubble diagram, although this magnitude should not be interpreted generally as the actual speed of recession of the supernova, but only as an approximation to this speed for $z$ small. The exact relationship between the recession velocity due to the expansion of the universe, and the amount $z$ of redshift depends on the model of the universe under consideration, and requires the use of general relativity. In this regard you can consult the article: [Expanding Confusion: common misconceptions of cosmological horizons and the superluminal expansion of the Universe](http://arxiv.org/abs/astro-ph/0310808)"
     ]
    },
    {
     "cell_type": "code",
     "collapsed": false,
     "input": [
      "z = df_gr_ext['Z']\n",
      "\n",
      "#Pandas series without any attached units. The velocities are in Km/s\n",
      "v = z * pq.c.rescale(pq.km/pq.s).magnitude"
     ],
     "language": "python",
     "metadata": {},
     "outputs": [],
     "prompt_number": 31
    },
    {
     "cell_type": "heading",
     "level": 3,
     "metadata": {},
     "source": [
      "Calculation of distances"
     ]
    },
    {
     "cell_type": "markdown",
     "metadata": {},
     "source": [
      "For the distances we will use the following expression of the distance modulus, where distances $d$ are measured in Mpc:\n",
      "\n",
      "$$\\mu = m - M = 5 \\, \\log_{10}d + 25$$\n",
      "\n",
      "Taking M = -19.3 $ $ as the maximum absolute magnitude of any Type Ia supernova, and being $m$ the value of the maximum apparent magnitude (the lowest value) taken from the dataframe:"
     ]
    },
    {
     "cell_type": "code",
     "collapsed": false,
     "input": [
      "M = -19.3\n",
      "#m = df_gr_ext['V']\n",
      "m = df_gr_ext['V'].astype(np.float)\n",
      "k = (m-M)/5 - 5\n",
      "\n",
      "# d is a Pandas Series with the distance in Mpc\n",
      "d = 10**k"
     ],
     "language": "python",
     "metadata": {},
     "outputs": [],
     "prompt_number": 32
    },
    {
     "cell_type": "heading",
     "level": 3,
     "metadata": {},
     "source": [
      "Getting $H_0$ and the Hubble diagram"
     ]
    },
    {
     "cell_type": "markdown",
     "metadata": {},
     "source": [
      "Now I will do a linear least squares fitting to the values of distances and speeds"
     ]
    },
    {
     "cell_type": "code",
     "collapsed": false,
     "input": [
      "slope, intercept, r_value, p_value, std_err = s.linregress(d,v)\n",
      "print 'The coefficient of determination is r^2 = %.2f' %r_value**2\n",
      "print 'H0 = %.2f' %slope"
     ],
     "language": "python",
     "metadata": {},
     "outputs": [
      {
       "output_type": "stream",
       "stream": "stdout",
       "text": [
        "The coefficient of determination is r^2 = 0.86\n",
        "H0 = 60.71\n"
       ]
      }
     ],
     "prompt_number": 33
    },
    {
     "cell_type": "code",
     "collapsed": false,
     "input": [
      "f, ax = plt.subplots(1)\n",
      "f.set_size_inches(12,8)\n",
      "ax.scatter(d, v, edgecolors='none')\n",
      "ax.set_xlim(0, 2500)\n",
      "ax.set_ylim(0,140000)\n",
      "\n",
      "\n",
      "ax.set_title('Hubble diagram of SDSS-II survey Type Ia supernovae',\n",
      "             fontsize=20)\n",
      "ax.set_xlabel('Distances in Mpc')\n",
      "ax.set_ylabel('$c \\, z \\; Km \\, s^{-1}$')\n",
      "ax.xaxis.label.set_fontsize(15)\n",
      "ax.yaxis.label.set_fontsize(20)\n",
      "\n",
      "ax.plot([0, 3000], [intercept, slope * 3000 + intercept], '-k', lw=2)\n",
      "ax.text(1000, 80000,'Value obtained $H0 = %.2f \\; Km \\; s^{-1} \\; Mpc^{-1}$'\n",
      "        %slope, fontsize=15, rotation = 39)\n",
      "ax.plot([0, 3000], [intercept, 67.80 * 3000 + intercept], ':r', lw=2)\n",
      "ax.text(500, 130000,'Best current value $H0 = 67.80 \\; Km \\; s^{-1} \\; Mpc^{-1}$',\n",
      "        fontsize=15, rotation = 41, color='r')\n",
      "ax.grid();"
     ],
     "language": "python",
     "metadata": {},
     "outputs": [
      {
       "metadata": {},
       "output_type": "display_data",
       "png": "[encoded data removed]",
       "text": [
        "<matplotlib.figure.Figure at 0x7f3591639b50>"
       ]
      }
     ],
     "prompt_number": 34
    },
    {
     "cell_type": "markdown",
     "metadata": {},
     "source": [
      "As can be seen, we have obtained a lower value than the current best value by approximately 10%, which can be considered a good approximation given the very basic method that was used in obtaining the apparent magnitude corresponding to the time of maximum radiation of the supernovae under study. In this regard it may be interesting to read the eventful history of the determination of $H_0$ in [The Ups and Downs of the Hubble Constant](http://arxiv.org/abs/astro-ph/0512584). It has taken about 75 years to get a value of $H_0$ with an uncertainty lower than 10%!\n",
      "\n",
      "This post is already very long, so I will postpone other possibilities of improving the results, like using more sophisticated ways of getting the peak apparent magnitude, take into account other corrections like the Phillips relationship, studying the details of the outlayers in this graph, and so. Maybe for an other post...\n",
      "\n",
      "Well, that concludes this post. I hope you enjoyed it. Until next time!"
     ]
    }
   ],
   "metadata": {}
  }
 ]
}