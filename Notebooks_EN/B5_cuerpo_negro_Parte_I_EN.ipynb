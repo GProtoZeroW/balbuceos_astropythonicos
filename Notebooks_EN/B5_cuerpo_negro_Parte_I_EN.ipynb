{
 "metadata": {
  "name": "",
  "signature": "sha256:202f95a5a6855adc375fa658e660be4751127a9934f82bfce4b58fd533bbea67"
 },
 "nbformat": 3,
 "nbformat_minor": 0,
 "worksheets": [
  {
   "cells": [
    {
     "cell_type": "heading",
     "level": 1,
     "metadata": {},
     "source": [
      "The Blackbody Radiation and the Cosmic Microwave Background (CMB) in Python: part I"
     ]
    },
    {
     "cell_type": "markdown",
     "metadata": {},
     "source": [
      "Autor: [Eduardo Mart\u00edn Calleja](http://balbuceosastropy.blogspot.com.es/)\n",
      "\n",
      "This post is the first in a series of two in which we will examine, with the help of the Python language, the features of the blackbody radiation. In a second part, we will apply it to the particular case of the spectrum of the cosmic microwave background (CMB).\n",
      "\n",
      "The study of the properties of celestial bodies, such as its color or luminosity, needs the concept of an ideal radiation emitter known as a \"blackbody\". The stars radiate energy that depends on its temperature and the length of the radiation wavelength, and the blackbody emission law can be considered as a first approximation of the characteristics of this radiation. For this reason I will show in this post how to build with Python the curves of radiation of a blackbody at different temperatures, which will also constitute a good exercise to practice with the use of physical units with the \"quantities\" Python package, which was the subject of a [previous post](http://balbuceosastropy.blogspot.com.es/2013/09/how-to-work-with-physical-units-in.html).\n",
      "\n",
      "As usual, this entry has been written entirely using the amazing IPython Notebook."
     ]
    },
    {
     "cell_type": "heading",
     "level": 2,
     "metadata": {},
     "source": [
      "Imports and references"
     ]
    },
    {
     "cell_type": "code",
     "collapsed": false,
     "input": [
      "%matplotlib inline\n",
      "\n",
      "from __future__ import division\n",
      "\n",
      "import quantities as pq\n",
      "import numpy as np\n",
      "import matplotlib.pyplot as plt\n",
      "\n",
      "# This IPython magic generates a table with version information\n",
      "# https://github.com/jrjohansson/version_information\n",
      "%load_ext version_information\n",
      "%version_information numpy, matplotlib, quantities"
     ],
     "language": "python",
     "metadata": {},
     "outputs": [
      {
       "html": [
        "<table><tr><th>Software</th><th>Version</th></tr><tr><td>Python</td><td>2.7.9 64bit [GCC 4.4.7 20120313 (Red Hat 4.4.7-1)]</td></tr><tr><td>IPython</td><td>2.3.1</td></tr><tr><td>OS</td><td>Linux 3.13.0 45 generic x86_64 with debian jessie sid</td></tr><tr><td>numpy</td><td>1.9.1</td></tr><tr><td>matplotlib</td><td>1.4.2</td></tr><tr><td>quantities</td><td>0.10.1</td></tr><tr><td colspan='2'>Sat Feb 21 00:33:52 2015 CET</td></tr></table>"
       ],
       "json": [
        "{\"Software versions\": [{\"version\": \"2.7.9 64bit [GCC 4.4.7 20120313 (Red Hat 4.4.7-1)]\", \"module\": \"Python\"}, {\"version\": \"2.3.1\", \"module\": \"IPython\"}, {\"version\": \"Linux 3.13.0 45 generic x86_64 with debian jessie sid\", \"module\": \"OS\"}, {\"version\": \"1.9.1\", \"module\": \"numpy\"}, {\"version\": \"1.4.2\", \"module\": \"matplotlib\"}, {\"version\": \"0.10.1\", \"module\": \"quantities\"}]}"
       ],
       "latex": [
        "\\begin{tabular}{|l|l|}\\hline\n",
        "{\\bf Software} & {\\bf Version} \\\\ \\hline\\hline\n",
        "Python & 2.7.9 64bit [GCC 4.4.7 20120313 (Red Hat 4.4.7-1)] \\\\ \\hline\n",
        "IPython & 2.3.1 \\\\ \\hline\n",
        "OS & Linux 3.13.0 45 generic x86\\_64 with debian jessie sid \\\\ \\hline\n",
        "numpy & 1.9.1 \\\\ \\hline\n",
        "matplotlib & 1.4.2 \\\\ \\hline\n",
        "quantities & 0.10.1 \\\\ \\hline\n",
        "\\hline \\multicolumn{2}{|l|}{Sat Feb 21 00:33:52 2015 CET} \\\\ \\hline\n",
        "\\end{tabular}\n"
       ],
       "metadata": {},
       "output_type": "pyout",
       "prompt_number": 1,
       "text": [
        "Software versions\n",
        "Python 2.7.9 64bit [GCC 4.4.7 20120313 (Red Hat 4.4.7-1)]\n",
        "IPython 2.3.1\n",
        "OS Linux 3.13.0 45 generic x86_64 with debian jessie sid\n",
        "numpy 1.9.1\n",
        "matplotlib 1.4.2\n",
        "quantities 0.10.1\n",
        "Sat Feb 21 00:33:52 2015 CET"
       ]
      }
     ],
     "prompt_number": 1
    },
    {
     "cell_type": "markdown",
     "metadata": {},
     "source": [
      "You can check out the [Planck's law](http://en.wikipedia.org/wiki/Planck%27s_law) in the wikipedia"
     ]
    },
    {
     "cell_type": "heading",
     "level": 2,
     "metadata": {},
     "source": [
      "Blackbody Radiation"
     ]
    },
    {
     "cell_type": "markdown",
     "metadata": {},
     "source": [
      "The Plank equation represents the intensity of the radiation from a blackbody as a function of the wavelength. There is a curve for each blackbody temperature. Its form is:\n",
      "\n",
      "$$ B_\\lambda(T) = \\frac{2hc^2}{\\lambda^5} \\frac{1}{e^\\frac{hc}{\\lambda k_B T} -1}$$\n",
      "\n",
      "$B$ is the **spectral radiance**, defined as the power emitted per unit area within a unit solid angle normal to the area, per unit of wavelength. The letter *B* is commonly used instead of the letter *I* with generically designates intensities, to emphasize that we are specifically referring to a \"blackbody\". Its units, assuming that we measure the wavelengths in namometers, will be: $W m ^ {\u207b2} nm ^ {-1} sr ^ {\u207b1} $, $sr$ being the unit of solid angle \"steradian\".\n"
     ]
    },
    {
     "cell_type": "markdown",
     "metadata": {},
     "source": [
      "The formula above uses the following constants:\n",
      "\n",
      "- $k_B$ is the Boltzmann constant \n",
      "\n",
      "- $h$ is the Plank constant\n",
      "\n",
      "which, in the Python package *quantities* are defined as:"
     ]
    },
    {
     "cell_type": "code",
     "collapsed": false,
     "input": [
      "print repr(pq.constants.Planck_constant)\n",
      "print repr(pq.constants.Boltzmann_constant)"
     ],
     "language": "python",
     "metadata": {},
     "outputs": [
      {
       "output_type": "stream",
       "stream": "stdout",
       "text": [
        "UnitConstant('Planck_constant', 6.62606896e-34 * s*J, 'h')\n",
        "UnitConstant('Boltzmann_constant', 1.3806504e-23 * J/K, 'k')\n"
       ]
      }
     ],
     "prompt_number": 2
    },
    {
     "cell_type": "markdown",
     "metadata": {},
     "source": [
      "Let's define a function that will calculate the spectral radiance according to the previous Plank law:"
     ]
    },
    {
     "cell_type": "code",
     "collapsed": false,
     "input": [
      "def B(wl,T):\n",
      "    '''wl is an array of wavelengths with units of length\n",
      "    T is a temperature in Kelvin\n",
      "    the result is an array of s.r. with units W/(m**2 * nm * sr)\n",
      "    '''\n",
      "    I = 2 * pq.constants.h * (pq.c)**2 / wl**5 *  \\\n",
      "        1 / (np.exp((pq.constants.h*pq.c \\\n",
      "        / (wl*pq.constants.k*T)).simplified)-1)\n",
      "    return I.rescale(pq.watt/(pq.m**2 * pq.nm *pq.sr))"
     ],
     "language": "python",
     "metadata": {},
     "outputs": [],
     "prompt_number": 3
    },
    {
     "cell_type": "markdown",
     "metadata": {},
     "source": [
      "We will check the correct operation of the function with an example:"
     ]
    },
    {
     "cell_type": "code",
     "collapsed": false,
     "input": [
      "B( 5000 *pq.angstrom, 5780 *pq.K)"
     ],
     "language": "python",
     "metadata": {},
     "outputs": [
      {
       "metadata": {},
       "output_type": "pyout",
       "prompt_number": 4,
       "text": [
        "array(26421.629609697076) * W/(m**2*nm*sr)"
       ]
      }
     ],
     "prompt_number": 4
    },
    {
     "cell_type": "markdown",
     "metadata": {},
     "source": [
      "We will then use this function to plot the blackbody radiation curves for four temperatures:"
     ]
    },
    {
     "cell_type": "code",
     "collapsed": false,
     "input": [
      "T1 = 4000 * pq.Kelvin\n",
      "T2 = 5000 * pq.Kelvin\n",
      "T3 = 6000 * pq.Kelvin\n",
      "T4 = 7000 * pq.Kelvin"
     ],
     "language": "python",
     "metadata": {},
     "outputs": [],
     "prompt_number": 5
    },
    {
     "cell_type": "markdown",
     "metadata": {},
     "source": [
      "We will draw the curves with the Python Matplotlib *plot()* function"
     ]
    },
    {
     "cell_type": "code",
     "collapsed": false,
     "input": [
      "wl = np.arange(10,2000,10) * pq.nm\n",
      "fig, ax = plt.subplots(figsize=(12, 8))\n",
      "ax.plot(wl, B(wl,T4), label='7000K')\n",
      "ax.plot(wl, B(wl,T3), label='6000K')\n",
      "ax.plot(wl, B(wl,T2), label='5000K')\n",
      "ax.plot(wl, B(wl,T1), label='4000K')\n",
      "ax.legend()\n",
      "ax.set_title('Blackbody radiation')\n",
      "ax.title.set_fontsize(20)\n",
      "ax.set_xlabel('wavelength in nm')\n",
      "ax.xaxis.label.set_fontsize(15)\n",
      "ax.set_ylabel('spectral radiance $(W m^{-2}nm^{-1}sr^{-1})$')\n",
      "ax.yaxis.label.set_fontsize(15)\n",
      "ax.axvspan(0,400,facecolor = 'violet',alpha = 0.6)\n",
      "ax.axvspan(400,700, facecolor='yellow', alpha = 0.5)\n",
      "ax.axvspan(700,2000, facecolor ='red', alpha = 0.3)\n",
      "ax.text(150,6e4, 'UV', fontsize=30, color = 'b')\n",
      "ax.text(1200,6e4, 'IR', fontsize=30, color = 'r')\n",
      "ax.text(420,6e4, 'VISIBLE', fontsize=20, color = 'green');"
     ],
     "language": "python",
     "metadata": {},
     "outputs": [
      {
       "metadata": {},
       "output_type": "display_data",
       "png": "[encoded data removed]",
       "text": [
        "<matplotlib.figure.Figure at 0x7f75cac46c50>"
       ]
      }
     ],
     "prompt_number": 6
    },
    {
     "cell_type": "markdown",
     "metadata": {},
     "source": [
      "The previous figure shows crearly that, as the blackbody temperature rises, the maximum of the emitted intensity will correspond to wavelengths increasingly shorter, i.e., higher frequencies, most energetic photons, entering this maximum, starting from 7000K, in the ultraviolet region. This fact is expressed mathematically by the Wien law."
     ]
    },
    {
     "cell_type": "heading",
     "level": 2,
     "metadata": {},
     "source": [
      "Wien law"
     ]
    },
    {
     "cell_type": "markdown",
     "metadata": {},
     "source": [
      "The maximum wavelength $\\lambda_{max} $ which emits a black body is given by:\n",
      "\n",
      "$$ \\lambda_{max} = \\frac{b}{T} $$\n",
      "\n",
      "Being $b$ the Wien constant, whose value is given by:\n"
     ]
    },
    {
     "cell_type": "code",
     "collapsed": false,
     "input": [
      "print repr(pq.constants.b)"
     ],
     "language": "python",
     "metadata": {},
     "outputs": [
      {
       "output_type": "stream",
       "stream": "stdout",
       "text": [
        "UnitConstant('Wien_wavelength_displacement_law_constant', 0.0028977685 * m*K, 'b')\n"
       ]
      }
     ],
     "prompt_number": 7
    },
    {
     "cell_type": "markdown",
     "metadata": {},
     "source": [
      "Here are some examples:"
     ]
    },
    {
     "cell_type": "markdown",
     "metadata": {},
     "source": [
      "The star Betelgeuse, in the constellation of Orion, has a surface temperature of 3600K. If we consider it in a first approximation as a blackbody, at what wavelength present its spectrum a maximum of radiation?"
     ]
    },
    {
     "cell_type": "code",
     "collapsed": false,
     "input": [
      "l_max = pq.constants.b/(3600 * pq.K)\n",
      "print '%d Angstrom' %l_max.rescale(pq.angstrom)"
     ],
     "language": "python",
     "metadata": {},
     "outputs": [
      {
       "output_type": "stream",
       "stream": "stdout",
       "text": [
        "8049 Angstrom\n"
       ]
      }
     ],
     "prompt_number": 8
    },
    {
     "cell_type": "markdown",
     "metadata": {},
     "source": [
      "I.e., the radiation of Betelgeuse will reach its peak in the infrared region"
     ]
    },
    {
     "cell_type": "markdown",
     "metadata": {},
     "source": [
      "The Wien law can also be used to estimate the temperature of a star from its spectrum (always with the approach of assuming a model of black body radiation):"
     ]
    },
    {
     "cell_type": "code",
     "collapsed": false,
     "input": [
      "# Suppose that the radiation from a star has its maximum intensity at 400 nm\n",
      "\n",
      "lmax  = 400 * pq.nm\n",
      "\n",
      "T = pq.constants.b / lmax\n",
      "\n",
      "print \"Its effective temperature will be: %d K\" %T.simplified"
     ],
     "language": "python",
     "metadata": {},
     "outputs": [
      {
       "output_type": "stream",
       "stream": "stdout",
       "text": [
        "Its effective temperature will be: 7244 K\n"
       ]
      }
     ],
     "prompt_number": 9
    },
    {
     "cell_type": "heading",
     "level": 2,
     "metadata": {},
     "source": [
      "Stefan\u2013Boltzmann law"
     ]
    },
    {
     "cell_type": "markdown",
     "metadata": {},
     "source": [
      "The Stefan-Boltzmann law is another important consequence of the Plank's radiation law. It indicates that the value of the total energy radiated per unit area and unit of time in all wavelengths, is proportional to the fourth power of the temperature.\n",
      "\n",
      "The total energy radiated by a blackbody per unit area and unit time in all wavelengths is known as **emissive power**, and it is given by:\n",
      "\n",
      "$$ E = \\sigma T^4 $$\n",
      "\t  \t\n",
      "E is measured in $W/m^2$\n",
      "\n",
      "$\\sigma$ is called the Stefan-Boltzmann constant, and its value is:"
     ]
    },
    {
     "cell_type": "code",
     "collapsed": false,
     "input": [
      "print pq.constants.sigma, '=', pq.constants.sigma.simplified"
     ],
     "language": "python",
     "metadata": {},
     "outputs": [
      {
       "output_type": "stream",
       "stream": "stdout",
       "text": [
        "1 sigma (Stefan_Boltzmann_constant) = 5.6704e-08 kg/(s**3*K**4)\n"
       ]
      }
     ],
     "prompt_number": 10
    },
    {
     "cell_type": "markdown",
     "metadata": {},
     "source": [
      "A related concept is that of the **intrinsic brightness** of a star, L, defined as the total energy radiated by the star in a unit of time. If the radius of the star is R and its surface temperature is T, it will be given by:\n",
      "\n",
      "$$L = 4 \\pi R^2 E = 4 \\pi R^2 \\sigma T^4 $$"
     ]
    },
    {
     "cell_type": "markdown",
     "metadata": {},
     "source": [
      "The above formula could be in principle used to calculate the temperature of the star once known its brightness. However stars are not perfect blackbodies, although some approach more than others. For this reason it is used the concept of **effective temperature**, which is the temperature that would have a blackbody whose brightness was the same as the star. This effective temperature can be considered an approximation of the actual temperature of the surface of the star. Here is an example:"
     ]
    },
    {
     "cell_type": "markdown",
     "metadata": {},
     "source": [
      "The brightness of the Sun is: $3.839 \\times 10 ^ {26} W$. What will be its effective temperature?"
     ]
    },
    {
     "cell_type": "code",
     "collapsed": false,
     "input": [
      "# We will need the value of the radius of the Sun:\n",
      "sun_radius = 695000000.0 * pq.m\n",
      "\n",
      "l_sun = 3.839e26 * pq.watt\n",
      "\n",
      "temp_sun = (l_sun/(4 * np.pi * sun_radius**2 * pq.constants.sigma))**(1./4)\n",
      "print temp_sun.simplified"
     ],
     "language": "python",
     "metadata": {},
     "outputs": [
      {
       "output_type": "stream",
       "stream": "stdout",
       "text": [
        "5779.04712292 K\n"
       ]
      }
     ],
     "prompt_number": 11
    },
    {
     "cell_type": "markdown",
     "metadata": {},
     "source": [
      "Well, we wll stop now at this point to make the entry not too long. In my next post I will apply the above to study the radiation spectrum of the cosmic microwave background (CMB) with the help of the Python language."
     ]
    }
   ],
   "metadata": {}
  }
 ]
}