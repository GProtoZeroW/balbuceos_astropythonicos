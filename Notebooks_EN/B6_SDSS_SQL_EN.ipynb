{
 "metadata": {
  "name": "",
  "signature": "sha256:623aee77ba41edcaf8b1dd7f56e9214166fcf939964d90ed461a2923a82e420a"
 },
 "nbformat": 3,
 "nbformat_minor": 0,
 "worksheets": [
  {
   "cells": [
    {
     "cell_type": "heading",
     "level": 1,
     "metadata": {},
     "source": [
      "An easy way to make SQL queries from Python to the SDSS database"
     ]
    },
    {
     "cell_type": "markdown",
     "metadata": {},
     "source": [
      "Author: [Eduardo Mart\u00edn Calleja](http://balbuceosastropy.blogspot.com.es/)\n",
      "\n",
      "In this entry we will see a very simple method of executing SQL queries on the Sloan Digital Sky Survey (SDSS) database. In this way we can get a lot of data about all kinds of celestial objects and load them into Python data structures, like Pandas dataframes, for later process or plotting.\n",
      "\n",
      "This post has been written entirely using the IPython Notebook. I will also use the Python module \"mechanize\" to surf the web and run interactively HTML forms. I will explain in detail each of the steps, and at the end I will summarize to avoid being lost in the details and show the usability of the proposed method."
     ]
    },
    {
     "cell_type": "heading",
     "level": 2,
     "metadata": {},
     "source": [
      "Imports and references"
     ]
    },
    {
     "cell_type": "markdown",
     "metadata": {},
     "source": [
      "- For an introduction to the execution of SQL queries on the SDSS database I can not think of a better resource than their own [tutorial](http://skyserver.sdss3.org/dr10/en/help/howto/search/searchhowtohome.aspx), together with its complement of examples: [Sample SQL Queries](http://skyserver.sdss3.org/dr10/en/help/docs/realquery.aspx)\n",
      "\n",
      "- To view the tables and views that exist in the database, and what information is available in each of them, you can use: [Schema Browser](http://skyserver.sdss3.org/dr10/en/help/browser/browser.aspx)\n",
      "\t  \t\n",
      "- And to run interactively a SQL on the SDSS database, you can access the page: [SQL Search](http://skyserver.sdss3.org/dr10/en/tools/search/sql.aspx)\n",
      "\n",
      "- The [mechanize home page](http://wwwsearch.sourceforge.net/mechanize/)\n",
      "\n",
      "- A nice notebook using the method in this post to query the SDSS database: [here](http://nbviewer.ipython.org/github/drphilmarshall/match.halos/blob/master/match.ipynb)"
     ]
    },
    {
     "cell_type": "code",
     "collapsed": false,
     "input": [
      "%matplotlib inline\n",
      "\n",
      "from __future__ import division\n",
      "\n",
      "import numpy as np\n",
      "import pandas as pd\n",
      "import mechanize\n",
      "from StringIO import StringIO # To read a string like a file\n",
      "\n",
      "# This IPython magic generates a table with version information\n",
      "#https://github.com/jrjohansson/version_information\n",
      "%load_ext version_information\n",
      "%version_information numpy, pandas, StringIO"
     ],
     "language": "python",
     "metadata": {},
     "outputs": [
      {
       "html": [
        "<table><tr><th>Software</th><th>Version</th></tr><tr><td>Python</td><td>2.7.9 64bit [GCC 4.4.7 20120313 (Red Hat 4.4.7-1)]</td></tr><tr><td>IPython</td><td>2.3.1</td></tr><tr><td>OS</td><td>Linux 3.13.0 45 generic x86_64 with debian jessie sid</td></tr><tr><td>numpy</td><td>1.9.1</td></tr><tr><td>pandas</td><td>0.15.2</td></tr><tr><td>StringIO</td><td>StringIO</td></tr><tr><td colspan='2'>Sat Feb 21 12:08:20 2015 CET</td></tr></table>"
       ],
       "json": [
        "{\"Software versions\": [{\"version\": \"2.7.9 64bit [GCC 4.4.7 20120313 (Red Hat 4.4.7-1)]\", \"module\": \"Python\"}, {\"version\": \"2.3.1\", \"module\": \"IPython\"}, {\"version\": \"Linux 3.13.0 45 generic x86_64 with debian jessie sid\", \"module\": \"OS\"}, {\"version\": \"1.9.1\", \"module\": \"numpy\"}, {\"version\": \"0.15.2\", \"module\": \"pandas\"}, {\"version\": \"StringIO\", \"module\": \"StringIO\"}]}"
       ],
       "latex": [
        "\\begin{tabular}{|l|l|}\\hline\n",
        "{\\bf Software} & {\\bf Version} \\\\ \\hline\\hline\n",
        "Python & 2.7.9 64bit [GCC 4.4.7 20120313 (Red Hat 4.4.7-1)] \\\\ \\hline\n",
        "IPython & 2.3.1 \\\\ \\hline\n",
        "OS & Linux 3.13.0 45 generic x86\\_64 with debian jessie sid \\\\ \\hline\n",
        "numpy & 1.9.1 \\\\ \\hline\n",
        "pandas & 0.15.2 \\\\ \\hline\n",
        "StringIO & StringIO \\\\ \\hline\n",
        "\\hline \\multicolumn{2}{|l|}{Sat Feb 21 12:08:20 2015 CET} \\\\ \\hline\n",
        "\\end{tabular}\n"
       ],
       "metadata": {},
       "output_type": "pyout",
       "prompt_number": 1,
       "text": [
        "Software versions\n",
        "Python 2.7.9 64bit [GCC 4.4.7 20120313 (Red Hat 4.4.7-1)]\n",
        "IPython 2.3.1\n",
        "OS Linux 3.13.0 45 generic x86_64 with debian jessie sid\n",
        "numpy 1.9.1\n",
        "pandas 0.15.2\n",
        "StringIO StringIO\n",
        "Sat Feb 21 12:08:20 2015 CET"
       ]
      }
     ],
     "prompt_number": 1
    },
    {
     "cell_type": "code",
     "collapsed": false,
     "input": [
      "# URL to the SDSS SQL Search DR10\n",
      "url = \"http://skyserver.sdss3.org/dr10/en/tools/search/sql.aspx\""
     ],
     "language": "python",
     "metadata": {},
     "outputs": [],
     "prompt_number": 2
    },
    {
     "cell_type": "heading",
     "level": 2,
     "metadata": {},
     "source": [
      "SQL preparation"
     ]
    },
    {
     "cell_type": "markdown",
     "metadata": {},
     "source": [
      "Before we begin to interact from Python with the web page of the SDSS that allows us to send a SQL statement to the database, I will prepare a test SQL query on a string variable. In this SQL we  will find 10 objects (this is a test!) of type 6 = 'STAR', with clean photometry and blue color in a certain region of sky. But, be careful to avoid any comments (those preceded by a double dash -) when you create the string."
     ]
    },
    {
     "cell_type": "code",
     "collapsed": false,
     "input": [
      "s = 'SELECT TOP 10                         \\\n",
      "    objID, ra, dec, modelMag_u, modelMag_g \\\n",
      "FROM                                       \\\n",
      "    PhotoPrimary                           \\\n",
      "WHERE                                      \\\n",
      "    ra BETWEEN 140 and 141                 \\\n",
      "AND dec BETWEEN 20 and 21                  \\\n",
      "AND type = 6                               \\\n",
      "AND clean = 1                              \\\n",
      "AND modelMag_u - modelMag_g < 0.5'"
     ],
     "language": "python",
     "metadata": {},
     "outputs": [],
     "prompt_number": 3
    },
    {
     "cell_type": "heading",
     "level": 2,
     "metadata": {},
     "source": [
      "Web surfing with the Python *mechanize* module"
     ]
    },
    {
     "cell_type": "markdown",
     "metadata": {},
     "source": [
      "The first step in using *mechanize* will be to create a Browser-like object to be able to navigate using its methods"
     ]
    },
    {
     "cell_type": "code",
     "collapsed": false,
     "input": [
      "br = mechanize.Browser()"
     ],
     "language": "python",
     "metadata": {},
     "outputs": [],
     "prompt_number": 4
    },
    {
     "cell_type": "markdown",
     "metadata": {},
     "source": [
      "Then we must open a session using the url defined above, pointing to the SDSS web page that allows us to make the SQL queries:"
     ]
    },
    {
     "cell_type": "code",
     "collapsed": false,
     "input": [
      "resp = br.open(url)"
     ],
     "language": "python",
     "metadata": {},
     "outputs": [],
     "prompt_number": 5
    },
    {
     "cell_type": "code",
     "collapsed": false,
     "input": [
      "resp.info()"
     ],
     "language": "python",
     "metadata": {},
     "outputs": [
      {
       "metadata": {},
       "output_type": "pyout",
       "prompt_number": 6,
       "text": [
        "<httplib.HTTPMessage instance at 0x7f4ba6cdd950>"
       ]
      }
     ],
     "prompt_number": 6
    },
    {
     "cell_type": "markdown",
     "metadata": {},
     "source": [
      "When you want to interact with a web page, you will be interested to know the HTML forms contained in it. An HTML form is a section of the document between the tags: FORM and /FORM"
     ]
    },
    {
     "cell_type": "markdown",
     "metadata": {},
     "source": [
      "A HTML form contains a series of special objects called controls such as checkboxes, radio buttons, menus, etc. and labels of these objects. The user interacts with the page by modifying a control, for example by selecting an option, introducing a text in a field, etc. and sending this modified form back to the server."
     ]
    },
    {
     "cell_type": "markdown",
     "metadata": {},
     "source": [
      "Each HTML form on the page has a name, although this can in some cases be empty. To get a list of the names of the forms in the page we can write:"
     ]
    },
    {
     "cell_type": "code",
     "collapsed": false,
     "input": [
      "for f in br.forms():\n",
      "    print f.name"
     ],
     "language": "python",
     "metadata": {},
     "outputs": [
      {
       "output_type": "stream",
       "stream": "stdout",
       "text": [
        "sql\n"
       ]
      }
     ],
     "prompt_number": 7
    },
    {
     "cell_type": "markdown",
     "metadata": {},
     "source": [
      "That is, in this case there is only one form on the page, named \"sql\"\n",
      "\n",
      "At the same time, each form has a list of controls that also have a name, which can also be left blank. To list the forms on the page, along with their controls, and each control type, we can do the following:"
     ]
    },
    {
     "cell_type": "code",
     "collapsed": false,
     "input": [
      "for f in br.forms():\n",
      "    print f.name\n",
      "    for c in f.controls:\n",
      "        print '\\t',c.name, '\\t', c.type"
     ],
     "language": "python",
     "metadata": {},
     "outputs": [
      {
       "output_type": "stream",
       "stream": "stdout",
       "text": [
        "sql\n",
        "\tclear \tbutton\n",
        "\tcmd \ttextarea\n",
        "\tNone \tsubmit\n",
        "\tsyntax \tcheckbox\n",
        "\tformat \tradio\n",
        "\treset \treset\n"
       ]
      }
     ],
     "prompt_number": 8
    },
    {
     "cell_type": "markdown",
     "metadata": {},
     "source": [
      "We will focus on the \"cmd\" control which is the text area in which we write our SQL, and the \"format\" control, which, as you can see on the web page, is used to control the type of output desired: HTML, XML, CSV, etc.. To access these controls you must previously select the form to which they belong:"
     ]
    },
    {
     "cell_type": "code",
     "collapsed": false,
     "input": [
      "br.select_form(name=\"sql\")"
     ],
     "language": "python",
     "metadata": {},
     "outputs": [],
     "prompt_number": 9
    },
    {
     "cell_type": "markdown",
     "metadata": {},
     "source": [
      "Then we will modify the control 'cmd' to enter our SQL, and the 'format' control, to select the output in csv format. "
     ]
    },
    {
     "cell_type": "code",
     "collapsed": false,
     "input": [
      "br['cmd'] = s  # This is the string with the sql query\n",
      "br['format']=['csv'] # data output format\n",
      "response = br.submit()"
     ],
     "language": "python",
     "metadata": {},
     "outputs": [],
     "prompt_number": 10
    },
    {
     "cell_type": "markdown",
     "metadata": {},
     "source": [
      "We can get a string with the contents of the answer using the get_data() method:"
     ]
    },
    {
     "cell_type": "code",
     "collapsed": false,
     "input": [
      "print response.get_data()"
     ],
     "language": "python",
     "metadata": {},
     "outputs": [
      {
       "output_type": "stream",
       "stream": "stdout",
       "text": [
        "#Table1\n",
        "objID,ra,dec,modelMag_u,modelMag_g\n",
        "1237667293189833237,140.000264887516,20.3528168302492,23.27699,23.07312\n",
        "1237667293189833455,140.001621936922,20.4298007848266,23.79515,24.28631\n",
        "1237667293189832757,140.003651871714,20.2546305174986,24.7036,24.82169\n",
        "1237667430093553674,140.004909940259,20.1719995965921,24.04017,24.81654\n",
        "1237667430093488938,140.009035667549,20.0174593142685,23.4923,23.47844\n",
        "1237667430093488288,140.010686497758,20.0781480229235,19.89794,19.64356\n",
        "1237667209974448712,140.011074894392,20.9763084088396,22.70029,22.85815\n",
        "1237667430093554008,140.012379856521,20.1469377004989,23.12733,22.86493\n",
        "1237667209974448933,140.013140656439,20.9086701836405,23.96772,24.16748\n",
        "1237667430093488949,140.013238349062,20.0312906376057,24.73975,25.34514\n",
        "\n"
       ]
      }
     ],
     "prompt_number": 11
    },
    {
     "cell_type": "markdown",
     "metadata": {},
     "source": [
      "But attention!, The submit() method closes the session, so, to send another SQL query you must first repeat the br.open() and br.select() calls.\n",
      "\n",
      "Then, and in order to be able to process the data more easily, the most advisable could be to generate a Python Pandas dataframe.  We can see that the first line should be discarded, while the second row contains the names of the columns, so we will keep it in the dataframe:"
     ]
    },
    {
     "cell_type": "code",
     "collapsed": false,
     "input": [
      "file_like = StringIO(response.get_data())\n",
      "df =pd.read_csv(file_like, skiprows = 1) # skip the first row\n",
      "df"
     ],
     "language": "python",
     "metadata": {},
     "outputs": [
      {
       "html": [
        "<div style=\"max-height:1000px;max-width:1500px;overflow:auto;\">\n",
        "<table border=\"1\" class=\"dataframe\">\n",
        "  <thead>\n",
        "    <tr style=\"text-align: right;\">\n",
        "      <th></th>\n",
        "      <th>objID</th>\n",
        "      <th>ra</th>\n",
        "      <th>dec</th>\n",
        "      <th>modelMag_u</th>\n",
        "      <th>modelMag_g</th>\n",
        "    </tr>\n",
        "  </thead>\n",
        "  <tbody>\n",
        "    <tr>\n",
        "      <th>0</th>\n",
        "      <td> 1237667293189833237</td>\n",
        "      <td> 140.000265</td>\n",
        "      <td> 20.352817</td>\n",
        "      <td> 23.27699</td>\n",
        "      <td> 23.07312</td>\n",
        "    </tr>\n",
        "    <tr>\n",
        "      <th>1</th>\n",
        "      <td> 1237667293189833455</td>\n",
        "      <td> 140.001622</td>\n",
        "      <td> 20.429801</td>\n",
        "      <td> 23.79515</td>\n",
        "      <td> 24.28631</td>\n",
        "    </tr>\n",
        "    <tr>\n",
        "      <th>2</th>\n",
        "      <td> 1237667293189832757</td>\n",
        "      <td> 140.003652</td>\n",
        "      <td> 20.254631</td>\n",
        "      <td> 24.70360</td>\n",
        "      <td> 24.82169</td>\n",
        "    </tr>\n",
        "    <tr>\n",
        "      <th>3</th>\n",
        "      <td> 1237667430093553674</td>\n",
        "      <td> 140.004910</td>\n",
        "      <td> 20.172000</td>\n",
        "      <td> 24.04017</td>\n",
        "      <td> 24.81654</td>\n",
        "    </tr>\n",
        "    <tr>\n",
        "      <th>4</th>\n",
        "      <td> 1237667430093488938</td>\n",
        "      <td> 140.009036</td>\n",
        "      <td> 20.017459</td>\n",
        "      <td> 23.49230</td>\n",
        "      <td> 23.47844</td>\n",
        "    </tr>\n",
        "    <tr>\n",
        "      <th>5</th>\n",
        "      <td> 1237667430093488288</td>\n",
        "      <td> 140.010686</td>\n",
        "      <td> 20.078148</td>\n",
        "      <td> 19.89794</td>\n",
        "      <td> 19.64356</td>\n",
        "    </tr>\n",
        "    <tr>\n",
        "      <th>6</th>\n",
        "      <td> 1237667209974448712</td>\n",
        "      <td> 140.011075</td>\n",
        "      <td> 20.976308</td>\n",
        "      <td> 22.70029</td>\n",
        "      <td> 22.85815</td>\n",
        "    </tr>\n",
        "    <tr>\n",
        "      <th>7</th>\n",
        "      <td> 1237667430093554008</td>\n",
        "      <td> 140.012380</td>\n",
        "      <td> 20.146938</td>\n",
        "      <td> 23.12733</td>\n",
        "      <td> 22.86493</td>\n",
        "    </tr>\n",
        "    <tr>\n",
        "      <th>8</th>\n",
        "      <td> 1237667209974448933</td>\n",
        "      <td> 140.013141</td>\n",
        "      <td> 20.908670</td>\n",
        "      <td> 23.96772</td>\n",
        "      <td> 24.16748</td>\n",
        "    </tr>\n",
        "    <tr>\n",
        "      <th>9</th>\n",
        "      <td> 1237667430093488949</td>\n",
        "      <td> 140.013238</td>\n",
        "      <td> 20.031291</td>\n",
        "      <td> 24.73975</td>\n",
        "      <td> 25.34514</td>\n",
        "    </tr>\n",
        "  </tbody>\n",
        "</table>\n",
        "</div>"
       ],
       "metadata": {},
       "output_type": "pyout",
       "prompt_number": 12,
       "text": [
        "                 objID          ra        dec  modelMag_u  modelMag_g\n",
        "0  1237667293189833237  140.000265  20.352817    23.27699    23.07312\n",
        "1  1237667293189833455  140.001622  20.429801    23.79515    24.28631\n",
        "2  1237667293189832757  140.003652  20.254631    24.70360    24.82169\n",
        "3  1237667430093553674  140.004910  20.172000    24.04017    24.81654\n",
        "4  1237667430093488938  140.009036  20.017459    23.49230    23.47844\n",
        "5  1237667430093488288  140.010686  20.078148    19.89794    19.64356\n",
        "6  1237667209974448712  140.011075  20.976308    22.70029    22.85815\n",
        "7  1237667430093554008  140.012380  20.146938    23.12733    22.86493\n",
        "8  1237667209974448933  140.013141  20.908670    23.96772    24.16748\n",
        "9  1237667430093488949  140.013238  20.031291    24.73975    25.34514"
       ]
      }
     ],
     "prompt_number": 12
    },
    {
     "cell_type": "markdown",
     "metadata": {},
     "source": [
      "From here we could do such things like rename the columns giving them names more to our liking, and calculate a new column as the difference of the columns u and g, which will indicate the color of the star (more on that in another post)."
     ]
    },
    {
     "cell_type": "code",
     "collapsed": false,
     "input": [
      "df.columns = ['objID','ra','dec','u','g']\n",
      "df['u-g'] = df['u']-df['g']\n",
      "df"
     ],
     "language": "python",
     "metadata": {},
     "outputs": [
      {
       "html": [
        "<div style=\"max-height:1000px;max-width:1500px;overflow:auto;\">\n",
        "<table border=\"1\" class=\"dataframe\">\n",
        "  <thead>\n",
        "    <tr style=\"text-align: right;\">\n",
        "      <th></th>\n",
        "      <th>objID</th>\n",
        "      <th>ra</th>\n",
        "      <th>dec</th>\n",
        "      <th>u</th>\n",
        "      <th>g</th>\n",
        "      <th>u-g</th>\n",
        "    </tr>\n",
        "  </thead>\n",
        "  <tbody>\n",
        "    <tr>\n",
        "      <th>0</th>\n",
        "      <td> 1237667293189833237</td>\n",
        "      <td> 140.000265</td>\n",
        "      <td> 20.352817</td>\n",
        "      <td> 23.27699</td>\n",
        "      <td> 23.07312</td>\n",
        "      <td> 0.20387</td>\n",
        "    </tr>\n",
        "    <tr>\n",
        "      <th>1</th>\n",
        "      <td> 1237667293189833455</td>\n",
        "      <td> 140.001622</td>\n",
        "      <td> 20.429801</td>\n",
        "      <td> 23.79515</td>\n",
        "      <td> 24.28631</td>\n",
        "      <td>-0.49116</td>\n",
        "    </tr>\n",
        "    <tr>\n",
        "      <th>2</th>\n",
        "      <td> 1237667293189832757</td>\n",
        "      <td> 140.003652</td>\n",
        "      <td> 20.254631</td>\n",
        "      <td> 24.70360</td>\n",
        "      <td> 24.82169</td>\n",
        "      <td>-0.11809</td>\n",
        "    </tr>\n",
        "    <tr>\n",
        "      <th>3</th>\n",
        "      <td> 1237667430093553674</td>\n",
        "      <td> 140.004910</td>\n",
        "      <td> 20.172000</td>\n",
        "      <td> 24.04017</td>\n",
        "      <td> 24.81654</td>\n",
        "      <td>-0.77637</td>\n",
        "    </tr>\n",
        "    <tr>\n",
        "      <th>4</th>\n",
        "      <td> 1237667430093488938</td>\n",
        "      <td> 140.009036</td>\n",
        "      <td> 20.017459</td>\n",
        "      <td> 23.49230</td>\n",
        "      <td> 23.47844</td>\n",
        "      <td> 0.01386</td>\n",
        "    </tr>\n",
        "    <tr>\n",
        "      <th>5</th>\n",
        "      <td> 1237667430093488288</td>\n",
        "      <td> 140.010686</td>\n",
        "      <td> 20.078148</td>\n",
        "      <td> 19.89794</td>\n",
        "      <td> 19.64356</td>\n",
        "      <td> 0.25438</td>\n",
        "    </tr>\n",
        "    <tr>\n",
        "      <th>6</th>\n",
        "      <td> 1237667209974448712</td>\n",
        "      <td> 140.011075</td>\n",
        "      <td> 20.976308</td>\n",
        "      <td> 22.70029</td>\n",
        "      <td> 22.85815</td>\n",
        "      <td>-0.15786</td>\n",
        "    </tr>\n",
        "    <tr>\n",
        "      <th>7</th>\n",
        "      <td> 1237667430093554008</td>\n",
        "      <td> 140.012380</td>\n",
        "      <td> 20.146938</td>\n",
        "      <td> 23.12733</td>\n",
        "      <td> 22.86493</td>\n",
        "      <td> 0.26240</td>\n",
        "    </tr>\n",
        "    <tr>\n",
        "      <th>8</th>\n",
        "      <td> 1237667209974448933</td>\n",
        "      <td> 140.013141</td>\n",
        "      <td> 20.908670</td>\n",
        "      <td> 23.96772</td>\n",
        "      <td> 24.16748</td>\n",
        "      <td>-0.19976</td>\n",
        "    </tr>\n",
        "    <tr>\n",
        "      <th>9</th>\n",
        "      <td> 1237667430093488949</td>\n",
        "      <td> 140.013238</td>\n",
        "      <td> 20.031291</td>\n",
        "      <td> 24.73975</td>\n",
        "      <td> 25.34514</td>\n",
        "      <td>-0.60539</td>\n",
        "    </tr>\n",
        "  </tbody>\n",
        "</table>\n",
        "</div>"
       ],
       "metadata": {},
       "output_type": "pyout",
       "prompt_number": 13,
       "text": [
        "                 objID          ra        dec         u         g      u-g\n",
        "0  1237667293189833237  140.000265  20.352817  23.27699  23.07312  0.20387\n",
        "1  1237667293189833455  140.001622  20.429801  23.79515  24.28631 -0.49116\n",
        "2  1237667293189832757  140.003652  20.254631  24.70360  24.82169 -0.11809\n",
        "3  1237667430093553674  140.004910  20.172000  24.04017  24.81654 -0.77637\n",
        "4  1237667430093488938  140.009036  20.017459  23.49230  23.47844  0.01386\n",
        "5  1237667430093488288  140.010686  20.078148  19.89794  19.64356  0.25438\n",
        "6  1237667209974448712  140.011075  20.976308  22.70029  22.85815 -0.15786\n",
        "7  1237667430093554008  140.012380  20.146938  23.12733  22.86493  0.26240\n",
        "8  1237667209974448933  140.013141  20.908670  23.96772  24.16748 -0.19976\n",
        "9  1237667430093488949  140.013238  20.031291  24.73975  25.34514 -0.60539"
       ]
      }
     ],
     "prompt_number": 13
    },
    {
     "cell_type": "heading",
     "level": 2,
     "metadata": {},
     "source": [
      "Summary"
     ]
    },
    {
     "cell_type": "markdown",
     "metadata": {},
     "source": [
      "Once we have seen the rationale of the use of the mechanize module and the creation of a Pandas dataframe, we can define a function to streamline the process for new SQL queries:"
     ]
    },
    {
     "cell_type": "code",
     "collapsed": false,
     "input": [
      "def SDSS_select(sql):\n",
      "    '''input: string with a valid SQL query\n",
      "    output: a Pandas dataframe\n",
      "    '''\n",
      "    br.open(url)\n",
      "    br.select_form(name=\"sql\")\n",
      "    br['cmd'] = sql\n",
      "    br['format']=['csv']\n",
      "    response = br.submit()\n",
      "    file_like = StringIO(response.get_data())\n",
      "    return pd.read_csv(file_like,  skiprows=1)"
     ],
     "language": "python",
     "metadata": {},
     "outputs": [],
     "prompt_number": 14
    },
    {
     "cell_type": "markdown",
     "metadata": {},
     "source": [
      "The steps are as follows:"
     ]
    },
    {
     "cell_type": "markdown",
     "metadata": {},
     "source": [
      "* The following instructions will be executed only the first time:"
     ]
    },
    {
     "cell_type": "code",
     "collapsed": false,
     "input": [
      "# URL a SQL Search DR10\n",
      "url = \"http://skyserver.sdss3.org/dr10/en/tools/search/sql.aspx\""
     ],
     "language": "python",
     "metadata": {},
     "outputs": [],
     "prompt_number": 15
    },
    {
     "cell_type": "markdown",
     "metadata": {},
     "source": [
      "- We prepare a string with our SQL (you can test it first on the web page, as there's no exception handling in the above function)"
     ]
    },
    {
     "cell_type": "code",
     "collapsed": false,
     "input": [
      "sql = 'SELECT TOP 10    \\\n",
      "objID, ra, dec, modelMag_u,modelMag_g,modelMag_r,modelMag_i,modelMag_z \\\n",
      "FROM  Star               \\\n",
      "WHERE ra BETWEEN 150 and 152 AND dec BETWEEN 30 and 31 AND clean = 1'"
     ],
     "language": "python",
     "metadata": {},
     "outputs": [],
     "prompt_number": 16
    },
    {
     "cell_type": "markdown",
     "metadata": {},
     "source": [
      "- We make a call to the function, obtaining a Pandas dataframe in return"
     ]
    },
    {
     "cell_type": "code",
     "collapsed": false,
     "input": [
      "df = SDSS_select(sql)"
     ],
     "language": "python",
     "metadata": {},
     "outputs": [],
     "prompt_number": 17
    },
    {
     "cell_type": "markdown",
     "metadata": {},
     "source": [
      "And we already have our dataframe ready!"
     ]
    },
    {
     "cell_type": "code",
     "collapsed": false,
     "input": [
      "df"
     ],
     "language": "python",
     "metadata": {},
     "outputs": [
      {
       "html": [
        "<div style=\"max-height:1000px;max-width:1500px;overflow:auto;\">\n",
        "<table border=\"1\" class=\"dataframe\">\n",
        "  <thead>\n",
        "    <tr style=\"text-align: right;\">\n",
        "      <th></th>\n",
        "      <th>objID</th>\n",
        "      <th>ra</th>\n",
        "      <th>dec</th>\n",
        "      <th>modelMag_u</th>\n",
        "      <th>modelMag_g</th>\n",
        "      <th>modelMag_r</th>\n",
        "      <th>modelMag_i</th>\n",
        "      <th>modelMag_z</th>\n",
        "    </tr>\n",
        "  </thead>\n",
        "  <tbody>\n",
        "    <tr>\n",
        "      <th>0</th>\n",
        "      <td> 1237664869216289142</td>\n",
        "      <td> 150.000355</td>\n",
        "      <td> 30.732103</td>\n",
        "      <td> 23.06350</td>\n",
        "      <td> 22.79704</td>\n",
        "      <td> 21.60797</td>\n",
        "      <td> 21.22958</td>\n",
        "      <td> 21.32821</td>\n",
        "    </tr>\n",
        "    <tr>\n",
        "      <th>1</th>\n",
        "      <td> 1237665099003593049</td>\n",
        "      <td> 150.000483</td>\n",
        "      <td> 30.591703</td>\n",
        "      <td> 22.71077</td>\n",
        "      <td> 22.14142</td>\n",
        "      <td> 21.63762</td>\n",
        "      <td> 21.84505</td>\n",
        "      <td> 21.44720</td>\n",
        "    </tr>\n",
        "    <tr>\n",
        "      <th>2</th>\n",
        "      <td> 1237665098466656334</td>\n",
        "      <td> 150.000711</td>\n",
        "      <td> 30.105872</td>\n",
        "      <td> 20.72021</td>\n",
        "      <td> 18.12753</td>\n",
        "      <td> 16.79675</td>\n",
        "      <td> 16.08280</td>\n",
        "      <td> 15.69484</td>\n",
        "    </tr>\n",
        "    <tr>\n",
        "      <th>3</th>\n",
        "      <td> 1237665098466656330</td>\n",
        "      <td> 150.000754</td>\n",
        "      <td> 30.097463</td>\n",
        "      <td> 22.66031</td>\n",
        "      <td> 19.98154</td>\n",
        "      <td> 18.61721</td>\n",
        "      <td> 17.61466</td>\n",
        "      <td> 17.07129</td>\n",
        "    </tr>\n",
        "    <tr>\n",
        "      <th>4</th>\n",
        "      <td> 1237664869216289439</td>\n",
        "      <td> 150.000985</td>\n",
        "      <td> 30.748886</td>\n",
        "      <td> 25.00283</td>\n",
        "      <td> 23.08974</td>\n",
        "      <td> 22.20838</td>\n",
        "      <td> 21.99796</td>\n",
        "      <td> 21.30983</td>\n",
        "    </tr>\n",
        "    <tr>\n",
        "      <th>5</th>\n",
        "      <td> 1237664869216288905</td>\n",
        "      <td> 150.001134</td>\n",
        "      <td> 30.829336</td>\n",
        "      <td> 21.41318</td>\n",
        "      <td> 20.29182</td>\n",
        "      <td> 19.80290</td>\n",
        "      <td> 19.55658</td>\n",
        "      <td> 19.49337</td>\n",
        "    </tr>\n",
        "    <tr>\n",
        "      <th>6</th>\n",
        "      <td> 1237665129067840138</td>\n",
        "      <td> 150.001698</td>\n",
        "      <td> 30.483674</td>\n",
        "      <td> 23.61431</td>\n",
        "      <td> 22.05697</td>\n",
        "      <td> 20.63076</td>\n",
        "      <td> 20.13519</td>\n",
        "      <td> 19.81597</td>\n",
        "    </tr>\n",
        "    <tr>\n",
        "      <th>7</th>\n",
        "      <td> 1237665098466657196</td>\n",
        "      <td> 150.002180</td>\n",
        "      <td> 30.248386</td>\n",
        "      <td> 25.05051</td>\n",
        "      <td> 23.19651</td>\n",
        "      <td> 21.70999</td>\n",
        "      <td> 20.04427</td>\n",
        "      <td> 19.07293</td>\n",
        "    </tr>\n",
        "    <tr>\n",
        "      <th>8</th>\n",
        "      <td> 1237665129067840349</td>\n",
        "      <td> 150.002215</td>\n",
        "      <td> 30.429241</td>\n",
        "      <td> 23.51003</td>\n",
        "      <td> 24.00885</td>\n",
        "      <td> 21.71184</td>\n",
        "      <td> 21.25962</td>\n",
        "      <td> 20.59406</td>\n",
        "    </tr>\n",
        "    <tr>\n",
        "      <th>9</th>\n",
        "      <td> 1237665098466656342</td>\n",
        "      <td> 150.002250</td>\n",
        "      <td> 30.174147</td>\n",
        "      <td> 20.84485</td>\n",
        "      <td> 18.57332</td>\n",
        "      <td> 17.56038</td>\n",
        "      <td> 17.15493</td>\n",
        "      <td> 16.93803</td>\n",
        "    </tr>\n",
        "  </tbody>\n",
        "</table>\n",
        "</div>"
       ],
       "metadata": {},
       "output_type": "pyout",
       "prompt_number": 18,
       "text": [
        "                 objID          ra        dec  modelMag_u  modelMag_g  \\\n",
        "0  1237664869216289142  150.000355  30.732103    23.06350    22.79704   \n",
        "1  1237665099003593049  150.000483  30.591703    22.71077    22.14142   \n",
        "2  1237665098466656334  150.000711  30.105872    20.72021    18.12753   \n",
        "3  1237665098466656330  150.000754  30.097463    22.66031    19.98154   \n",
        "4  1237664869216289439  150.000985  30.748886    25.00283    23.08974   \n",
        "5  1237664869216288905  150.001134  30.829336    21.41318    20.29182   \n",
        "6  1237665129067840138  150.001698  30.483674    23.61431    22.05697   \n",
        "7  1237665098466657196  150.002180  30.248386    25.05051    23.19651   \n",
        "8  1237665129067840349  150.002215  30.429241    23.51003    24.00885   \n",
        "9  1237665098466656342  150.002250  30.174147    20.84485    18.57332   \n",
        "\n",
        "   modelMag_r  modelMag_i  modelMag_z  \n",
        "0    21.60797    21.22958    21.32821  \n",
        "1    21.63762    21.84505    21.44720  \n",
        "2    16.79675    16.08280    15.69484  \n",
        "3    18.61721    17.61466    17.07129  \n",
        "4    22.20838    21.99796    21.30983  \n",
        "5    19.80290    19.55658    19.49337  \n",
        "6    20.63076    20.13519    19.81597  \n",
        "7    21.70999    20.04427    19.07293  \n",
        "8    21.71184    21.25962    20.59406  \n",
        "9    17.56038    17.15493    16.93803  "
       ]
      }
     ],
     "prompt_number": 18
    },
    {
     "cell_type": "markdown",
     "metadata": {},
     "source": [
      "Here ends this post, but the access method to the SDSS database we have seen here, will be used systematically in future posts, to analyze with Python, based on real data, various properties of celestial objects."
     ]
    }
   ],
   "metadata": {}
  }
 ]
}